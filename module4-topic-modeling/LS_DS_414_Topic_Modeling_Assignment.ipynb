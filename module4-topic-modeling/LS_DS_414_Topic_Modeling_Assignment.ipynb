{
 "cells": [
  {
   "cell_type": "markdown",
   "metadata": {},
   "source": [
    "<img align=\"left\" src=\"https://lever-client-logos.s3.amazonaws.com/864372b1-534c-480e-acd5-9711f850815c-1524247202159.png\" width=200>\n",
    "<br></br>\n",
    "<br></br>\n",
    "\n",
    "# Topic Modeling\n",
    "## *Data Science Unit 4 Sprint 1 Assignment 4*\n",
    "\n",
    "Analyze a corpus of Amazon reviews from Unit 4 Sprint 1 Module 1's lecture using topic modeling: \n",
    "\n",
    "- Fit a Gensim LDA topic model on Amazon Reviews\n",
    "- Select appropriate number of topics\n",
    "- Create some dope visualization of the topics\n",
    "- Write a few bullets on your findings in markdown at the end\n",
    "- **Note**: You don't *have* to use generators for this assignment"
   ]
  },
  {
   "cell_type": "code",
   "execution_count": 1,
   "metadata": {},
   "outputs": [],
   "source": [
    "#Start Here\n",
    "\n",
    "#Importing and reading the dataframe\n",
    "import pandas as pd\n",
    "df = pd.read_csv('./data/Datafiniti_Amazon_Consumer_Reviews_of_Amazon_Products_May19.csv')"
   ]
  },
  {
   "cell_type": "code",
   "execution_count": 2,
   "metadata": {},
   "outputs": [
    {
     "data": {
      "text/plain": [
       "(28332, 24)"
      ]
     },
     "execution_count": 2,
     "metadata": {},
     "output_type": "execute_result"
    }
   ],
   "source": [
    "df.shape"
   ]
  },
  {
   "cell_type": "code",
   "execution_count": 3,
   "metadata": {},
   "outputs": [
    {
     "data": {
      "text/html": [
       "<div>\n",
       "<style scoped>\n",
       "    .dataframe tbody tr th:only-of-type {\n",
       "        vertical-align: middle;\n",
       "    }\n",
       "\n",
       "    .dataframe tbody tr th {\n",
       "        vertical-align: top;\n",
       "    }\n",
       "\n",
       "    .dataframe thead th {\n",
       "        text-align: right;\n",
       "    }\n",
       "</style>\n",
       "<table border=\"1\" class=\"dataframe\">\n",
       "  <thead>\n",
       "    <tr style=\"text-align: right;\">\n",
       "      <th></th>\n",
       "      <th>id</th>\n",
       "      <th>dateAdded</th>\n",
       "      <th>dateUpdated</th>\n",
       "      <th>name</th>\n",
       "      <th>asins</th>\n",
       "      <th>brand</th>\n",
       "      <th>categories</th>\n",
       "      <th>primaryCategories</th>\n",
       "      <th>imageURLs</th>\n",
       "      <th>keys</th>\n",
       "      <th>...</th>\n",
       "      <th>reviews.didPurchase</th>\n",
       "      <th>reviews.doRecommend</th>\n",
       "      <th>reviews.id</th>\n",
       "      <th>reviews.numHelpful</th>\n",
       "      <th>reviews.rating</th>\n",
       "      <th>reviews.sourceURLs</th>\n",
       "      <th>reviews.text</th>\n",
       "      <th>reviews.title</th>\n",
       "      <th>reviews.username</th>\n",
       "      <th>sourceURLs</th>\n",
       "    </tr>\n",
       "  </thead>\n",
       "  <tbody>\n",
       "    <tr>\n",
       "      <th>0</th>\n",
       "      <td>AVpgNzjwLJeJML43Kpxn</td>\n",
       "      <td>2015-10-30T08:59:32Z</td>\n",
       "      <td>2019-04-25T09:08:16Z</td>\n",
       "      <td>AmazonBasics AAA Performance Alkaline Batterie...</td>\n",
       "      <td>B00QWO9P0O,B00LH3DMUO</td>\n",
       "      <td>Amazonbasics</td>\n",
       "      <td>AA,AAA,Health,Electronics,Health &amp; Household,C...</td>\n",
       "      <td>Health &amp; Beauty</td>\n",
       "      <td>https://images-na.ssl-images-amazon.com/images...</td>\n",
       "      <td>amazonbasics/hl002619,amazonbasicsaaaperforman...</td>\n",
       "      <td>...</td>\n",
       "      <td>NaN</td>\n",
       "      <td>NaN</td>\n",
       "      <td>NaN</td>\n",
       "      <td>NaN</td>\n",
       "      <td>3</td>\n",
       "      <td>https://www.amazon.com/product-reviews/B00QWO9...</td>\n",
       "      <td>I order 3 of them and one of the item is bad q...</td>\n",
       "      <td>... 3 of them and one of the item is bad quali...</td>\n",
       "      <td>Byger yang</td>\n",
       "      <td>https://www.barcodable.com/upc/841710106442,ht...</td>\n",
       "    </tr>\n",
       "    <tr>\n",
       "      <th>1</th>\n",
       "      <td>AVpgNzjwLJeJML43Kpxn</td>\n",
       "      <td>2015-10-30T08:59:32Z</td>\n",
       "      <td>2019-04-25T09:08:16Z</td>\n",
       "      <td>AmazonBasics AAA Performance Alkaline Batterie...</td>\n",
       "      <td>B00QWO9P0O,B00LH3DMUO</td>\n",
       "      <td>Amazonbasics</td>\n",
       "      <td>AA,AAA,Health,Electronics,Health &amp; Household,C...</td>\n",
       "      <td>Health &amp; Beauty</td>\n",
       "      <td>https://images-na.ssl-images-amazon.com/images...</td>\n",
       "      <td>amazonbasics/hl002619,amazonbasicsaaaperforman...</td>\n",
       "      <td>...</td>\n",
       "      <td>NaN</td>\n",
       "      <td>NaN</td>\n",
       "      <td>NaN</td>\n",
       "      <td>NaN</td>\n",
       "      <td>4</td>\n",
       "      <td>https://www.amazon.com/product-reviews/B00QWO9...</td>\n",
       "      <td>Bulk is always the less expensive way to go fo...</td>\n",
       "      <td>... always the less expensive way to go for pr...</td>\n",
       "      <td>ByMG</td>\n",
       "      <td>https://www.barcodable.com/upc/841710106442,ht...</td>\n",
       "    </tr>\n",
       "    <tr>\n",
       "      <th>2</th>\n",
       "      <td>AVpgNzjwLJeJML43Kpxn</td>\n",
       "      <td>2015-10-30T08:59:32Z</td>\n",
       "      <td>2019-04-25T09:08:16Z</td>\n",
       "      <td>AmazonBasics AAA Performance Alkaline Batterie...</td>\n",
       "      <td>B00QWO9P0O,B00LH3DMUO</td>\n",
       "      <td>Amazonbasics</td>\n",
       "      <td>AA,AAA,Health,Electronics,Health &amp; Household,C...</td>\n",
       "      <td>Health &amp; Beauty</td>\n",
       "      <td>https://images-na.ssl-images-amazon.com/images...</td>\n",
       "      <td>amazonbasics/hl002619,amazonbasicsaaaperforman...</td>\n",
       "      <td>...</td>\n",
       "      <td>NaN</td>\n",
       "      <td>NaN</td>\n",
       "      <td>NaN</td>\n",
       "      <td>NaN</td>\n",
       "      <td>5</td>\n",
       "      <td>https://www.amazon.com/product-reviews/B00QWO9...</td>\n",
       "      <td>Well they are not Duracell but for the price i...</td>\n",
       "      <td>... are not Duracell but for the price i am ha...</td>\n",
       "      <td>BySharon Lambert</td>\n",
       "      <td>https://www.barcodable.com/upc/841710106442,ht...</td>\n",
       "    </tr>\n",
       "    <tr>\n",
       "      <th>3</th>\n",
       "      <td>AVpgNzjwLJeJML43Kpxn</td>\n",
       "      <td>2015-10-30T08:59:32Z</td>\n",
       "      <td>2019-04-25T09:08:16Z</td>\n",
       "      <td>AmazonBasics AAA Performance Alkaline Batterie...</td>\n",
       "      <td>B00QWO9P0O,B00LH3DMUO</td>\n",
       "      <td>Amazonbasics</td>\n",
       "      <td>AA,AAA,Health,Electronics,Health &amp; Household,C...</td>\n",
       "      <td>Health &amp; Beauty</td>\n",
       "      <td>https://images-na.ssl-images-amazon.com/images...</td>\n",
       "      <td>amazonbasics/hl002619,amazonbasicsaaaperforman...</td>\n",
       "      <td>...</td>\n",
       "      <td>NaN</td>\n",
       "      <td>NaN</td>\n",
       "      <td>NaN</td>\n",
       "      <td>NaN</td>\n",
       "      <td>5</td>\n",
       "      <td>https://www.amazon.com/product-reviews/B00QWO9...</td>\n",
       "      <td>Seem to work as well as name brand batteries a...</td>\n",
       "      <td>... as well as name brand batteries at a much ...</td>\n",
       "      <td>Bymark sexson</td>\n",
       "      <td>https://www.barcodable.com/upc/841710106442,ht...</td>\n",
       "    </tr>\n",
       "    <tr>\n",
       "      <th>4</th>\n",
       "      <td>AVpgNzjwLJeJML43Kpxn</td>\n",
       "      <td>2015-10-30T08:59:32Z</td>\n",
       "      <td>2019-04-25T09:08:16Z</td>\n",
       "      <td>AmazonBasics AAA Performance Alkaline Batterie...</td>\n",
       "      <td>B00QWO9P0O,B00LH3DMUO</td>\n",
       "      <td>Amazonbasics</td>\n",
       "      <td>AA,AAA,Health,Electronics,Health &amp; Household,C...</td>\n",
       "      <td>Health &amp; Beauty</td>\n",
       "      <td>https://images-na.ssl-images-amazon.com/images...</td>\n",
       "      <td>amazonbasics/hl002619,amazonbasicsaaaperforman...</td>\n",
       "      <td>...</td>\n",
       "      <td>NaN</td>\n",
       "      <td>NaN</td>\n",
       "      <td>NaN</td>\n",
       "      <td>NaN</td>\n",
       "      <td>5</td>\n",
       "      <td>https://www.amazon.com/product-reviews/B00QWO9...</td>\n",
       "      <td>These batteries are very long lasting the pric...</td>\n",
       "      <td>... batteries are very long lasting the price ...</td>\n",
       "      <td>Bylinda</td>\n",
       "      <td>https://www.barcodable.com/upc/841710106442,ht...</td>\n",
       "    </tr>\n",
       "  </tbody>\n",
       "</table>\n",
       "<p>5 rows × 24 columns</p>\n",
       "</div>"
      ],
      "text/plain": [
       "                     id             dateAdded           dateUpdated  \\\n",
       "0  AVpgNzjwLJeJML43Kpxn  2015-10-30T08:59:32Z  2019-04-25T09:08:16Z   \n",
       "1  AVpgNzjwLJeJML43Kpxn  2015-10-30T08:59:32Z  2019-04-25T09:08:16Z   \n",
       "2  AVpgNzjwLJeJML43Kpxn  2015-10-30T08:59:32Z  2019-04-25T09:08:16Z   \n",
       "3  AVpgNzjwLJeJML43Kpxn  2015-10-30T08:59:32Z  2019-04-25T09:08:16Z   \n",
       "4  AVpgNzjwLJeJML43Kpxn  2015-10-30T08:59:32Z  2019-04-25T09:08:16Z   \n",
       "\n",
       "                                                name                  asins  \\\n",
       "0  AmazonBasics AAA Performance Alkaline Batterie...  B00QWO9P0O,B00LH3DMUO   \n",
       "1  AmazonBasics AAA Performance Alkaline Batterie...  B00QWO9P0O,B00LH3DMUO   \n",
       "2  AmazonBasics AAA Performance Alkaline Batterie...  B00QWO9P0O,B00LH3DMUO   \n",
       "3  AmazonBasics AAA Performance Alkaline Batterie...  B00QWO9P0O,B00LH3DMUO   \n",
       "4  AmazonBasics AAA Performance Alkaline Batterie...  B00QWO9P0O,B00LH3DMUO   \n",
       "\n",
       "          brand                                         categories  \\\n",
       "0  Amazonbasics  AA,AAA,Health,Electronics,Health & Household,C...   \n",
       "1  Amazonbasics  AA,AAA,Health,Electronics,Health & Household,C...   \n",
       "2  Amazonbasics  AA,AAA,Health,Electronics,Health & Household,C...   \n",
       "3  Amazonbasics  AA,AAA,Health,Electronics,Health & Household,C...   \n",
       "4  Amazonbasics  AA,AAA,Health,Electronics,Health & Household,C...   \n",
       "\n",
       "  primaryCategories                                          imageURLs  \\\n",
       "0   Health & Beauty  https://images-na.ssl-images-amazon.com/images...   \n",
       "1   Health & Beauty  https://images-na.ssl-images-amazon.com/images...   \n",
       "2   Health & Beauty  https://images-na.ssl-images-amazon.com/images...   \n",
       "3   Health & Beauty  https://images-na.ssl-images-amazon.com/images...   \n",
       "4   Health & Beauty  https://images-na.ssl-images-amazon.com/images...   \n",
       "\n",
       "                                                keys  ... reviews.didPurchase  \\\n",
       "0  amazonbasics/hl002619,amazonbasicsaaaperforman...  ...                 NaN   \n",
       "1  amazonbasics/hl002619,amazonbasicsaaaperforman...  ...                 NaN   \n",
       "2  amazonbasics/hl002619,amazonbasicsaaaperforman...  ...                 NaN   \n",
       "3  amazonbasics/hl002619,amazonbasicsaaaperforman...  ...                 NaN   \n",
       "4  amazonbasics/hl002619,amazonbasicsaaaperforman...  ...                 NaN   \n",
       "\n",
       "  reviews.doRecommend reviews.id reviews.numHelpful reviews.rating  \\\n",
       "0                 NaN        NaN                NaN              3   \n",
       "1                 NaN        NaN                NaN              4   \n",
       "2                 NaN        NaN                NaN              5   \n",
       "3                 NaN        NaN                NaN              5   \n",
       "4                 NaN        NaN                NaN              5   \n",
       "\n",
       "                                  reviews.sourceURLs  \\\n",
       "0  https://www.amazon.com/product-reviews/B00QWO9...   \n",
       "1  https://www.amazon.com/product-reviews/B00QWO9...   \n",
       "2  https://www.amazon.com/product-reviews/B00QWO9...   \n",
       "3  https://www.amazon.com/product-reviews/B00QWO9...   \n",
       "4  https://www.amazon.com/product-reviews/B00QWO9...   \n",
       "\n",
       "                                        reviews.text  \\\n",
       "0  I order 3 of them and one of the item is bad q...   \n",
       "1  Bulk is always the less expensive way to go fo...   \n",
       "2  Well they are not Duracell but for the price i...   \n",
       "3  Seem to work as well as name brand batteries a...   \n",
       "4  These batteries are very long lasting the pric...   \n",
       "\n",
       "                                       reviews.title  reviews.username  \\\n",
       "0  ... 3 of them and one of the item is bad quali...        Byger yang   \n",
       "1  ... always the less expensive way to go for pr...              ByMG   \n",
       "2  ... are not Duracell but for the price i am ha...  BySharon Lambert   \n",
       "3  ... as well as name brand batteries at a much ...     Bymark sexson   \n",
       "4  ... batteries are very long lasting the price ...           Bylinda   \n",
       "\n",
       "                                          sourceURLs  \n",
       "0  https://www.barcodable.com/upc/841710106442,ht...  \n",
       "1  https://www.barcodable.com/upc/841710106442,ht...  \n",
       "2  https://www.barcodable.com/upc/841710106442,ht...  \n",
       "3  https://www.barcodable.com/upc/841710106442,ht...  \n",
       "4  https://www.barcodable.com/upc/841710106442,ht...  \n",
       "\n",
       "[5 rows x 24 columns]"
      ]
     },
     "execution_count": 3,
     "metadata": {},
     "output_type": "execute_result"
    }
   ],
   "source": [
    "df.head()"
   ]
  },
  {
   "cell_type": "code",
   "execution_count": 4,
   "metadata": {},
   "outputs": [
    {
     "data": {
      "text/plain": [
       "Electronics                    13995\n",
       "Health & Beauty                12071\n",
       "Toys & Games,Electronics        1676\n",
       "Office Supplies,Electronics      386\n",
       "Electronics,Media                185\n",
       "Office Supplies                    9\n",
       "Animals & Pet Supplies             6\n",
       "Home & Garden                      2\n",
       "Electronics,Furniture              2\n",
       "Name: primaryCategories, dtype: int64"
      ]
     },
     "execution_count": 4,
     "metadata": {},
     "output_type": "execute_result"
    }
   ],
   "source": [
    "df['primaryCategories'].value_counts()"
   ]
  },
  {
   "cell_type": "code",
   "execution_count": 5,
   "metadata": {},
   "outputs": [],
   "source": [
    "df = df[df['primaryCategories'] == 'Electronics']"
   ]
  },
  {
   "cell_type": "code",
   "execution_count": 6,
   "metadata": {},
   "outputs": [
    {
     "data": {
      "text/html": [
       "<div>\n",
       "<style scoped>\n",
       "    .dataframe tbody tr th:only-of-type {\n",
       "        vertical-align: middle;\n",
       "    }\n",
       "\n",
       "    .dataframe tbody tr th {\n",
       "        vertical-align: top;\n",
       "    }\n",
       "\n",
       "    .dataframe thead th {\n",
       "        text-align: right;\n",
       "    }\n",
       "</style>\n",
       "<table border=\"1\" class=\"dataframe\">\n",
       "  <thead>\n",
       "    <tr style=\"text-align: right;\">\n",
       "      <th></th>\n",
       "      <th>id</th>\n",
       "      <th>dateAdded</th>\n",
       "      <th>dateUpdated</th>\n",
       "      <th>name</th>\n",
       "      <th>asins</th>\n",
       "      <th>brand</th>\n",
       "      <th>categories</th>\n",
       "      <th>primaryCategories</th>\n",
       "      <th>imageURLs</th>\n",
       "      <th>keys</th>\n",
       "      <th>...</th>\n",
       "      <th>reviews.didPurchase</th>\n",
       "      <th>reviews.doRecommend</th>\n",
       "      <th>reviews.id</th>\n",
       "      <th>reviews.numHelpful</th>\n",
       "      <th>reviews.rating</th>\n",
       "      <th>reviews.sourceURLs</th>\n",
       "      <th>reviews.text</th>\n",
       "      <th>reviews.title</th>\n",
       "      <th>reviews.username</th>\n",
       "      <th>sourceURLs</th>\n",
       "    </tr>\n",
       "  </thead>\n",
       "  <tbody>\n",
       "    <tr>\n",
       "      <th>8343</th>\n",
       "      <td>AVpe7nGV1cnluZ0-aG2o</td>\n",
       "      <td>2014-10-28T11:14:38Z</td>\n",
       "      <td>2019-04-25T09:05:28Z</td>\n",
       "      <td>AmazonBasics Nylon CD/DVD Binder (400 Capacity)</td>\n",
       "      <td>B00DIHVMEA,B00EZ1ZTV0</td>\n",
       "      <td>Amazonbasics</td>\n",
       "      <td>Audio &amp; Video Accessories,TV, Video &amp; Home Aud...</td>\n",
       "      <td>Electronics</td>\n",
       "      <td>http://ecx.images-amazon.com/images/I/41jQha7Z...</td>\n",
       "      <td>amazonbasicsnyloncddvdbinder400capacity/b00ez1...</td>\n",
       "      <td>...</td>\n",
       "      <td>NaN</td>\n",
       "      <td>NaN</td>\n",
       "      <td>NaN</td>\n",
       "      <td>NaN</td>\n",
       "      <td>5</td>\n",
       "      <td>https://www.ebay.com/itm/Amazonbasics-Nylon-Cd...</td>\n",
       "      <td>Great case to keep everything in its place! My...</td>\n",
       "      <td>Excellent product</td>\n",
       "      <td>qs341_5</td>\n",
       "      <td>https://www.ebay.com/itm/AmazonBasics-Nylon-CD...</td>\n",
       "    </tr>\n",
       "    <tr>\n",
       "      <th>8344</th>\n",
       "      <td>AVpe7nGV1cnluZ0-aG2o</td>\n",
       "      <td>2014-10-28T11:14:38Z</td>\n",
       "      <td>2019-04-25T09:05:28Z</td>\n",
       "      <td>AmazonBasics Nylon CD/DVD Binder (400 Capacity)</td>\n",
       "      <td>B00DIHVMEA,B00EZ1ZTV0</td>\n",
       "      <td>Amazonbasics</td>\n",
       "      <td>Audio &amp; Video Accessories,TV, Video &amp; Home Aud...</td>\n",
       "      <td>Electronics</td>\n",
       "      <td>http://ecx.images-amazon.com/images/I/41jQha7Z...</td>\n",
       "      <td>amazonbasicsnyloncddvdbinder400capacity/b00ez1...</td>\n",
       "      <td>...</td>\n",
       "      <td>NaN</td>\n",
       "      <td>NaN</td>\n",
       "      <td>NaN</td>\n",
       "      <td>NaN</td>\n",
       "      <td>5</td>\n",
       "      <td>http://www.amazon.co.uk/gp/product-reviews/B00...</td>\n",
       "      <td>After discarding and getting rid of broken cd ...</td>\n",
       "      <td>It was a much needed storage</td>\n",
       "      <td>Diablita</td>\n",
       "      <td>https://www.ebay.com/itm/AmazonBasics-Nylon-CD...</td>\n",
       "    </tr>\n",
       "    <tr>\n",
       "      <th>8345</th>\n",
       "      <td>AVpe7nGV1cnluZ0-aG2o</td>\n",
       "      <td>2014-10-28T11:14:38Z</td>\n",
       "      <td>2019-04-25T09:05:28Z</td>\n",
       "      <td>AmazonBasics Nylon CD/DVD Binder (400 Capacity)</td>\n",
       "      <td>B00DIHVMEA,B00EZ1ZTV0</td>\n",
       "      <td>Amazonbasics</td>\n",
       "      <td>Audio &amp; Video Accessories,TV, Video &amp; Home Aud...</td>\n",
       "      <td>Electronics</td>\n",
       "      <td>http://ecx.images-amazon.com/images/I/41jQha7Z...</td>\n",
       "      <td>amazonbasicsnyloncddvdbinder400capacity/b00ez1...</td>\n",
       "      <td>...</td>\n",
       "      <td>NaN</td>\n",
       "      <td>NaN</td>\n",
       "      <td>NaN</td>\n",
       "      <td>NaN</td>\n",
       "      <td>5</td>\n",
       "      <td>https://www.ebay.com/itm/Amazonbasics-Nylon-Cd...</td>\n",
       "      <td>A few dollars more, but I am boycotting amazon</td>\n",
       "      <td>it was worth it</td>\n",
       "      <td>coldbloodblazing</td>\n",
       "      <td>https://www.ebay.com/itm/AmazonBasics-Nylon-CD...</td>\n",
       "    </tr>\n",
       "    <tr>\n",
       "      <th>8346</th>\n",
       "      <td>AVpe7nGV1cnluZ0-aG2o</td>\n",
       "      <td>2014-10-28T11:14:38Z</td>\n",
       "      <td>2019-04-25T09:05:28Z</td>\n",
       "      <td>AmazonBasics Nylon CD/DVD Binder (400 Capacity)</td>\n",
       "      <td>B00DIHVMEA,B00EZ1ZTV0</td>\n",
       "      <td>Amazonbasics</td>\n",
       "      <td>Audio &amp; Video Accessories,TV, Video &amp; Home Aud...</td>\n",
       "      <td>Electronics</td>\n",
       "      <td>http://ecx.images-amazon.com/images/I/41jQha7Z...</td>\n",
       "      <td>amazonbasicsnyloncddvdbinder400capacity/b00ez1...</td>\n",
       "      <td>...</td>\n",
       "      <td>NaN</td>\n",
       "      <td>NaN</td>\n",
       "      <td>NaN</td>\n",
       "      <td>NaN</td>\n",
       "      <td>2</td>\n",
       "      <td>http://www.amazon.co.uk/gp/product-reviews/B00...</td>\n",
       "      <td>My initial impression of this was very good. T...</td>\n",
       "      <td>Not well designed, very tight when full. Becom...</td>\n",
       "      <td>Snrub</td>\n",
       "      <td>https://www.ebay.com/itm/AmazonBasics-Nylon-CD...</td>\n",
       "    </tr>\n",
       "    <tr>\n",
       "      <th>8347</th>\n",
       "      <td>AVpfl8cLLJeJML43AE3S</td>\n",
       "      <td>2016-04-08T18:16:28Z</td>\n",
       "      <td>2019-04-25T08:51:22Z</td>\n",
       "      <td>Amazon Echo ‚Äì White</td>\n",
       "      <td>B01E6AO69U,B00L9EPT8O</td>\n",
       "      <td>Amazon</td>\n",
       "      <td>Stereos,Remote Controls,Audio Docks &amp; Mini Spe...</td>\n",
       "      <td>Electronics</td>\n",
       "      <td>https://i.ebayimg.com/images/g/NWEAAOSwDehbdx6...</td>\n",
       "      <td>amazonechowhite/b00l9ept8o,amazonechowhite/b01...</td>\n",
       "      <td>...</td>\n",
       "      <td>True</td>\n",
       "      <td>NaN</td>\n",
       "      <td>NaN</td>\n",
       "      <td>NaN</td>\n",
       "      <td>5</td>\n",
       "      <td>https://www.newegg.com/Product/Product.aspx?It...</td>\n",
       "      <td>Pros: Standard Echo. Cons: Older generation Ec...</td>\n",
       "      <td>Arrived as described.</td>\n",
       "      <td>Anonymous</td>\n",
       "      <td>https://www.newegg.com/Product/Product.aspx?It...</td>\n",
       "    </tr>\n",
       "  </tbody>\n",
       "</table>\n",
       "<p>5 rows × 24 columns</p>\n",
       "</div>"
      ],
      "text/plain": [
       "                        id             dateAdded           dateUpdated  \\\n",
       "8343  AVpe7nGV1cnluZ0-aG2o  2014-10-28T11:14:38Z  2019-04-25T09:05:28Z   \n",
       "8344  AVpe7nGV1cnluZ0-aG2o  2014-10-28T11:14:38Z  2019-04-25T09:05:28Z   \n",
       "8345  AVpe7nGV1cnluZ0-aG2o  2014-10-28T11:14:38Z  2019-04-25T09:05:28Z   \n",
       "8346  AVpe7nGV1cnluZ0-aG2o  2014-10-28T11:14:38Z  2019-04-25T09:05:28Z   \n",
       "8347  AVpfl8cLLJeJML43AE3S  2016-04-08T18:16:28Z  2019-04-25T08:51:22Z   \n",
       "\n",
       "                                                 name                  asins  \\\n",
       "8343  AmazonBasics Nylon CD/DVD Binder (400 Capacity)  B00DIHVMEA,B00EZ1ZTV0   \n",
       "8344  AmazonBasics Nylon CD/DVD Binder (400 Capacity)  B00DIHVMEA,B00EZ1ZTV0   \n",
       "8345  AmazonBasics Nylon CD/DVD Binder (400 Capacity)  B00DIHVMEA,B00EZ1ZTV0   \n",
       "8346  AmazonBasics Nylon CD/DVD Binder (400 Capacity)  B00DIHVMEA,B00EZ1ZTV0   \n",
       "8347                            Amazon Echo ‚Äì White  B01E6AO69U,B00L9EPT8O   \n",
       "\n",
       "             brand                                         categories  \\\n",
       "8343  Amazonbasics  Audio & Video Accessories,TV, Video & Home Aud...   \n",
       "8344  Amazonbasics  Audio & Video Accessories,TV, Video & Home Aud...   \n",
       "8345  Amazonbasics  Audio & Video Accessories,TV, Video & Home Aud...   \n",
       "8346  Amazonbasics  Audio & Video Accessories,TV, Video & Home Aud...   \n",
       "8347        Amazon  Stereos,Remote Controls,Audio Docks & Mini Spe...   \n",
       "\n",
       "     primaryCategories                                          imageURLs  \\\n",
       "8343       Electronics  http://ecx.images-amazon.com/images/I/41jQha7Z...   \n",
       "8344       Electronics  http://ecx.images-amazon.com/images/I/41jQha7Z...   \n",
       "8345       Electronics  http://ecx.images-amazon.com/images/I/41jQha7Z...   \n",
       "8346       Electronics  http://ecx.images-amazon.com/images/I/41jQha7Z...   \n",
       "8347       Electronics  https://i.ebayimg.com/images/g/NWEAAOSwDehbdx6...   \n",
       "\n",
       "                                                   keys  ...  \\\n",
       "8343  amazonbasicsnyloncddvdbinder400capacity/b00ez1...  ...   \n",
       "8344  amazonbasicsnyloncddvdbinder400capacity/b00ez1...  ...   \n",
       "8345  amazonbasicsnyloncddvdbinder400capacity/b00ez1...  ...   \n",
       "8346  amazonbasicsnyloncddvdbinder400capacity/b00ez1...  ...   \n",
       "8347  amazonechowhite/b00l9ept8o,amazonechowhite/b01...  ...   \n",
       "\n",
       "     reviews.didPurchase reviews.doRecommend reviews.id reviews.numHelpful  \\\n",
       "8343                 NaN                 NaN        NaN                NaN   \n",
       "8344                 NaN                 NaN        NaN                NaN   \n",
       "8345                 NaN                 NaN        NaN                NaN   \n",
       "8346                 NaN                 NaN        NaN                NaN   \n",
       "8347                True                 NaN        NaN                NaN   \n",
       "\n",
       "     reviews.rating                                 reviews.sourceURLs  \\\n",
       "8343              5  https://www.ebay.com/itm/Amazonbasics-Nylon-Cd...   \n",
       "8344              5  http://www.amazon.co.uk/gp/product-reviews/B00...   \n",
       "8345              5  https://www.ebay.com/itm/Amazonbasics-Nylon-Cd...   \n",
       "8346              2  http://www.amazon.co.uk/gp/product-reviews/B00...   \n",
       "8347              5  https://www.newegg.com/Product/Product.aspx?It...   \n",
       "\n",
       "                                           reviews.text  \\\n",
       "8343  Great case to keep everything in its place! My...   \n",
       "8344  After discarding and getting rid of broken cd ...   \n",
       "8345     A few dollars more, but I am boycotting amazon   \n",
       "8346  My initial impression of this was very good. T...   \n",
       "8347  Pros: Standard Echo. Cons: Older generation Ec...   \n",
       "\n",
       "                                          reviews.title  reviews.username  \\\n",
       "8343                                  Excellent product           qs341_5   \n",
       "8344                       It was a much needed storage          Diablita   \n",
       "8345                                    it was worth it  coldbloodblazing   \n",
       "8346  Not well designed, very tight when full. Becom...             Snrub   \n",
       "8347                              Arrived as described.         Anonymous   \n",
       "\n",
       "                                             sourceURLs  \n",
       "8343  https://www.ebay.com/itm/AmazonBasics-Nylon-CD...  \n",
       "8344  https://www.ebay.com/itm/AmazonBasics-Nylon-CD...  \n",
       "8345  https://www.ebay.com/itm/AmazonBasics-Nylon-CD...  \n",
       "8346  https://www.ebay.com/itm/AmazonBasics-Nylon-CD...  \n",
       "8347  https://www.newegg.com/Product/Product.aspx?It...  \n",
       "\n",
       "[5 rows x 24 columns]"
      ]
     },
     "execution_count": 6,
     "metadata": {},
     "output_type": "execute_result"
    }
   ],
   "source": [
    "df.head()"
   ]
  },
  {
   "cell_type": "code",
   "execution_count": 7,
   "metadata": {},
   "outputs": [],
   "source": [
    "df = df[['primaryCategories','reviews.text']].copy()"
   ]
  },
  {
   "cell_type": "code",
   "execution_count": 8,
   "metadata": {},
   "outputs": [
    {
     "data": {
      "text/html": [
       "<div>\n",
       "<style scoped>\n",
       "    .dataframe tbody tr th:only-of-type {\n",
       "        vertical-align: middle;\n",
       "    }\n",
       "\n",
       "    .dataframe tbody tr th {\n",
       "        vertical-align: top;\n",
       "    }\n",
       "\n",
       "    .dataframe thead th {\n",
       "        text-align: right;\n",
       "    }\n",
       "</style>\n",
       "<table border=\"1\" class=\"dataframe\">\n",
       "  <thead>\n",
       "    <tr style=\"text-align: right;\">\n",
       "      <th></th>\n",
       "      <th>primaryCategories</th>\n",
       "      <th>reviews.text</th>\n",
       "    </tr>\n",
       "  </thead>\n",
       "  <tbody>\n",
       "    <tr>\n",
       "      <th>8343</th>\n",
       "      <td>Electronics</td>\n",
       "      <td>Great case to keep everything in its place! My...</td>\n",
       "    </tr>\n",
       "    <tr>\n",
       "      <th>8344</th>\n",
       "      <td>Electronics</td>\n",
       "      <td>After discarding and getting rid of broken cd ...</td>\n",
       "    </tr>\n",
       "    <tr>\n",
       "      <th>8345</th>\n",
       "      <td>Electronics</td>\n",
       "      <td>A few dollars more, but I am boycotting amazon</td>\n",
       "    </tr>\n",
       "    <tr>\n",
       "      <th>8346</th>\n",
       "      <td>Electronics</td>\n",
       "      <td>My initial impression of this was very good. T...</td>\n",
       "    </tr>\n",
       "    <tr>\n",
       "      <th>8347</th>\n",
       "      <td>Electronics</td>\n",
       "      <td>Pros: Standard Echo. Cons: Older generation Ec...</td>\n",
       "    </tr>\n",
       "  </tbody>\n",
       "</table>\n",
       "</div>"
      ],
      "text/plain": [
       "     primaryCategories                                       reviews.text\n",
       "8343       Electronics  Great case to keep everything in its place! My...\n",
       "8344       Electronics  After discarding and getting rid of broken cd ...\n",
       "8345       Electronics     A few dollars more, but I am boycotting amazon\n",
       "8346       Electronics  My initial impression of this was very good. T...\n",
       "8347       Electronics  Pros: Standard Echo. Cons: Older generation Ec..."
      ]
     },
     "execution_count": 8,
     "metadata": {},
     "output_type": "execute_result"
    }
   ],
   "source": [
    "df.head()"
   ]
  },
  {
   "cell_type": "code",
   "execution_count": 9,
   "metadata": {},
   "outputs": [
    {
     "data": {
      "text/plain": [
       "'Great case to keep everything in its place! My husband love it!!!! Holds a lot of cds!'"
      ]
     },
     "execution_count": 9,
     "metadata": {},
     "output_type": "execute_result"
    }
   ],
   "source": [
    "df['reviews.text'][8343]"
   ]
  },
  {
   "cell_type": "code",
   "execution_count": 10,
   "metadata": {},
   "outputs": [
    {
     "data": {
      "text/plain": [
       "(13995, 2)"
      ]
     },
     "execution_count": 10,
     "metadata": {},
     "output_type": "execute_result"
    }
   ],
   "source": [
    "df.shape"
   ]
  },
  {
   "cell_type": "code",
   "execution_count": 11,
   "metadata": {},
   "outputs": [],
   "source": [
    "# The text looks pretty clean, not gonna try cleaning it, may be will return later."
   ]
  },
  {
   "cell_type": "markdown",
   "metadata": {},
   "source": [
    "## Tokenization"
   ]
  },
  {
   "cell_type": "code",
   "execution_count": 12,
   "metadata": {},
   "outputs": [],
   "source": [
    "import spacy\n",
    "\n",
    "nlp = spacy.load(\"en_core_web_lg\")"
   ]
  },
  {
   "cell_type": "code",
   "execution_count": 13,
   "metadata": {},
   "outputs": [],
   "source": [
    "# Creating tokens\n",
    "\n",
    "tokens = []\n",
    "\n",
    "for doc in nlp.pipe(df['reviews.text']):\n",
    "    \n",
    "    doc_tokens = []\n",
    "    \n",
    "    for token in doc:\n",
    "        if ((token.is_stop != True) and (token.pos_ != 'PRON')) and (token.is_punct !=True):\n",
    "            doc_tokens.append(token.lemma_.strip())\n",
    "            \n",
    "    tokens.append(doc_tokens)"
   ]
  },
  {
   "cell_type": "code",
   "execution_count": 14,
   "metadata": {},
   "outputs": [
    {
     "data": {
      "text/plain": [
       "True"
      ]
     },
     "execution_count": 14,
     "metadata": {},
     "output_type": "execute_result"
    }
   ],
   "source": [
    "len(tokens) == df.shape[0]"
   ]
  },
  {
   "cell_type": "markdown",
   "metadata": {},
   "source": [
    "## Fitting a Gensim LDA topic model"
   ]
  },
  {
   "cell_type": "code",
   "execution_count": 15,
   "metadata": {},
   "outputs": [],
   "source": [
    "import gensim\n",
    "\n",
    "from gensim import corpora\n",
    "from gensim.models.ldamulticore import LdaMulticore"
   ]
  },
  {
   "cell_type": "code",
   "execution_count": 16,
   "metadata": {},
   "outputs": [],
   "source": [
    "id2word = corpora.Dictionary(tokens)"
   ]
  },
  {
   "cell_type": "code",
   "execution_count": 17,
   "metadata": {},
   "outputs": [
    {
     "data": {
      "text/plain": [
       "6832"
      ]
     },
     "execution_count": 17,
     "metadata": {},
     "output_type": "execute_result"
    }
   ],
   "source": [
    "len(id2word.keys())"
   ]
  },
  {
   "cell_type": "code",
   "execution_count": 18,
   "metadata": {},
   "outputs": [],
   "source": [
    "# Filtering the extremes\n",
    "id2word.filter_extremes(no_below=5, no_above=.95)"
   ]
  },
  {
   "cell_type": "code",
   "execution_count": 19,
   "metadata": {},
   "outputs": [
    {
     "data": {
      "text/plain": [
       "2247"
      ]
     },
     "execution_count": 19,
     "metadata": {},
     "output_type": "execute_result"
    }
   ],
   "source": [
    "len(id2word.keys())"
   ]
  },
  {
   "cell_type": "code",
   "execution_count": 20,
   "metadata": {},
   "outputs": [],
   "source": [
    "corpus = [id2word.doc2bow(doc) for doc in tokens]"
   ]
  },
  {
   "cell_type": "code",
   "execution_count": 21,
   "metadata": {},
   "outputs": [
    {
     "data": {
      "text/plain": [
       "[(16, 1),\n",
       " (23, 1),\n",
       " (51, 1),\n",
       " (82, 1),\n",
       " (112, 1),\n",
       " (114, 1),\n",
       " (117, 1),\n",
       " (118, 1),\n",
       " (119, 1),\n",
       " (120, 1),\n",
       " (121, 1),\n",
       " (122, 1),\n",
       " (123, 1)]"
      ]
     },
     "execution_count": 21,
     "metadata": {},
     "output_type": "execute_result"
    }
   ],
   "source": [
    "corpus[5]"
   ]
  },
  {
   "cell_type": "code",
   "execution_count": 22,
   "metadata": {},
   "outputs": [],
   "source": [
    "# Creating model\n",
    "lda = LdaMulticore(corpus=corpus,\n",
    "                  id2word=id2word,\n",
    "                  num_topics=15, \n",
    "                  passes=50)"
   ]
  },
  {
   "cell_type": "code",
   "execution_count": 23,
   "metadata": {},
   "outputs": [
    {
     "data": {
      "text/plain": [
       "[(0,\n",
       "  '0.032*\"daughter\" + 0.031*\"tablet\" + 0.021*\"Amazon\" + 0.020*\"app\" + 0.018*\"new\" + 0.016*\"use\" + 0.015*\"work\" + 0.014*\"device\" + 0.012*\"like\" + 0.012*\"want\"'),\n",
       " (1,\n",
       "  '0.065*\"purchase\" + 0.048*\"Fire\" + 0.034*\"buy\" + 0.031*\"happy\" + 0.027*\"Amazon\" + 0.026*\"8\" + 0.025*\"love\" + 0.025*\"product\" + 0.022*\"great\" + 0.022*\"tablet\"'),\n",
       " (2,\n",
       "  '0.033*\"book\" + 0.024*\"tablet\" + 0.022*\"reader\" + 0.022*\"need\" + 0.020*\"read\" + 0.019*\"e\" + 0.018*\"app\" + 0.015*\"Google\" + 0.015*\"buy\" + 0.014*\"Amazon\"'),\n",
       " (3,\n",
       "  '0.070*\"old\" + 0.067*\"year\" + 0.051*\"tablet\" + 0.032*\"buy\" + 0.027*\"love\" + 0.021*\"2\" + 0.016*\"great\" + 0.016*\"charge\" + 0.015*\"3\" + 0.015*\"kid\"'),\n",
       " (4,\n",
       "  '0.028*\"music\" + 0.027*\"speaker\" + 0.026*\"sound\" + 0.026*\"Alexa\" + 0.024*\"great\" + 0.019*\"tap\" + 0.017*\"Amazon\" + 0.016*\"Echo\" + 0.014*\"listen\" + 0.013*\"portable\"'),\n",
       " (5,\n",
       "  '0.076*\"love\" + 0.054*\"buy\" + 0.040*\"Kindle\" + 0.035*\"get\" + 0.034*\"Christmas\" + 0.029*\"wife\" + 0.028*\"old\" + 0.025*\"gift\" + 0.019*\"new\" + 0.018*\"year\"'),\n",
       " (6,\n",
       "  '0.084*\"tablet\" + 0.038*\"great\" + 0.028*\"good\" + 0.025*\"price\" + 0.022*\"use\" + 0.020*\"need\" + 0.018*\"Amazon\" + 0.017*\"app\" + 0.015*\"want\" + 0.015*\"watch\"'),\n",
       " (7,\n",
       "  '0.084*\"great\" + 0.058*\"tablet\" + 0.049*\"screen\" + 0.035*\"easy\" + 0.034*\"size\" + 0.033*\"nice\" + 0.025*\"use\" + 0.025*\"good\" + 0.020*\"battery\" + 0.020*\"fast\"'),\n",
       " (8,\n",
       "  '0.085*\"love\" + 0.082*\"kid\" + 0.072*\"great\" + 0.060*\"tablet\" + 0.030*\"use\" + 0.026*\"buy\" + 0.023*\"son\" + 0.023*\"easy\" + 0.019*\"app\" + 0.018*\"child\"'),\n",
       " (9,\n",
       "  '0.095*\"easy\" + 0.095*\"use\" + 0.022*\"tablet\" + 0.020*\"app\" + 0.019*\"love\" + 0.018*\"device\" + 0.018*\"set\" + 0.013*\"navigate\" + 0.012*\"screen\" + 0.011*\"Amazon\"'),\n",
       " (10,\n",
       "  '0.026*\"gift\" + 0.026*\"great\" + 0.020*\"laptop\" + 0.019*\"member\" + 0.018*\"case\" + 0.017*\"price\" + 0.016*\"family\" + 0.012*\"Amazon\" + 0.012*\"perfect\" + 0.011*\"work\"'),\n",
       " (11,\n",
       "  '0.075*\"game\" + 0.050*\"play\" + 0.044*\"love\" + 0.031*\"watch\" + 0.028*\"book\" + 0.026*\"movie\" + 0.024*\"time\" + 0.024*\"kid\" + 0.023*\"download\" + 0.022*\"app\"'),\n",
       " (12,\n",
       "  '0.060*\"book\" + 0.059*\"read\" + 0.040*\"Kindle\" + 0.024*\"internet\" + 0.023*\"like\" + 0.019*\"work\" + 0.017*\"want\" + 0.016*\"great\" + 0.016*\"reader\" + 0.014*\"product\"'),\n",
       " (13,\n",
       "  '0.078*\"kindle\" + 0.052*\"light\" + 0.030*\"fire\" + 0.029*\"read\" + 0.025*\"love\" + 0.024*\"easy\" + 0.021*\"user\" + 0.021*\"small\" + 0.017*\"friendly\" + 0.017*\"size\"'),\n",
       " (14,\n",
       "  '0.099*\"good\" + 0.070*\"price\" + 0.055*\"tablet\" + 0.020*\"product\" + 0.019*\"great\" + 0.019*\"$\" + 0.018*\"buy\" + 0.017*\"quality\" + 0.016*\"deal\" + 0.014*\"work\"')]"
      ]
     },
     "execution_count": 23,
     "metadata": {},
     "output_type": "execute_result"
    }
   ],
   "source": [
    "lda.print_topics()"
   ]
  },
  {
   "cell_type": "code",
   "execution_count": 24,
   "metadata": {},
   "outputs": [],
   "source": [
    "import re\n",
    "words = [re.findall('\"([^\"]*)\"',t[1]) for t in lda.print_topics()]"
   ]
  },
  {
   "cell_type": "code",
   "execution_count": 25,
   "metadata": {},
   "outputs": [],
   "source": [
    "topics = [' '.join(t[0:5]) for t in words]"
   ]
  },
  {
   "cell_type": "code",
   "execution_count": 26,
   "metadata": {},
   "outputs": [
    {
     "name": "stdout",
     "output_type": "stream",
     "text": [
      "------ Topic 0 ------\n",
      "daughter tablet Amazon app new\n",
      "\n",
      "------ Topic 1 ------\n",
      "purchase Fire buy happy Amazon\n",
      "\n",
      "------ Topic 2 ------\n",
      "book tablet reader need read\n",
      "\n",
      "------ Topic 3 ------\n",
      "old year tablet buy love\n",
      "\n",
      "------ Topic 4 ------\n",
      "music speaker sound Alexa great\n",
      "\n",
      "------ Topic 5 ------\n",
      "love buy Kindle get Christmas\n",
      "\n",
      "------ Topic 6 ------\n",
      "tablet great good price use\n",
      "\n",
      "------ Topic 7 ------\n",
      "great tablet screen easy size\n",
      "\n",
      "------ Topic 8 ------\n",
      "love kid great tablet use\n",
      "\n",
      "------ Topic 9 ------\n",
      "easy use tablet app love\n",
      "\n",
      "------ Topic 10 ------\n",
      "gift great laptop member case\n",
      "\n",
      "------ Topic 11 ------\n",
      "game play love watch book\n",
      "\n",
      "------ Topic 12 ------\n",
      "book read Kindle internet like\n",
      "\n",
      "------ Topic 13 ------\n",
      "kindle light fire read love\n",
      "\n",
      "------ Topic 14 ------\n",
      "good price tablet product great\n",
      "\n"
     ]
    }
   ],
   "source": [
    "for id, t in enumerate(topics): \n",
    "    print(f\"------ Topic {id} ------\")\n",
    "    print(t, end=\"\\n\\n\")"
   ]
  },
  {
   "cell_type": "markdown",
   "metadata": {},
   "source": [
    "## Visualization"
   ]
  },
  {
   "cell_type": "code",
   "execution_count": 27,
   "metadata": {},
   "outputs": [],
   "source": [
    "import pyLDAvis.gensim\n",
    "\n",
    "pyLDAvis.enable_notebook()"
   ]
  },
  {
   "cell_type": "code",
   "execution_count": 28,
   "metadata": {},
   "outputs": [
    {
     "data": {
      "text/html": [
       "\n",
       "<link rel=\"stylesheet\" type=\"text/css\" href=\"https://cdn.rawgit.com/bmabey/pyLDAvis/files/ldavis.v1.0.0.css\">\n",
       "\n",
       "\n",
       "<div id=\"ldavis_el19611404700520512482610039811\"></div>\n",
       "<script type=\"text/javascript\">\n",
       "\n",
       "var ldavis_el19611404700520512482610039811_data = {\"mdsDat\": {\"x\": [0.1636448362134707, -0.15481746388844014, 0.10393875379098769, -0.15587912632593445, 0.17442997084184744, -0.1929379043555867, 0.03770465166529782, -0.08063367575266948, 0.20385715365595394, 0.02076986919148237, -0.03664519475195105, 0.007250156983044464, 0.02766540518749475, -0.06511733875286363, -0.053230093702133906], \"y\": [-0.08685571348270793, 0.032046448034920745, -0.03766633669550994, -0.03590172822870955, 0.10933079698457511, -0.15427558288569704, 0.14344404677196407, 0.049878298832412044, -0.11174979047466999, -0.1930648249531759, 0.11913555221568975, 0.11621527105192943, 0.019732902810686674, 0.11597075255415615, -0.08624009253586302], \"topics\": [1, 2, 3, 4, 5, 6, 7, 8, 9, 10, 11, 12, 13, 14, 15], \"cluster\": [1, 1, 1, 1, 1, 1, 1, 1, 1, 1, 1, 1, 1, 1, 1], \"Freq\": [9.190385818481445, 9.032588005065918, 8.045197486877441, 7.904174327850342, 7.663261890411377, 6.784015655517578, 6.747732162475586, 6.533488750457764, 6.489156246185303, 6.424367427825928, 5.972445964813232, 5.6257123947143555, 5.169107437133789, 4.687584400177002, 3.7307727336883545]}, \"tinfo\": {\"Term\": [\"easy\", \"kid\", \"game\", \"year\", \"love\", \"old\", \"good\", \"book\", \"kindle\", \"price\", \"use\", \"great\", \"read\", \"tablet\", \"Kindle\", \"light\", \"play\", \"purchase\", \"screen\", \"Fire\", \"gift\", \"watch\", \"size\", \"daughter\", \"Christmas\", \"movie\", \"buy\", \"Amazon\", \"fire\", \"nice\", \"Nabi\", \"indestructible\", \"freetime\", \"accidental\", \"drop\", \"rubber\", \"raffle\", \"Granddaughter\", \"expose\", \"guard\", \"75\", \"y\", \"min\", \"broke\", \"bar\", \"autistic\", \"warranty\", \"1/2\", \"circadian\", \"rhythm\", \"engaged\", \"tween\", \"Drive\", \"Members\", \"yr\", \"6yr\", \"wizard\", \"Luv\", \"abc\", \"tendency\", \"sd\", \"loose\", \"port\", \"micro\", \"year\", \"charger\", \"6\", \"SD\", \"Nexus\", \"9\", \"20\", \"2\", \"old\", \"3\", \"card\", \"protection\", \"5\", \"damage\", \"break\", \"cord\", \"crack\", \"4\", \"charge\", \"bumper\", \"come\", \"case\", \"month\", \"1\", \"protective\", \"tablet\", \"buy\", \"durable\", \"memory\", \"love\", \"son\", \"grandson\", \"child\", \"kid\", \"great\", \"time\", \"purchase\", \"8\", \"good\", \"get\", \"use\", \"surf\", \"social\", \"fraction\", \"underground\", \"chair\", \"surfing\", \"Chromecast\", \"Hulu\", \"efficient\", \"casual\", \"intermediate\", \"layout\", \"seamlessly\", \"basic\", \"reward\", \"mobility\", \"medium\", \"browsing\", \"browse\", \"York\", \"kill\", \"descent\", \"bloatware\", \"shell\", \"upcoming\", \"firestick\", \"taking\", \"web\", \"ensure\", \"task\", \"Netflix\", \"beginner\", \"starter\", \"expensive\", \"streaming\", \"powerful\", \"stream\", \"inexpensive\", \"tv\", \"google\", \"apple\", \"iPad\", \"cost\", \"bill\", \"video\", \"tablet\", \"watch\", \"need\", \"email\", \"movie\", \"look\", \"Prime\", \"price\", \"Android\", \"want\", \"great\", \"good\", \"Amazon\", \"app\", \"use\", \"internet\", \"work\", \"game\", \"play\", \"perfect\", \"screen\", \"like\", \"nice\", \"read\", \"occupy\", \"entertain\", \"investment\", \"busy\", \"13\", \"curfew\", \"disability\", \"preschooler\", \"preloaded\", \"math\", \"freezing\", \"assistance\", \"learning\", \"education\", \"nursing\", \"fight\", \"unwanted\", \"mess\", \"adult\", \"outer\", \"road\", \"hooked\", \"accident\", \"saver\", \"def\", \"tool\", \"grandparent\", \"entertaining\", \"hospital\", \"sorry\", \"kid\", \"fun\", \"keep\", \"parental\", \"niece\", \"suppose\", \"control\", \"son\", \"educational\", \"girl\", \"learn\", \"toddler\", \"child\", \"trip\", \"love\", \"great\", \"school\", \"young\", \"lot\", \"daughter\", \"tablet\", \"durable\", \"use\", \"product\", \"buy\", \"easy\", \"app\", \"gift\", \"good\", \"game\", \"recommend\", \"work\", \"case\", \"perfect\", \"get\", \"play\", \"little\", \"vibrant\", \"accessory\", \"wonderfully\", \"lite\", \"secondary\", \"candy\", \"crush\", \"delivery\", \"debate\", \"slippery\", \"vivid\", \"clear\", \"sluggish\", \"picture\", \"jacket\", \"Plus\", \"refresh\", \"boost\", \"horsepower\", \"pricy\", \"silk\", \"quirk\", \"east\", \"expandable\", \"crisp\", \"promise\", \"loading\", \"AMAZON\", \"processor\", \"graphic\", \"color\", \"resolution\", \"clarity\", \"size\", \"inch\", \"nice\", \"fast\", \"improvement\", \"screen\", \"speed\", \"life\", \"camera\", \"bright\", \"battery\", \"faster\", \"advertise\", \"large\", \"hd\", \"lightweight\", \"great\", \"display\", \"amazing\", \"easy\", \"memory\", \"7\", \"tablet\", \"recommend\", \"little\", \"good\", \"use\", \"price\", \"fire\", \"big\", \"well\", \"8\", \"work\", \"quality\", \"product\", \"like\", \"feature\", \"love\", \"playing\", \"cartoon\", \"logic\", \"waste\", \"solitaire\", \"minimum\", \"suggestion\", \"bored\", \"appropriate\", \"Cloud\", \"clutter\", \"prove\", \"disney\", \"limit\", \"recipe\", \"netflix\", \"alright\", \"tube\", \"cause\", \"goal\", \"method\", \"profile\", \"unlimited\", \"compatible\", \"game\", \"parent\", \"roll\", \"fee\", \"encourage\", \"clog\", \"group\", \"watch\", \"movie\", \"play\", \"show\", \"age\", \"favorite\", \"download\", \"free\", \"content\", \"allow\", \"time\", \"book\", \"enjoy\", \"video\", \"control\", \"set\", \"parental\", \"love\", \"kid\", \"read\", \"app\", \"able\", \"like\", \"access\", \"buy\", \"tablet\", \"use\", \"daughter\", \"great\", \"old\", \"get\", \"purchase\", \"friday\", \"it\\u201a\\u00e4\\u00f4s\", \"60\", \"sleeve\", \"refuse\", \"exception\", \"49.99\", \"atleast\", \"certificate\", \"meeting\", \"effortlessly\", \"universal\", \"coat\", \"caveat\", \"deal\", \"Friday\", \"extent\", \"hype\", \"collection\", \"vary\", \"scene\", \"educate\", \"excuse\", \"usable\", \"Gb\", \"headline\", \"buck\", \"User\", \"720p\", \"deliver\", \"Black\", \"black\", \"bang\", \"performance\", \"Squad\", \"slow\", \"downside\", \"event\", \"$\", \"beat\", \"ad\", \"100\", \"price\", \"good\", \"pay\", \"cheap\", \"expect\", \"value\", \"worth\", \"50\", \"money\", \"quality\", \"sale\", \"bad\", \"decent\", \"prime\", \"tablet\", \"product\", \"pretty\", \"service\", \"work\", \"buy\", \"great\", \"get\", \"Amazon\", \"amazon\", \"feature\", \"app\", \"like\", \"window\", \"head\", \"grandmother\", \"shape\", \"\\u00a9\", \"fianc\\u221a\", \"spectacular\", \"machine\", \"menu\", \"preschool\", \"fly\", \"assist\", \"necessarily\", \"hotel\", \"consume\", \"alphabet\", \"draw\", \"FIre\", \"8th\", \"gorgeous\", \"worthless\", \"convince\", \"adapter\", \"verizon\", \"Perfect\", \"shatter\", \"jack\", \"w\", \"spin\", \"tinny\", \"left\", \"wallpaper\", \"magazine\", \"key\", \"font\", \"newspaper\", \"effective\", \"write\", \"navigate\", \"headphone\", \"geek\", \"boyfriend\", \"easy\", \"literally\", \"use\", \"step\", \"setup\", \"mother\", \"ease\", \"set\", \"mom\", \"home\", \"dad\", \"daily\", \"transfer\", \"device\", \"increase\", \"convenient\", \"close\", \"keyboard\", \"view\", \"photo\", \"learn\", \"app\", \"difficult\", \"operate\", \"ok\", \"screen\", \"love\", \"tablet\", \"new\", \"Amazon\", \"say\", \"phone\", \"change\", \"purchase\", \"enjoy\", \"find\", \"come\", \"want\", \"download\", \"kindle\", \"buy\", \"way\", \"right\", \"like\", \"tap\", \"Echo\", \"echo\", \"voice\", \"Bluetooth\", \"Tap\", \"Alexa\", \"command\", \"dot\", \"Dot\", \"radio\", \"push\", \"alarm\", \"Pandora\", \"Spotify\", \"speaker\", \"bass\", \"wireless\", \"loud\", \"assistant\", \"garage\", \"rechargeable\", \"ample\", \"portability\", \"activation\", \"microphone\", \"component\", \"location\", \"comparable\", \"related\", \"portable\", \"listen\", \"sound\", \"music\", \"skill\", \"bluetooth\", \"song\", \"volume\", \"weather\", \"answer\", \"outside\", \"button\", \"room\", \"unlike\", \"question\", \"press\", \"house\", \"home\", \"device\", \"Amazon\", \"great\", \"connect\", \"phone\", \"work\", \"ask\", \"wifi\", \"add\", \"like\", \"quality\", \"play\", \"good\", \"battery\", \"use\", \"want\", \"love\", \"time\", \"buy\", \"fingertip\", \"seven\", \"B&N\", \"xmas\", \"purple\", \"adaptive\", \"extended\", \"kitchen\", \"8.9\", \"wife\", \"ha\", \"responsibility\", \"worthy\", \"voyager\", \"shortly\", \"spouse\", \"versus\", \"incredible\", \"gen\", \"writing\", \"Voyager\", \"mad\", \"White\", \"definite\", \"present\", \"code\", \"wrap\", \"readability\", \"yrs\", \"Son\", \"Christmas\", \"early\", \"replace\", \"sister\", \"absolutely\", \"upgrade\", \"paperwhite\", \"birthday\", \"version\", \"Nook\", \"Kindle\", \"grandkid\", \"get\", \"original\", \"gift\", \"own\", \"page\", \"love\", \"new\", \"buy\", \"turn\", \"go\", \"miss\", \"old\", \"second\", \"keyboard\", \"wait\", \"year\", \"think\", \"Fire\", \"like\", \"screen\", \"purchase\", \"know\", \"daughter\", \"well\", \"kindle\", \"HD\", \"Edition\", \"5th\", \"7th\", \"holiday\", \"HD7\", \"hdx\", \"refund\", \"Best\", \"rep\", \"punch\", \"season\", \"settle\", \"prompt\", \"recipient\", \"Present\", \"dauther\", \"2017\", \"address\", \"ignore\", \"translation\", \"im\", \"dinner\", \"salesperson\", \"disable\", \"CHRISTMAS\", \"March\", \"teenager\", \"59\", \"exchange\", \"receive\", \"best\", \"happy\", \"Buy\", \"customer\", \"stock\", \"Fire\", \"glad\", \"purchase\", \"16\", \"8\", \"Kids\", \"GB\", \"thank\", \"Tablet\", \"HD8\", \"satisfied\", \"husband\", \"friend\", \"7\", \"product\", \"item\", \"gift\", \"Amazon\", \"recommend\", \"buy\", \"fire\", \"Kindle\", \"love\", \"hd\", \"Christmas\", \"good\", \"great\", \"tablet\", \"price\", \"day\", \"model\", \"class\", \"vacation\", \"savvy\", \"special\", \"operation\", \"Silk\", \"manual\", \"Webroot\", \"dictionary\", \"lead\", \"department\", \"title\", \"kinda\", \"Hd8\", \"rotate\", \"instantly\", \"purchasing\", \"heart\", \"semester\", \"beginning\", \"Instagram\", \"podcast\", \"sooo\", \"yellow\", \"exist\", \"evening\", \"resolve\", \"regard\", \"philosophy\", \"cumbersome\", \"tech\", \"mail\", \"intuitive\", \"requirement\", \"e\", \"click\", \"college\", \"avid\", \"borrow\", \"online\", \"reader\", \"Google\", \"copy\", \"ebook\", \"Oasis\", \"book\", \"minute\", \"Play\", \"find\", \"store\", \"need\", \"Paperwhite\", \"complete\", \"school\", \"meet\", \"take\", \"issue\", \"read\", \"thing\", \"app\", \"Amazon\", \"tablet\", \"help\", \"buy\", \"Kindle\", \"load\", \"check\", \"Fire\", \"download\", \"like\", \"easy\", \"great\", \"time\", \"work\", \"use\", \"charge\", \"far\", \"weight\", \"compact\", \"ereader\", \"purse\", \"slim\", \"Mother\", \"auto\", \"condition\", \"Day\", \"readable\", \"eBooks\", \"light\", \"comfortably\", \"bell\", \"whistle\", \"ink\", \"feedback\", \"asleep\", \"dedicated\", \"backlit\", \"Father\", \"adjust\", \"tad\", \"character\", \"thin\", \"usability\", \"ipod\", \"stumble\", \"Goodreads\", \"essential\", \"kindle\", \"nook\", \"dark\", \"user\", \"loaded\", \"backlight\", \"friendly\", \"carry\", \"Voyage\", \"small\", \"rear\", \"night\", \"fit\", \"voyage\", \"fire\", \"reading\", \"read\", \"hold\", \"size\", \"perfect\", \"page\", \"eye\", \"easy\", \"hand\", \"love\", \"book\", \"reader\", \"screen\", \"use\", \"Kindle\", \"feature\", \"great\", \"like\", \"new\", \"good\", \"need\", \"old\", \"Freetime\", \"junk\", \"tho\", \"7yr\", \"depend\", \"Underground\", \"suck\", \"exclusively\", \"outdated\", \"February\", \"log\", \"desktop\", \"grandfather\", \"tank\", \"LTE\", \"downloading\", \"lighten\", \"appstore\", \"afraid\", \"2016\", \"inconvenient\", \"ruin\", \"WiFi\", \"quit\", \"transition\", \"god\", \"tear\", \"3.0\", \"bundle\", \"software\", \"limited\", \"FreeTime\", \"cable\", \"grand\", \"repair\", \"restriction\", \"Store\", \"week\", \"daughter\", \"research\", \"network\", \"last\", \"available\", \"App\", \"version\", \"new\", \"star\", \"away\", \"reason\", \"model\", \"switch\", \"have\", \"Amazon\", \"device\", \"app\", \"day\", \"battery\", \"tablet\", \"way\", \"work\", \"want\", \"access\", \"child\", \"get\", \"use\", \"life\", \"like\", \"well\", \"love\", \"Fire\", \"buy\", \"old\", \"pen\", \"buying\", \"train\", \"void\", \"airline\", \"pleasant\", \"mid\", \"clearly\", \"Books\", \"native\", \"tick\", \"59.99\", \"sad\", \"throughly\", \"Manga\", \"35\", \"format\", \"resist\", \"unaware\", \"nervous\", \"wanna\", \"deduct\", \"track\", \"reception\", \"oh\", \"cut\", \"force\", \"multi\", \"winner\", \"devise\", \"integrate\", \"face\", \"attention\", \"standard\", \"handy\", \"computer\", \"internet\", \"win\", \"book\", \"imagine\", \"read\", \"email\", \"connection\", \"numerous\", \"library\", \"Kindle\", \"wifi\", \"reader\", \"teen\", \"mini\", \"check\", \"access\", \"local\", \"audible\", \"trip\", \"experience\", \"review\", \"want\", \"like\", \"carry\", \"quickly\", \"work\", \"search\", \"lot\", \"product\", \"device\", \"fire\", \"great\", \"buy\", \"time\", \"use\", \"Amazon\", \"app\", \"look\", \"Fire\", \"good\", \"recommend\", \"love\", \"backpack\", \"Xmas\", \"pocket\", \"compartment\", \"teenage\", \"zipper\", \"portion\", \"s2\", \"water\", \"strap\", \"25\", \"unsure\", \"extreme\", \"gripe\", \"6th\", \"padding\", \"alleviate\", \"active\", \"recharge\", \"natural\", \"Florida\", \"frequent\", \"receiver\", \"led\", \"praise\", \"strip\", \"leg\", \"backlighting\", \"graduate\", \"c\", \"slide\", \"member\", \"rest\", \"b\", \"comment\", \"doubt\", \"drive\", \"bring\", \"laptop\", \"AmazonBasics\", \"family\", \"pro\", \"sturdy\", \"tab\", \"plastic\", \"breeze\", \"con\", \"job\", \"ipad\", \"bag\", \"pack\", \"usb\", \"reasonable\", \"gift\", \"case\", \"feel\", \"pad\", \"Prime\", \"make\", \"fit\", \"travel\", \"great\", \"price\", \"perfect\", \"give\", \"battery\", \"Amazon\", \"work\", \"get\", \"buy\", \"life\", \"recommend\", \"like\", \"read\", \"love\", \"purchase\"], \"Freq\": [2553.0, 1922.0, 1483.0, 1498.0, 4557.0, 1884.0, 3111.0, 1550.0, 1114.0, 1994.0, 3344.0, 4772.0, 1634.0, 6236.0, 1393.0, 592.0, 1202.0, 1574.0, 1350.0, 1037.0, 976.0, 701.0, 782.0, 778.0, 629.0, 608.0, 3226.0, 1739.0, 995.0, 800.0, 15.718116760253906, 11.8038330078125, 10.82028579711914, 10.8151273727417, 216.17825317382812, 31.020206451416016, 8.8677396774292, 8.868463516235352, 8.866756439208984, 8.837882041931152, 7.887097358703613, 6.909133434295654, 6.908321857452393, 6.906946182250977, 6.90594482421875, 6.9060773849487305, 172.39817810058594, 19.615657806396484, 5.933082103729248, 5.93307638168335, 5.933042049407959, 5.93165397644043, 5.922973155975342, 5.883063316345215, 152.99618530273438, 6.637786865234375, 4.954399108886719, 4.955241680145264, 4.950801849365234, 4.94935941696167, 69.95310974121094, 26.306068420410156, 67.2579574584961, 52.28416061401367, 1143.607177734375, 100.16336822509766, 141.31802368164062, 59.82331848144531, 19.225717544555664, 79.49095916748047, 30.32590675354004, 354.9854736328125, 1196.56201171875, 257.0423278808594, 178.17645263671875, 46.34782028198242, 194.97779846191406, 42.49590301513672, 145.6652069091797, 41.07606506347656, 33.06595993041992, 187.80377197265625, 274.2101135253906, 39.07308578491211, 227.61904907226562, 239.83224487304688, 101.08332061767578, 72.9069595336914, 53.7059440612793, 875.5921630859375, 537.4927978515625, 96.86033630371094, 103.62379455566406, 461.88275146484375, 170.2859344482422, 110.10658264160156, 147.5270538330078, 247.32188415527344, 279.6725769042969, 164.48687744140625, 136.34103393554688, 102.96479797363281, 121.8993148803711, 110.21105194091797, 110.48778533935547, 149.37112426757812, 47.55908203125, 22.29941177368164, 17.499618530273438, 12.64210319519043, 44.22858428955078, 10.719749450683594, 23.134965896606445, 22.988391876220703, 16.274112701416016, 6.846908092498779, 6.838821887969971, 6.842477321624756, 173.04476928710938, 5.873962879180908, 5.8708415031433105, 76.54057312011719, 54.58500671386719, 87.68155670166016, 4.9063873291015625, 4.906364440917969, 4.9078826904296875, 4.906259536743164, 4.901816368103027, 4.892599582672119, 4.902530193328857, 4.892634391784668, 219.38211059570312, 9.696557998657227, 30.609224319458008, 162.27151489257812, 66.35047149658203, 33.796546936035156, 117.36858367919922, 41.72303009033203, 36.7504768371582, 81.87601470947266, 83.29813385009766, 83.62203979492188, 87.69856262207031, 38.9344367980957, 205.75149536132812, 83.57172393798828, 20.922889709472656, 212.78640747070312, 1413.0244140625, 248.24310302734375, 330.9640808105469, 113.00359344482422, 199.8260498046875, 198.20587158203125, 92.2391128540039, 416.6280822753906, 69.53683471679688, 250.47254943847656, 637.2144775390625, 460.03021240234375, 309.0458984375, 284.33599853515625, 372.4803161621094, 127.53848266601562, 204.06472778320312, 184.02462768554688, 166.93887329101562, 131.99949645996094, 128.3080291748047, 132.92465209960938, 111.64952087402344, 96.41625213623047, 31.89162826538086, 94.91975402832031, 36.57526779174805, 45.182945251464844, 10.441143989562988, 7.800508975982666, 7.788559913635254, 6.793753623962402, 5.864600658416748, 5.862006187438965, 4.89484167098999, 10.51444149017334, 107.53682708740234, 13.43368148803711, 4.683794021606445, 15.1721830368042, 11.336475372314453, 16.2967529296875, 107.52165222167969, 5.852880001068115, 38.903560638427734, 6.485893249511719, 6.4593682289123535, 9.267583847045898, 6.825552940368652, 69.0611572265625, 7.317379951477051, 12.627846717834473, 3.9294559955596924, 5.854806423187256, 1218.421142578125, 141.1454620361328, 153.92156982421875, 177.24655151367188, 87.21399688720703, 25.127389907836914, 203.588134765625, 343.8988342285156, 86.87397003173828, 29.574199676513672, 170.2913055419922, 59.755916595458984, 269.2599792480469, 71.67207336425781, 1262.50341796875, 1076.1341552734375, 72.3492660522461, 75.77230072021484, 207.79147338867188, 215.9413299560547, 898.6065063476562, 85.4112777709961, 448.2198791503906, 234.15309143066406, 393.59130859375, 341.64813232421875, 276.9622802734375, 177.99697875976562, 258.22821044921875, 185.0201416015625, 140.25015258789062, 171.99191284179688, 111.53153228759766, 114.56060028076172, 115.37551879882812, 113.7885971069336, 96.5843734741211, 13.52485466003418, 11.59444808959961, 9.672422409057617, 8.713979721069336, 7.75175142288208, 7.746985912322998, 8.574529647827148, 6.783949851989746, 12.527108192443848, 5.832475185394287, 7.46906852722168, 206.78558349609375, 6.541704177856445, 264.0182189941406, 4.868202209472656, 4.866534233093262, 4.862998008728027, 4.842642784118652, 4.799444198608398, 4.635610103607178, 12.213104248046875, 12.084808349609375, 6.792844772338867, 45.88185501098633, 44.197906494140625, 9.614925384521484, 9.439929008483887, 8.627062797546387, 44.477115631103516, 68.16191101074219, 209.8492889404297, 121.72648620605469, 46.66023254394531, 499.9673767089844, 85.12547302246094, 476.9300842285156, 296.2148132324219, 50.292999267578125, 720.1205444335938, 85.33904266357422, 225.53956604003906, 160.27069091796875, 62.12239074707031, 297.9454650878906, 62.32087326049805, 25.4281063079834, 117.23838806152344, 136.74053955078125, 63.669342041015625, 1226.6427001953125, 99.64309692382812, 92.3754653930664, 516.8092651367188, 104.4152603149414, 132.9955291748047, 842.9551391601562, 191.39100646972656, 166.81651306152344, 366.8056335449219, 371.0091857910156, 268.5592956542969, 187.65371704101562, 120.27583312988281, 137.0981903076172, 135.59344482421875, 189.48373413085938, 132.60325622558594, 162.8694610595703, 158.52957153320312, 124.4424819946289, 142.42620849609375, 101.11164855957031, 22.4570255279541, 16.61570167541504, 12.636125564575195, 9.790369987487793, 7.809892654418945, 6.873889446258545, 5.897802352905273, 70.07838439941406, 4.931511878967285, 4.926346302032471, 4.926591873168945, 4.929305553436279, 145.54380798339844, 4.848480701446533, 26.451913833618164, 8.550838470458984, 25.54507064819336, 17.58778190612793, 12.838576316833496, 6.806368827819824, 76.78516387939453, 37.824981689453125, 15.621321678161621, 1069.9801025390625, 101.90422821044922, 4.856513500213623, 11.38311767578125, 9.274455070495605, 3.9584169387817383, 13.254931449890137, 440.6791076660156, 370.8179016113281, 713.2684326171875, 134.6592559814453, 145.0880584716797, 100.32500457763672, 331.8827819824219, 208.8315887451172, 93.63970947265625, 110.16294860839844, 347.1253967285156, 402.1102600097656, 203.2228240966797, 175.513427734375, 138.80238342285156, 181.77667236328125, 107.25068664550781, 625.3262329101562, 345.9977111816406, 294.2536926269531, 308.6847229003906, 115.12422943115234, 214.033203125, 96.21343994140625, 233.59742736816406, 249.47410583496094, 188.98524475097656, 128.40245056152344, 140.478515625, 124.6979751586914, 117.09477233886719, 109.58223724365234, 38.61227035522461, 12.987109184265137, 33.722251892089844, 28.80683135986328, 10.776704788208008, 8.02743911743164, 7.9922194480896, 7.034058570861816, 7.0225725173950195, 6.994152545928955, 6.959140777587891, 6.914449214935303, 6.033867835998535, 6.031517505645752, 204.02243041992188, 137.04928588867188, 5.043147087097168, 5.040002346038818, 5.040252208709717, 5.039888381958008, 5.039407253265381, 5.0412821769714355, 5.035953044891357, 5.041369915008545, 5.028526782989502, 5.036375045776367, 47.55414962768555, 10.020323753356934, 7.468497276306152, 29.93206024169922, 84.17707824707031, 103.12837982177734, 19.759140014648438, 89.55779266357422, 15.671234130859375, 163.59490966796875, 30.935152053833008, 11.704572677612305, 241.31924438476562, 130.6186981201172, 98.82518005371094, 54.856746673583984, 878.8930053710938, 1243.9610595703125, 136.30410766601562, 148.80284118652344, 119.9754638671875, 136.3448028564453, 122.19048309326172, 41.513648986816406, 148.5838165283203, 211.98040771484375, 111.29305267333984, 61.781898498535156, 72.1814956665039, 73.45183563232422, 692.548095703125, 250.35183715820312, 96.44752502441406, 64.83036041259766, 180.4100799560547, 232.2205352783203, 241.62709045410156, 139.9111328125, 155.56573486328125, 91.61546325683594, 96.7400894165039, 118.32423400878906, 104.37104797363281, 16.9147891998291, 12.944587707519531, 11.943325996398926, 25.62409782409668, 8.982905387878418, 8.982905387878418, 8.930122375488281, 18.64170265197754, 39.616416931152344, 6.997479438781738, 6.991426467895508, 6.986413478851318, 6.010776042938232, 6.007803440093994, 6.006364345550537, 6.00490665435791, 6.008184432983398, 6.009242534637451, 5.99424409866333, 5.999959468841553, 5.967194080352783, 5.90472412109375, 25.362829208374023, 5.019968509674072, 5.019512176513672, 5.018190383911133, 5.016870975494385, 5.017837047576904, 5.017533779144287, 5.013821601867676, 12.542938232421875, 14.933233261108398, 77.24958038330078, 26.50700569152832, 25.465686798095703, 9.917503356933594, 9.841499328613281, 17.42934226989746, 157.6515655517578, 12.729995727539062, 20.94626235961914, 9.77805233001709, 1192.08056640625, 12.946043968200684, 1188.0679931640625, 39.91765213012695, 62.2758674621582, 76.38740539550781, 80.8039321899414, 222.7501678466797, 93.36105346679688, 92.22773742675781, 31.241806030273438, 46.77606201171875, 26.91451072692871, 224.13858032226562, 18.376075744628906, 42.495994567871094, 35.84343719482422, 40.930091857910156, 48.30344009399414, 48.448486328125, 95.03105926513672, 255.84217834472656, 34.595218658447266, 43.27716827392578, 49.334869384765625, 148.50755310058594, 236.66122436523438, 269.8602294921875, 100.49553680419922, 137.74966430664062, 55.56507110595703, 65.21893310546875, 45.92145538330078, 110.4615249633789, 75.6941146850586, 68.4230728149414, 70.26052856445312, 82.79776763916016, 73.8185806274414, 82.74546813964844, 94.22334289550781, 60.14948272705078, 57.513404846191406, 73.12350463867188, 226.63009643554688, 196.55067443847656, 89.27609252929688, 87.28549194335938, 82.26143646240234, 71.24403381347656, 309.24346923828125, 51.18951416015625, 36.154239654541016, 33.14805221557617, 33.142982482910156, 34.08637619018555, 20.11297035217285, 15.103682518005371, 15.100102424621582, 325.3055114746094, 12.088546752929688, 40.86126708984375, 50.94194030761719, 11.092385292053223, 10.090800285339355, 10.090312957763672, 10.07984447479248, 52.16871643066406, 9.087942123413086, 8.082657814025879, 8.081764221191406, 8.08205509185791, 8.07400894165039, 8.077157020568848, 160.98558044433594, 171.48561096191406, 314.2531433105469, 338.0957946777344, 13.967934608459473, 32.90459060668945, 20.355470657348633, 39.912166595458984, 36.84574508666992, 35.30535888671875, 43.318355560302734, 127.5141372680664, 56.72655487060547, 21.710615158081055, 48.708831787109375, 36.35417556762695, 49.52788162231445, 72.02772521972656, 154.47857666015625, 200.03030395507812, 289.7535705566406, 63.526058197021484, 82.27989959716797, 154.2141571044922, 57.41890335083008, 63.05696487426758, 71.02141571044922, 123.41163635253906, 84.663330078125, 104.82134246826172, 135.1395263671875, 84.57335662841797, 109.83582305908203, 86.99890899658203, 108.52593994140625, 76.5604019165039, 82.48841094970703, 14.8035306930542, 12.844361305236816, 11.864070892333984, 10.867141723632812, 9.894061088562012, 9.890641212463379, 9.891105651855469, 8.846526145935059, 8.776167869567871, 345.64300537109375, 6.93461799621582, 6.934301853179932, 6.9179301261901855, 7.779743671417236, 6.82333517074585, 5.961592197418213, 5.955260753631592, 13.607865333557129, 17.682010650634766, 4.975801944732666, 4.976654052734375, 4.973300457000732, 11.481707572937012, 6.929596900939941, 109.8061752319336, 5.2531819343566895, 9.759214401245117, 5.962690353393555, 12.527432441711426, 9.239171981811523, 406.6705017089844, 31.013517379760742, 189.654052734375, 58.26905822753906, 118.4630126953125, 156.6671142578125, 37.549560546875, 91.34187316894531, 145.21192932128906, 43.94278335571289, 484.79205322265625, 69.48096466064453, 418.833251953125, 66.98673248291016, 305.04217529296875, 48.85400390625, 96.2227554321289, 919.1632080078125, 232.23277282714844, 654.8467407226562, 101.29731750488281, 125.79239654541016, 33.794578552246094, 341.0540771484375, 72.94046783447266, 40.892539978027344, 50.83769607543945, 212.193359375, 90.77827453613281, 139.48342895507812, 166.42813110351562, 133.5274200439453, 141.8834686279297, 72.15665435791016, 97.33956146240234, 76.76171112060547, 83.0971450805664, 195.94827270507812, 43.88142013549805, 13.549262046813965, 9.842602729797363, 30.25648307800293, 8.863723754882812, 8.851256370544434, 10.549155235290527, 37.765235900878906, 7.884669303894043, 9.635604858398438, 6.909710884094238, 6.902284145355225, 6.883880615234375, 23.207555770874023, 5.9344587326049805, 5.934884548187256, 14.314699172973633, 5.885429859161377, 6.715203762054443, 4.952534198760986, 4.953074932098389, 4.93936824798584, 4.94434118270874, 9.846962928771973, 4.920340061187744, 4.908407688140869, 14.46136474609375, 12.666508674621582, 30.74654769897461, 78.35545349121094, 68.75702667236328, 368.0335693359375, 115.5639877319336, 48.80081558227539, 28.043163299560547, 567.8731079101562, 87.32494354248047, 775.248779296875, 82.1270523071289, 312.3282165527344, 50.99254608154297, 91.15209197998047, 78.2554702758789, 79.1551513671875, 69.52591705322266, 60.121952056884766, 81.77275848388672, 92.3360595703125, 138.01458740234375, 300.0906677246094, 107.45123291015625, 227.68455505371094, 325.7634582519531, 193.31698608398438, 398.5673828125, 190.78756713867188, 228.93984985351562, 303.2411193847656, 88.0112533569336, 122.51018524169922, 229.76124572753906, 264.45367431640625, 256.5417785644531, 131.38037109375, 83.4734878540039, 78.3997573852539, 48.853240966796875, 28.031970977783203, 43.41523361206055, 52.932945251464844, 19.850730895996094, 14.026131629943848, 12.059347152709961, 10.060222625732422, 10.058399200439453, 10.0512056350708, 9.062458038330078, 9.059988021850586, 9.053154945373535, 9.053959846496582, 8.010993957519531, 11.487812995910645, 7.061101913452148, 7.046769142150879, 6.062528133392334, 6.059518337249756, 6.059342861175537, 6.04691219329834, 6.047196865081787, 6.902194023132324, 8.512843132019043, 5.911418914794922, 10.997654914855957, 5.062967300415039, 5.0628461837768555, 5.060549259185791, 86.28107452392578, 42.465919494628906, 26.890901565551758, 13.427811622619629, 208.07247924804688, 28.48578453063965, 29.442861557006836, 34.339111328125, 17.109888076782227, 116.9856948852539, 245.17526245117188, 164.34703063964844, 9.939129829406738, 54.07575607299805, 29.2033748626709, 370.3528747558594, 35.36725616455078, 50.34378433227539, 149.89405822753906, 148.49794006347656, 238.1342010498047, 36.373451232910156, 16.56901741027832, 58.53095626831055, 35.102901458740234, 95.44805908203125, 87.57868194580078, 220.6945037841797, 118.69783020019531, 200.21246337890625, 155.85496520996094, 265.8795166015625, 62.69247817993164, 161.1900177001953, 113.66845703125, 56.312461853027344, 50.8498420715332, 86.60356903076172, 75.83155059814453, 93.7540054321289, 92.48725891113281, 101.13494110107422, 75.36589050292969, 72.57988739013672, 78.3698501586914, 62.32151412963867, 57.81161880493164, 153.33599853515625, 68.74009704589844, 46.84767150878906, 67.57420349121094, 23.8381290435791, 25.680953979492188, 26.454973220825195, 15.00114631652832, 25.257421493530273, 11.984792709350586, 11.009600639343262, 542.4437866210938, 9.999744415283203, 9.987363815307617, 9.98731803894043, 10.877461433410645, 9.022706031799316, 9.865056991577148, 8.029690742492676, 8.029632568359375, 8.029107093811035, 61.57221221923828, 7.014825820922852, 6.014721393585205, 30.473140716552734, 5.042427062988281, 5.0418925285339355, 5.04115104675293, 5.040760517120361, 5.031617164611816, 811.6748657226562, 20.79664421081543, 23.622636795043945, 220.26405334472656, 18.369789123535156, 25.950407028198242, 178.95301818847656, 117.4877700805664, 80.57440948486328, 219.47744750976562, 22.67728042602539, 52.81549835205078, 108.70647430419922, 33.68729782104492, 313.0850830078125, 122.44608306884766, 304.39630126953125, 100.63982391357422, 177.67230224609375, 177.39675903320312, 78.64604949951172, 46.48015213012695, 250.11865234375, 65.96981811523438, 260.8855895996094, 150.95175170898438, 87.54938507080078, 129.37423706054688, 171.0299072265625, 118.0240249633789, 82.2047119140625, 147.42543029785156, 109.2047119140625, 82.88699340820312, 102.3770980834961, 85.64928436279297, 83.72132873535156, 25.655946731567383, 23.604177474975586, 13.324685096740723, 11.252635955810547, 12.889053344726562, 7.231804847717285, 9.91018295288086, 6.205676078796387, 6.2082200050354, 6.205104827880859, 19.4420166015625, 6.181877613067627, 5.182941913604736, 6.055531024932861, 5.183894634246826, 5.179738521575928, 5.171909809112549, 5.1803741455078125, 11.120588302612305, 15.321512222290039, 6.752774715423584, 5.059755802154541, 13.369579315185547, 17.53584098815918, 8.252901077270508, 5.744656085968018, 8.255936622619629, 12.216986656188965, 8.08847427368164, 44.17255401611328, 66.88292694091797, 20.993146896362305, 56.93634796142578, 72.20214080810547, 10.3036470413208, 17.173192977905273, 48.49808120727539, 66.84144592285156, 305.7419128417969, 31.299489974975586, 23.49146842956543, 59.69812774658203, 98.10084533691406, 19.89948272705078, 99.49360656738281, 171.8687286376953, 51.474544525146484, 37.19831085205078, 43.61347198486328, 67.9890365600586, 29.411312103271484, 84.65227508544922, 204.2618408203125, 134.24960327148438, 191.3378143310547, 77.63745880126953, 101.10887145996094, 300.64013671875, 67.96356201171875, 141.5303497314453, 110.47544860839844, 67.31998443603516, 84.60760498046875, 108.33256530761719, 149.8563232421875, 69.03111267089844, 115.1681900024414, 71.6045150756836, 109.1205062866211, 78.33973693847656, 83.56158447265625, 68.12989044189453, 17.55275535583496, 15.58855152130127, 10.41026782989502, 8.343011856079102, 8.34111213684082, 8.330491065979004, 8.333553314208984, 8.335854530334473, 8.314327239990234, 8.300932884216309, 7.301549911499023, 7.269876480102539, 7.241184711456299, 6.2759294509887695, 6.275362014770508, 6.269239902496338, 31.97480010986328, 11.430750846862793, 5.239108562469482, 5.239529132843018, 5.239223003387451, 5.235306739807129, 5.233580589294434, 5.23223352432251, 22.611833572387695, 8.328465461730957, 7.282501220703125, 10.382572174072266, 7.090156078338623, 6.274675369262695, 7.80750036239624, 31.023120880126953, 10.031339645385742, 23.73839569091797, 47.650146484375, 93.3946762084961, 207.8657989501953, 26.221118927001953, 518.7141723632812, 9.278251647949219, 513.0145874023438, 105.93257904052734, 42.046478271484375, 19.415130615234375, 62.584632873535156, 349.1826477050781, 76.02413940429688, 134.6914825439453, 18.272558212280273, 40.96901321411133, 62.65711975097656, 96.96979522705078, 23.21741485595703, 19.685585021972656, 47.05078125, 44.63716125488281, 50.795902252197266, 147.34124755859375, 196.32608032226562, 54.102256774902344, 41.6308708190918, 167.82359313964844, 34.85129165649414, 90.47686004638672, 119.899658203125, 97.5864486694336, 98.16053771972656, 139.37680053710938, 119.46058654785156, 78.24944305419922, 104.42122650146484, 84.5650634765625, 82.89340209960938, 61.29356002807617, 62.55422592163086, 67.85794067382812, 56.78679656982422, 54.92612838745117, 44.6658821105957, 21.843551635742188, 62.486270904541016, 17.70676040649414, 21.602373123168945, 13.559757232666016, 11.483466148376465, 11.479731559753418, 11.475854873657227, 10.446320533752441, 9.404804229736328, 9.402121543884277, 8.368729591369629, 8.36823844909668, 9.269709587097168, 7.332818984985352, 7.3317742347717285, 7.326886177062988, 28.789762496948242, 6.294999122619629, 6.292108058929443, 6.287520408630371, 6.268405437469482, 6.244340419769287, 5.25726842880249, 5.257029056549072, 5.254079818725586, 5.251636028289795, 5.248775005340576, 5.252164840698242, 19.226716995239258, 134.29293823242188, 20.28109359741211, 13.26719856262207, 9.326557159423828, 9.302498817443848, 44.24675750732422, 65.1813735961914, 136.26922607421875, 13.746378898620605, 111.1543960571289, 40.05642318725586, 39.59455871582031, 51.98090744018555, 19.248619079589844, 15.303750038146973, 35.709388732910156, 45.769107818603516, 75.8237075805664, 29.792634963989258, 22.749568939208984, 29.194259643554688, 28.558862686157227, 181.16195678710938, 121.34339904785156, 55.05069351196289, 32.798805236816406, 50.35681915283203, 63.35325241088867, 51.866493225097656, 53.115509033203125, 177.59597778320312, 120.77192687988281, 79.6482925415039, 54.9002685546875, 66.85401153564453, 85.32842254638672, 77.65567779541016, 68.23095703125, 74.87718963623047, 47.02643585205078, 50.390079498291016, 52.00270462036133, 50.531158447265625, 53.55704879760742, 49.24985885620117], \"Total\": [2553.0, 1922.0, 1483.0, 1498.0, 4557.0, 1884.0, 3111.0, 1550.0, 1114.0, 1994.0, 3344.0, 4772.0, 1634.0, 6236.0, 1393.0, 592.0, 1202.0, 1574.0, 1350.0, 1037.0, 976.0, 701.0, 782.0, 778.0, 629.0, 608.0, 3226.0, 1739.0, 995.0, 800.0, 16.646772384643555, 12.733918190002441, 11.75029468536377, 11.748211860656738, 235.287841796875, 34.23371124267578, 9.795775413513184, 9.796887397766113, 9.795271873474121, 9.795073509216309, 8.815226554870605, 7.837208271026611, 7.8363356590271, 7.835848808288574, 7.8350830078125, 7.839674949645996, 198.07159423828125, 22.543630599975586, 6.861037254333496, 6.861037731170654, 6.861079216003418, 6.859615325927734, 6.858004093170166, 6.849912643432617, 179.2815704345703, 7.844246864318848, 5.882316589355469, 5.883360385894775, 5.878720760345459, 5.878864288330078, 83.44652557373047, 31.303993225097656, 81.49207305908203, 63.83294677734375, 1498.9202880859375, 125.70240020751953, 180.44859313964844, 75.67911529541016, 23.568815231323242, 105.0401382446289, 38.17388916015625, 510.27032470703125, 1884.1148681640625, 381.9654846191406, 262.26190185546875, 63.043968200683594, 316.2327880859375, 57.8164176940918, 239.96826171875, 56.0706787109375, 44.09379196166992, 328.4852600097656, 565.5396118164062, 54.70344161987305, 521.7351684570312, 572.500732421875, 188.9491424560547, 132.4597930908203, 88.58109283447266, 6236.490234375, 3226.783935546875, 238.5321502685547, 281.183349609375, 4557.73291015625, 739.1168212890625, 345.37408447265625, 639.5914916992188, 1922.43994140625, 4772.25048828125, 1148.0107421875, 1574.215576171875, 602.3026733398438, 3111.44677734375, 1281.089111328125, 3344.559326171875, 152.29559326171875, 48.49528121948242, 23.287212371826172, 18.440889358520508, 13.581228256225586, 47.6549072265625, 11.653007507324219, 25.26080322265625, 25.254968643188477, 18.473922729492188, 7.775467872619629, 7.767401218414307, 7.772677898406982, 198.6695098876953, 6.8045525550842285, 6.801239967346191, 88.77145385742188, 63.51844024658203, 103.73886108398438, 5.834934234619141, 5.834922790527344, 5.837125301361084, 5.836090564727783, 5.831412315368652, 5.821177959442139, 5.8362579345703125, 5.838201999664307, 263.9556884765625, 11.704740524291992, 38.1199836730957, 207.76657104492188, 91.10442352294922, 44.70905685424805, 170.080322265625, 56.60123062133789, 50.821441650390625, 122.5158920288086, 129.56362915039062, 139.74313354492188, 149.9488067626953, 59.510009765625, 453.274169921875, 157.10159301757812, 30.047271728515625, 528.8807373046875, 6236.490234375, 701.3115234375, 1041.36328125, 246.90452575683594, 608.50927734375, 641.2924194335938, 202.80978393554688, 1994.951904296875, 132.8667755126953, 1018.6289672851562, 4772.25048828125, 3111.44677734375, 1739.4654541015625, 1892.6466064453125, 3344.559326171875, 434.5091857910156, 1640.87841796875, 1483.6077880859375, 1202.08984375, 830.4349365234375, 1350.7193603515625, 1697.006103515625, 800.2706909179688, 1634.7984619140625, 32.92298889160156, 99.73219299316406, 38.742984771728516, 48.45775604248047, 11.629168510437012, 8.72935676574707, 8.726841926574707, 7.76605224609375, 6.793302536010742, 6.792540550231934, 5.823521614074707, 12.63606071472168, 129.8251953125, 16.5374813079834, 5.827224254608154, 19.401308059692383, 14.595147132873535, 21.37603759765625, 141.61097717285156, 7.804845333099365, 52.387123107910156, 8.765223503112793, 8.771971702575684, 12.691845893859863, 9.676090240478516, 99.01653289794922, 10.680906295776367, 18.529773712158203, 5.818573951721191, 8.727853775024414, 1922.43994140625, 218.90576171875, 256.708251953125, 304.777099609375, 149.9029998779297, 38.91708755493164, 402.9616394042969, 739.1168212890625, 161.24888610839844, 47.624549865722656, 357.49163818359375, 107.45663452148438, 639.5914916992188, 136.7864990234375, 4557.73291015625, 4772.25048828125, 157.09759521484375, 167.00770568847656, 683.3714599609375, 778.18701171875, 6236.490234375, 238.5321502685547, 3344.559326171875, 1269.60693359375, 3226.783935546875, 2553.5654296875, 1892.6466064453125, 976.0081787109375, 3111.44677734375, 1483.6077880859375, 810.4821166992188, 1640.87841796875, 572.500732421875, 830.4349365234375, 1281.089111328125, 1202.08984375, 663.94921875, 14.457786560058594, 12.525667190551758, 10.603104591369629, 9.644819259643555, 8.681200981140137, 8.685201644897461, 9.646553039550781, 7.71993350982666, 14.456743240356445, 6.761587619781494, 8.685351371765137, 242.02276611328125, 7.728077411651611, 314.4001770019531, 5.797361850738525, 5.795835971832275, 5.795185565948486, 5.7982330322265625, 5.786831378936768, 5.7897772789001465, 15.505313873291016, 15.46961498260498, 8.710359573364258, 59.98447036743164, 58.06765365600586, 12.684722900390625, 12.581496238708496, 11.598963737487793, 60.05973815917969, 94.62065124511719, 295.391845703125, 171.85330200195312, 65.19711303710938, 782.3090209960938, 123.71244812011719, 800.2706909179688, 496.46539306640625, 72.7365493774414, 1350.7193603515625, 140.53753662109375, 424.7610778808594, 308.9303894042969, 104.0442123413086, 684.4505615234375, 107.14777374267578, 36.893280029296875, 229.22262573242188, 279.7768859863281, 112.91757202148438, 4772.25048828125, 207.51063537597656, 228.84820556640625, 2553.5654296875, 281.183349609375, 404.4410400390625, 6236.490234375, 810.4821166992188, 663.94921875, 3111.44677734375, 3344.559326171875, 1994.951904296875, 995.0631713867188, 401.54144287109375, 593.4856567382812, 602.3026733398438, 1640.87841796875, 572.3734130859375, 1269.60693359375, 1697.006103515625, 640.9824829101562, 4557.73291015625, 102.27332305908203, 23.389230728149414, 17.543920516967773, 13.641782760620117, 10.727498054504395, 8.774270057678223, 7.803553581237793, 6.830575942993164, 82.85330963134766, 5.859801769256592, 5.854671478271484, 5.85513162612915, 5.858651161193848, 175.31988525390625, 5.853060722351074, 33.11854553222656, 10.745205879211426, 32.13895797729492, 22.5494384765625, 16.534353256225586, 8.802730560302734, 99.65400695800781, 50.730751037597656, 21.543724060058594, 1483.6077880859375, 142.61709594726562, 6.816418170928955, 16.663137435913086, 13.680325508117676, 5.861871719360352, 19.681222915649414, 701.3115234375, 608.50927734375, 1202.08984375, 215.4355926513672, 235.97996520996094, 163.5360107421875, 679.64501953125, 429.74798583984375, 185.30885314941406, 227.0354766845703, 1148.0107421875, 1550.673583984375, 639.7854614257812, 528.8807373046875, 402.9616394042969, 623.6947631835938, 304.777099609375, 4557.73291015625, 1922.43994140625, 1634.7984619140625, 1892.6466064453125, 427.4272155761719, 1697.006103515625, 366.0257568359375, 3226.783935546875, 6236.490234375, 3344.559326171875, 778.18701171875, 4772.25048828125, 1884.1148681640625, 1281.089111328125, 1574.215576171875, 39.826560974121094, 13.931143760681152, 36.854549407958984, 31.833654403686523, 11.933794021606445, 8.957385063171387, 8.952906608581543, 7.961280345916748, 7.960329532623291, 7.9369330406188965, 7.950368404388428, 7.959140777587891, 6.96076774597168, 6.963206768035889, 239.569091796875, 161.9136505126953, 5.969883918762207, 5.966883182525635, 5.967240333557129, 5.966831684112549, 5.9664740562438965, 5.968720436096191, 5.962804794311523, 5.969989776611328, 5.95534610748291, 5.9650959968566895, 56.639835357666016, 11.946602821350098, 8.941436767578125, 36.834930419921875, 110.1073989868164, 139.18260192871094, 24.87215805053711, 124.44669342041016, 19.83917808532715, 248.94357299804688, 41.81730270385742, 14.882745742797852, 405.69366455078125, 218.39292907714844, 162.65716552734375, 85.2115249633789, 1994.951904296875, 3111.44677734375, 249.7967071533203, 298.41253662109375, 236.70523071289062, 284.99432373046875, 256.0830383300781, 68.8387451171875, 348.1534423828125, 572.3734130859375, 259.7767028808594, 128.05361938476562, 160.677490234375, 176.74319458007812, 6236.490234375, 1269.60693359375, 295.9411926269531, 161.9930419921875, 1640.87841796875, 3226.783935546875, 4772.25048828125, 1281.089111328125, 1739.4654541015625, 390.00347900390625, 640.9824829101562, 1892.6466064453125, 1697.006103515625, 17.843639373779297, 13.872657775878906, 12.885228157043457, 27.793813705444336, 9.912703514099121, 9.912703514099121, 9.880134582519531, 20.843257904052734, 44.73811340332031, 7.925607681274414, 7.924710273742676, 7.928051471710205, 6.9379096031188965, 6.935227870941162, 6.933587074279785, 6.931978225708008, 6.936479568481445, 6.938364028930664, 6.9214043617248535, 6.937963485717773, 6.919570446014404, 6.909567832946777, 29.70393180847168, 5.947091102600098, 5.9466423988342285, 5.945271015167236, 5.944141387939453, 5.9457502365112305, 5.945731163024902, 5.941444396972656, 14.87817096710205, 17.79547882080078, 95.33319854736328, 32.6469612121582, 31.561094284057617, 11.940116882324219, 11.892285346984863, 21.752296447753906, 227.94236755371094, 15.863274574279785, 27.67888069152832, 11.885480880737305, 2553.5654296875, 16.806398391723633, 3344.559326171875, 63.72743606567383, 112.58444213867188, 145.9089813232422, 157.5862579345703, 623.6947631835938, 213.69073486328125, 212.95199584960938, 52.52782440185547, 92.5660171508789, 44.768882751464844, 906.4818725585938, 26.78871726989746, 88.16954803466797, 69.74175262451172, 86.88689422607422, 111.32703399658203, 117.88667297363281, 357.49163818359375, 1892.6466064453125, 68.89039611816406, 102.65584564208984, 131.44943237304688, 1350.7193603515625, 4557.73291015625, 6236.490234375, 744.6891479492188, 1739.4654541015625, 203.484375, 320.40863037109375, 131.11599731445312, 1574.215576171875, 639.7854614257812, 468.65411376953125, 521.7351684570312, 1018.6289672851562, 679.64501953125, 1114.633056640625, 3226.783935546875, 353.2537536621094, 313.0414123535156, 1697.006103515625, 227.580810546875, 197.50320434570312, 90.2228012084961, 88.21678161621094, 83.2043228149414, 72.17595672607422, 314.7521667480469, 52.12267303466797, 37.08494567871094, 34.07749938964844, 34.07566833496094, 35.07558822631836, 21.042463302612305, 16.0302677154541, 16.02733612060547, 348.66424560546875, 13.020201683044434, 44.0897331237793, 55.13838195800781, 12.019244194030762, 11.017480850219727, 11.016992568969727, 11.012185096740723, 57.27290725708008, 10.014725685119629, 9.009214401245117, 9.008248329162598, 9.009346008300781, 9.00064754486084, 9.005882263183594, 185.4762725830078, 203.01918029785156, 418.99859619140625, 458.32244873046875, 16.01881217956543, 40.106754302978516, 23.968158721923828, 49.8492546081543, 45.93722152709961, 43.881103515625, 61.00251007080078, 228.26010131835938, 97.42166137695312, 26.939361572265625, 87.28398132324219, 58.812034606933594, 101.9846420288086, 212.95199584960938, 906.4818725585938, 1739.4654541015625, 4772.25048828125, 170.25485229492188, 320.40863037109375, 1640.87841796875, 146.9088897705078, 196.3370361328125, 291.1120910644531, 1697.006103515625, 572.3734130859375, 1202.08984375, 3111.44677734375, 684.4505615234375, 3344.559326171875, 1018.6289672851562, 4557.73291015625, 1148.0107421875, 3226.783935546875, 15.732053756713867, 13.772594451904297, 12.791986465454102, 11.806828498840332, 10.822172164916992, 10.81855583190918, 10.819218635559082, 9.829423904418945, 9.83743667602539, 388.3313903808594, 7.8623857498168945, 7.868500232696533, 7.872440338134766, 8.854278564453125, 7.868387699127197, 6.889951705932617, 6.8864312171936035, 15.75748062133789, 20.642255783081055, 5.903460502624512, 5.904727458953857, 5.900990009307861, 13.80024242401123, 8.823068618774414, 142.63560485839844, 6.879873275756836, 12.817376136779785, 7.88755989074707, 16.731660842895508, 12.775012969970703, 629.9804077148438, 44.555389404296875, 334.64404296875, 93.14326477050781, 207.7490692138672, 295.4886169433594, 59.275062561035156, 166.08604431152344, 307.391845703125, 76.18562316894531, 1393.987060546875, 133.90350341796875, 1281.089111328125, 135.1165771484375, 976.0081787109375, 94.73770904541016, 231.0404510498047, 4557.73291015625, 744.6891479492188, 3226.783935546875, 286.35052490234375, 404.3858947753906, 62.418487548828125, 1884.1148681640625, 195.6184539794922, 86.88689422607422, 124.81101989746094, 1498.9202880859375, 422.1181640625, 1037.4808349609375, 1697.006103515625, 1350.7193603515625, 1574.215576171875, 312.8336181640625, 778.18701171875, 593.4856567382812, 1114.633056640625, 198.7301025390625, 45.03969192504883, 14.694597244262695, 10.775166511535645, 33.284393310546875, 9.796648979187012, 9.794683456420898, 11.749319076538086, 42.15456008911133, 8.81434440612793, 10.778767585754395, 7.838080883026123, 7.836295127868652, 7.829870223999023, 26.5313663482666, 6.862748146057129, 6.863312721252441, 16.665849685668945, 6.853627681732178, 7.834409236907959, 5.880525588989258, 5.88350772857666, 5.867372512817383, 5.876492977142334, 11.739274024963379, 5.881534576416016, 5.873287677764893, 17.588024139404297, 15.655295372009277, 39.19429016113281, 99.9922103881836, 88.53107452392578, 558.2933959960938, 166.29530334472656, 68.8797836303711, 38.70298385620117, 1037.4808349609375, 133.75918579101562, 1574.215576171875, 128.4490509033203, 602.3026733398438, 76.45281982421875, 149.82374572753906, 126.66655731201172, 134.79478454589844, 117.34028625488281, 100.7973861694336, 150.02664184570312, 175.53240966796875, 404.4410400390625, 1269.60693359375, 309.9763488769531, 976.0081787109375, 1739.4654541015625, 810.4821166992188, 3226.783935546875, 995.0631713867188, 1393.987060546875, 4557.73291015625, 279.7768859863281, 629.9804077148438, 3111.44677734375, 4772.25048828125, 6236.490234375, 1994.951904296875, 368.4905090332031, 220.17889404296875, 49.98183059692383, 28.976696014404297, 44.97224044799805, 55.9263801574707, 20.97864532470703, 14.980952262878418, 12.986104965209961, 10.987217903137207, 10.986294746398926, 10.984641075134277, 9.98900032043457, 9.986695289611816, 9.980788230895996, 9.982582092285156, 8.983173370361328, 12.979093551635742, 7.987743377685547, 7.981393337249756, 6.989106178283691, 6.986255645751953, 6.988487720489502, 6.97726583480835, 6.9798126220703125, 7.98421049118042, 9.974736213684082, 6.978377819061279, 12.984773635864258, 5.9894795417785645, 5.989342212677002, 5.987068176269531, 103.04443359375, 50.74347686767578, 32.00478744506836, 15.940817832946777, 257.9483947753906, 34.806549072265625, 36.94990921020508, 43.76768493652344, 20.916725158691406, 186.04173278808594, 471.08447265625, 298.683837890625, 11.9791841506958, 90.24297332763672, 45.09015655517578, 1550.673583984375, 63.700347900390625, 103.61693572998047, 468.65411376953125, 487.2549133300781, 1041.36328125, 74.5166015625, 23.082841873168945, 157.09759521484375, 72.38819885253906, 387.6817932128906, 339.4510498046875, 1634.7984619140625, 634.8876953125, 1892.6466064453125, 1739.4654541015625, 6236.490234375, 251.6217803955078, 3226.783935546875, 1393.987060546875, 224.5631561279297, 180.73605346679688, 1037.4808349609375, 679.64501953125, 1697.006103515625, 2553.5654296875, 4772.25048828125, 1148.0107421875, 1640.87841796875, 3344.559326171875, 565.5396118164062, 481.62109375, 154.37806701660156, 69.71290588378906, 47.802940368652344, 69.67823028564453, 24.888660430908203, 26.880064010620117, 27.876136779785156, 15.929571151733398, 26.884435653686523, 12.942147254943848, 11.939679145812988, 592.0933227539062, 10.949080467224121, 10.949034690856934, 10.949033737182617, 11.94690227508545, 9.951343536376953, 10.947697639465332, 8.956650733947754, 8.95659065246582, 8.957659721374512, 68.74202728271484, 7.956098556518555, 6.959475517272949, 36.014122009277344, 5.96921968460083, 5.968657970428467, 5.968291282653809, 5.968312740325928, 5.958568096160889, 1114.633056640625, 25.951587677001953, 29.808246612548828, 338.639892578125, 23.79963493347168, 35.736087799072266, 314.3426818847656, 199.65243530273438, 133.0890350341797, 433.8915100097656, 30.742034912109375, 88.19539642333984, 219.0062255859375, 51.06431579589844, 995.0631713867188, 345.7427673339844, 1634.7984619140625, 315.282958984375, 782.3090209960938, 830.4349365234375, 231.0404510498047, 107.27769470214844, 2553.5654296875, 221.89324951171875, 4557.73291015625, 1550.673583984375, 471.08447265625, 1350.7193603515625, 3344.559326171875, 1393.987060546875, 640.9824829101562, 4772.25048828125, 1697.006103515625, 744.6891479492188, 3111.44677734375, 1041.36328125, 1884.1148681640625, 26.584060668945312, 24.538646697998047, 14.295968055725098, 12.24876594543457, 14.279644966125488, 8.157123565673828, 11.213376998901367, 7.130599021911621, 7.1339287757873535, 7.133901596069336, 22.359468460083008, 7.125941276550293, 6.107851982116699, 7.136203765869141, 6.109614849090576, 6.104994773864746, 6.098662853240967, 6.109184265136719, 13.217950820922852, 18.337255477905273, 8.136332511901855, 6.096534252166748, 16.259929656982422, 21.335281372070312, 10.17813491821289, 7.107894420623779, 10.216901779174805, 15.342432022094727, 10.212238311767578, 56.01622009277344, 95.677978515625, 28.335947036743164, 85.4548568725586, 111.69965362548828, 13.296754837036133, 24.180912017822266, 80.0977783203125, 123.73948669433594, 778.18701171875, 50.55792999267578, 38.37704086303711, 127.02915954589844, 263.6454772949219, 32.46878433227539, 307.391845703125, 744.6891479492188, 134.11044311523438, 85.06265258789062, 109.10066223144531, 220.17889404296875, 62.32567596435547, 343.8015441894531, 1739.4654541015625, 906.4818725585938, 1892.6466064453125, 368.4905090332031, 684.4505615234375, 6236.490234375, 353.2537536621094, 1640.87841796875, 1018.6289672851562, 366.0257568359375, 639.5914916992188, 1281.089111328125, 3344.559326171875, 424.7610778808594, 1697.006103515625, 593.4856567382812, 4557.73291015625, 1037.4808349609375, 3226.783935546875, 1884.1148681640625, 18.57354164123535, 16.51339340209961, 11.33492374420166, 9.267340660095215, 9.265400886535645, 9.255687713623047, 9.260692596435547, 9.264710426330566, 9.263705253601074, 9.26653003692627, 8.22696590423584, 8.224485397338867, 8.226223945617676, 7.200178623199463, 7.199559688568115, 7.194707870483398, 36.928653717041016, 13.357768058776855, 6.163358211517334, 6.164042949676514, 6.163844108581543, 6.161537170410156, 6.159914016723633, 6.160115718841553, 26.73012924194336, 10.218668937683105, 9.24561882019043, 13.24756908416748, 9.18184757232666, 8.162445068359375, 10.191143035888672, 41.82109451293945, 13.241374969482422, 34.67888259887695, 77.01483154296875, 167.8753204345703, 434.5091857910156, 41.913631439208984, 1550.673583984375, 12.269705772399902, 1634.7984619140625, 246.90452575683594, 80.06588745117188, 30.418155670166016, 142.65211486816406, 1393.987060546875, 196.3370361328125, 471.08447265625, 29.77619743347168, 95.52281188964844, 180.73605346679688, 366.0257568359375, 44.59640121459961, 34.77166748046875, 136.7864990234375, 127.20507049560547, 172.126708984375, 1018.6289672851562, 1697.006103515625, 199.65243530273438, 127.68449401855469, 1640.87841796875, 96.61405944824219, 683.3714599609375, 1269.60693359375, 906.4818725585938, 995.0631713867188, 4772.25048828125, 3226.783935546875, 1148.0107421875, 3344.559326171875, 1739.4654541015625, 1892.6466064453125, 641.2924194335938, 1037.4808349609375, 3111.44677734375, 810.4821166992188, 4557.73291015625, 45.62024688720703, 22.783246994018555, 65.26043701171875, 18.63612174987793, 22.771652221679688, 14.484607696533203, 12.407837867736816, 12.407569885253906, 12.40600872039795, 11.370768547058105, 10.328988075256348, 10.328147888183594, 9.29297924041748, 9.292717933654785, 10.32016658782959, 8.257118225097656, 8.256063461303711, 8.252991676330566, 32.944461822509766, 7.21906852722168, 7.216235637664795, 7.215470790863037, 7.213748931884766, 7.211843967437744, 6.181285381317139, 6.181063175201416, 6.17862606048584, 6.175898551940918, 6.172941207885742, 6.17867374420166, 22.686386108398438, 162.76535034179688, 25.73682403564453, 16.44759178161621, 11.320889472961426, 11.3157958984375, 60.763851165771484, 95.04924011230469, 234.8387908935547, 17.557172775268555, 204.09683227539062, 63.728050231933594, 70.71308135986328, 100.75654602050781, 28.51791000366211, 21.38019371032715, 68.23867797851562, 96.00015258789062, 198.99636840820312, 53.98139190673828, 37.76087188720703, 55.15971755981445, 54.289222717285156, 976.0081787109375, 572.500732421875, 212.16590881347656, 84.40870666503906, 202.80978393554688, 329.04827880859375, 219.0062255859375, 270.3943176269531, 4772.25048828125, 1994.951904296875, 830.4349365234375, 326.38641357421875, 684.4505615234375, 1739.4654541015625, 1640.87841796875, 1281.089111328125, 3226.783935546875, 424.7610778808594, 810.4821166992188, 1697.006103515625, 1634.7984619140625, 4557.73291015625, 1574.215576171875], \"Category\": [\"Default\", \"Default\", \"Default\", \"Default\", \"Default\", \"Default\", \"Default\", \"Default\", \"Default\", \"Default\", \"Default\", \"Default\", \"Default\", \"Default\", \"Default\", \"Default\", \"Default\", \"Default\", \"Default\", \"Default\", \"Default\", \"Default\", \"Default\", \"Default\", \"Default\", \"Default\", \"Default\", \"Default\", \"Default\", \"Default\", \"Topic1\", \"Topic1\", \"Topic1\", \"Topic1\", \"Topic1\", \"Topic1\", \"Topic1\", \"Topic1\", \"Topic1\", \"Topic1\", \"Topic1\", \"Topic1\", \"Topic1\", \"Topic1\", \"Topic1\", \"Topic1\", \"Topic1\", \"Topic1\", \"Topic1\", \"Topic1\", \"Topic1\", \"Topic1\", \"Topic1\", \"Topic1\", \"Topic1\", \"Topic1\", \"Topic1\", \"Topic1\", \"Topic1\", \"Topic1\", \"Topic1\", \"Topic1\", \"Topic1\", \"Topic1\", \"Topic1\", \"Topic1\", \"Topic1\", \"Topic1\", \"Topic1\", \"Topic1\", \"Topic1\", \"Topic1\", \"Topic1\", \"Topic1\", \"Topic1\", \"Topic1\", \"Topic1\", \"Topic1\", \"Topic1\", \"Topic1\", \"Topic1\", \"Topic1\", \"Topic1\", \"Topic1\", \"Topic1\", \"Topic1\", \"Topic1\", \"Topic1\", \"Topic1\", \"Topic1\", \"Topic1\", \"Topic1\", \"Topic1\", \"Topic1\", \"Topic1\", \"Topic1\", \"Topic1\", \"Topic1\", \"Topic1\", \"Topic1\", \"Topic1\", \"Topic1\", \"Topic1\", \"Topic1\", \"Topic1\", \"Topic2\", \"Topic2\", \"Topic2\", \"Topic2\", \"Topic2\", \"Topic2\", \"Topic2\", \"Topic2\", \"Topic2\", \"Topic2\", \"Topic2\", \"Topic2\", \"Topic2\", \"Topic2\", \"Topic2\", \"Topic2\", \"Topic2\", \"Topic2\", \"Topic2\", \"Topic2\", \"Topic2\", \"Topic2\", \"Topic2\", \"Topic2\", \"Topic2\", \"Topic2\", \"Topic2\", \"Topic2\", \"Topic2\", \"Topic2\", \"Topic2\", \"Topic2\", \"Topic2\", \"Topic2\", \"Topic2\", \"Topic2\", \"Topic2\", \"Topic2\", \"Topic2\", \"Topic2\", \"Topic2\", \"Topic2\", \"Topic2\", \"Topic2\", \"Topic2\", \"Topic2\", \"Topic2\", \"Topic2\", \"Topic2\", \"Topic2\", \"Topic2\", \"Topic2\", \"Topic2\", \"Topic2\", \"Topic2\", \"Topic2\", \"Topic2\", \"Topic2\", \"Topic2\", \"Topic2\", \"Topic2\", \"Topic2\", \"Topic2\", \"Topic2\", \"Topic2\", \"Topic2\", \"Topic2\", \"Topic2\", \"Topic2\", \"Topic3\", \"Topic3\", \"Topic3\", \"Topic3\", \"Topic3\", \"Topic3\", \"Topic3\", \"Topic3\", \"Topic3\", \"Topic3\", \"Topic3\", \"Topic3\", \"Topic3\", \"Topic3\", \"Topic3\", \"Topic3\", \"Topic3\", \"Topic3\", \"Topic3\", \"Topic3\", \"Topic3\", \"Topic3\", \"Topic3\", \"Topic3\", \"Topic3\", \"Topic3\", \"Topic3\", \"Topic3\", \"Topic3\", \"Topic3\", \"Topic3\", \"Topic3\", \"Topic3\", \"Topic3\", \"Topic3\", \"Topic3\", \"Topic3\", \"Topic3\", \"Topic3\", \"Topic3\", \"Topic3\", \"Topic3\", \"Topic3\", \"Topic3\", \"Topic3\", \"Topic3\", \"Topic3\", \"Topic3\", \"Topic3\", \"Topic3\", \"Topic3\", \"Topic3\", \"Topic3\", \"Topic3\", \"Topic3\", \"Topic3\", \"Topic3\", \"Topic3\", \"Topic3\", \"Topic3\", \"Topic3\", \"Topic3\", \"Topic3\", \"Topic3\", \"Topic3\", \"Topic3\", \"Topic3\", \"Topic4\", \"Topic4\", \"Topic4\", \"Topic4\", \"Topic4\", \"Topic4\", \"Topic4\", \"Topic4\", \"Topic4\", \"Topic4\", \"Topic4\", \"Topic4\", \"Topic4\", \"Topic4\", \"Topic4\", \"Topic4\", \"Topic4\", \"Topic4\", \"Topic4\", \"Topic4\", \"Topic4\", \"Topic4\", \"Topic4\", \"Topic4\", \"Topic4\", \"Topic4\", \"Topic4\", \"Topic4\", \"Topic4\", \"Topic4\", \"Topic4\", \"Topic4\", \"Topic4\", \"Topic4\", \"Topic4\", \"Topic4\", \"Topic4\", \"Topic4\", \"Topic4\", \"Topic4\", \"Topic4\", \"Topic4\", \"Topic4\", \"Topic4\", \"Topic4\", \"Topic4\", \"Topic4\", \"Topic4\", \"Topic4\", \"Topic4\", \"Topic4\", \"Topic4\", \"Topic4\", \"Topic4\", \"Topic4\", \"Topic4\", \"Topic4\", \"Topic4\", \"Topic4\", \"Topic4\", \"Topic4\", \"Topic4\", \"Topic4\", \"Topic4\", \"Topic4\", \"Topic4\", \"Topic4\", \"Topic4\", \"Topic4\", \"Topic4\", \"Topic4\", \"Topic5\", \"Topic5\", \"Topic5\", \"Topic5\", \"Topic5\", \"Topic5\", \"Topic5\", \"Topic5\", \"Topic5\", \"Topic5\", \"Topic5\", \"Topic5\", \"Topic5\", \"Topic5\", \"Topic5\", \"Topic5\", \"Topic5\", \"Topic5\", \"Topic5\", \"Topic5\", \"Topic5\", \"Topic5\", \"Topic5\", \"Topic5\", \"Topic5\", \"Topic5\", \"Topic5\", \"Topic5\", \"Topic5\", \"Topic5\", \"Topic5\", \"Topic5\", \"Topic5\", \"Topic5\", \"Topic5\", \"Topic5\", \"Topic5\", \"Topic5\", \"Topic5\", \"Topic5\", \"Topic5\", \"Topic5\", \"Topic5\", \"Topic5\", \"Topic5\", \"Topic5\", \"Topic5\", \"Topic5\", \"Topic5\", \"Topic5\", \"Topic5\", \"Topic5\", \"Topic5\", \"Topic5\", \"Topic5\", \"Topic5\", \"Topic5\", \"Topic5\", \"Topic5\", \"Topic5\", \"Topic5\", \"Topic5\", \"Topic5\", \"Topic6\", \"Topic6\", \"Topic6\", \"Topic6\", \"Topic6\", \"Topic6\", \"Topic6\", \"Topic6\", \"Topic6\", \"Topic6\", \"Topic6\", \"Topic6\", \"Topic6\", \"Topic6\", \"Topic6\", \"Topic6\", \"Topic6\", \"Topic6\", \"Topic6\", \"Topic6\", \"Topic6\", \"Topic6\", \"Topic6\", \"Topic6\", \"Topic6\", \"Topic6\", \"Topic6\", \"Topic6\", \"Topic6\", \"Topic6\", \"Topic6\", \"Topic6\", \"Topic6\", \"Topic6\", \"Topic6\", \"Topic6\", \"Topic6\", \"Topic6\", \"Topic6\", \"Topic6\", \"Topic6\", \"Topic6\", \"Topic6\", \"Topic6\", \"Topic6\", \"Topic6\", \"Topic6\", \"Topic6\", \"Topic6\", \"Topic6\", \"Topic6\", \"Topic6\", \"Topic6\", \"Topic6\", \"Topic6\", \"Topic6\", \"Topic6\", \"Topic6\", \"Topic6\", \"Topic6\", \"Topic6\", \"Topic6\", \"Topic6\", \"Topic6\", \"Topic6\", \"Topic6\", \"Topic6\", \"Topic6\", \"Topic6\", \"Topic7\", \"Topic7\", \"Topic7\", \"Topic7\", \"Topic7\", \"Topic7\", \"Topic7\", \"Topic7\", \"Topic7\", \"Topic7\", \"Topic7\", \"Topic7\", \"Topic7\", \"Topic7\", \"Topic7\", \"Topic7\", \"Topic7\", \"Topic7\", \"Topic7\", \"Topic7\", \"Topic7\", \"Topic7\", \"Topic7\", \"Topic7\", \"Topic7\", \"Topic7\", \"Topic7\", \"Topic7\", \"Topic7\", \"Topic7\", \"Topic7\", \"Topic7\", \"Topic7\", \"Topic7\", \"Topic7\", \"Topic7\", \"Topic7\", \"Topic7\", \"Topic7\", \"Topic7\", \"Topic7\", \"Topic7\", \"Topic7\", \"Topic7\", \"Topic7\", \"Topic7\", \"Topic7\", \"Topic7\", \"Topic7\", \"Topic7\", \"Topic7\", \"Topic7\", \"Topic7\", \"Topic7\", \"Topic7\", \"Topic7\", \"Topic7\", \"Topic7\", \"Topic7\", \"Topic7\", \"Topic7\", \"Topic7\", \"Topic7\", \"Topic7\", \"Topic7\", \"Topic7\", \"Topic7\", \"Topic7\", \"Topic7\", \"Topic7\", \"Topic7\", \"Topic7\", \"Topic7\", \"Topic7\", \"Topic7\", \"Topic7\", \"Topic7\", \"Topic7\", \"Topic7\", \"Topic7\", \"Topic7\", \"Topic7\", \"Topic7\", \"Topic7\", \"Topic7\", \"Topic7\", \"Topic8\", \"Topic8\", \"Topic8\", \"Topic8\", \"Topic8\", \"Topic8\", \"Topic8\", \"Topic8\", \"Topic8\", \"Topic8\", \"Topic8\", \"Topic8\", \"Topic8\", \"Topic8\", \"Topic8\", \"Topic8\", \"Topic8\", \"Topic8\", \"Topic8\", \"Topic8\", \"Topic8\", \"Topic8\", \"Topic8\", \"Topic8\", \"Topic8\", \"Topic8\", \"Topic8\", \"Topic8\", \"Topic8\", \"Topic8\", \"Topic8\", \"Topic8\", \"Topic8\", \"Topic8\", \"Topic8\", \"Topic8\", \"Topic8\", \"Topic8\", \"Topic8\", \"Topic8\", \"Topic8\", \"Topic8\", \"Topic8\", \"Topic8\", \"Topic8\", \"Topic8\", \"Topic8\", \"Topic8\", \"Topic8\", \"Topic8\", \"Topic8\", \"Topic8\", \"Topic8\", \"Topic8\", \"Topic8\", \"Topic8\", \"Topic8\", \"Topic8\", \"Topic8\", \"Topic8\", \"Topic8\", \"Topic8\", \"Topic8\", \"Topic8\", \"Topic8\", \"Topic8\", \"Topic8\", \"Topic9\", \"Topic9\", \"Topic9\", \"Topic9\", \"Topic9\", \"Topic9\", \"Topic9\", \"Topic9\", \"Topic9\", \"Topic9\", \"Topic9\", \"Topic9\", \"Topic9\", \"Topic9\", \"Topic9\", \"Topic9\", \"Topic9\", \"Topic9\", \"Topic9\", \"Topic9\", \"Topic9\", \"Topic9\", \"Topic9\", \"Topic9\", \"Topic9\", \"Topic9\", \"Topic9\", \"Topic9\", \"Topic9\", \"Topic9\", \"Topic9\", \"Topic9\", \"Topic9\", \"Topic9\", \"Topic9\", \"Topic9\", \"Topic9\", \"Topic9\", \"Topic9\", \"Topic9\", \"Topic9\", \"Topic9\", \"Topic9\", \"Topic9\", \"Topic9\", \"Topic9\", \"Topic9\", \"Topic9\", \"Topic9\", \"Topic9\", \"Topic9\", \"Topic9\", \"Topic9\", \"Topic9\", \"Topic9\", \"Topic9\", \"Topic9\", \"Topic9\", \"Topic9\", \"Topic9\", \"Topic9\", \"Topic9\", \"Topic9\", \"Topic9\", \"Topic9\", \"Topic9\", \"Topic9\", \"Topic10\", \"Topic10\", \"Topic10\", \"Topic10\", \"Topic10\", \"Topic10\", \"Topic10\", \"Topic10\", \"Topic10\", \"Topic10\", \"Topic10\", \"Topic10\", \"Topic10\", \"Topic10\", \"Topic10\", \"Topic10\", \"Topic10\", \"Topic10\", \"Topic10\", \"Topic10\", \"Topic10\", \"Topic10\", \"Topic10\", \"Topic10\", \"Topic10\", \"Topic10\", \"Topic10\", \"Topic10\", \"Topic10\", \"Topic10\", \"Topic10\", \"Topic10\", \"Topic10\", \"Topic10\", \"Topic10\", \"Topic10\", \"Topic10\", \"Topic10\", \"Topic10\", \"Topic10\", \"Topic10\", \"Topic10\", \"Topic10\", \"Topic10\", \"Topic10\", \"Topic10\", \"Topic10\", \"Topic10\", \"Topic10\", \"Topic10\", \"Topic10\", \"Topic10\", \"Topic10\", \"Topic10\", \"Topic10\", \"Topic10\", \"Topic10\", \"Topic10\", \"Topic10\", \"Topic10\", \"Topic10\", \"Topic10\", \"Topic10\", \"Topic10\", \"Topic10\", \"Topic10\", \"Topic10\", \"Topic11\", \"Topic11\", \"Topic11\", \"Topic11\", \"Topic11\", \"Topic11\", \"Topic11\", \"Topic11\", \"Topic11\", \"Topic11\", \"Topic11\", \"Topic11\", \"Topic11\", \"Topic11\", \"Topic11\", \"Topic11\", \"Topic11\", \"Topic11\", \"Topic11\", \"Topic11\", \"Topic11\", \"Topic11\", \"Topic11\", \"Topic11\", \"Topic11\", \"Topic11\", \"Topic11\", \"Topic11\", \"Topic11\", \"Topic11\", \"Topic11\", \"Topic11\", \"Topic11\", \"Topic11\", \"Topic11\", \"Topic11\", \"Topic11\", \"Topic11\", \"Topic11\", \"Topic11\", \"Topic11\", \"Topic11\", \"Topic11\", \"Topic11\", \"Topic11\", \"Topic11\", \"Topic11\", \"Topic11\", \"Topic11\", \"Topic11\", \"Topic11\", \"Topic11\", \"Topic11\", \"Topic11\", \"Topic11\", \"Topic11\", \"Topic11\", \"Topic11\", \"Topic11\", \"Topic11\", \"Topic11\", \"Topic11\", \"Topic11\", \"Topic11\", \"Topic11\", \"Topic11\", \"Topic11\", \"Topic11\", \"Topic11\", \"Topic11\", \"Topic11\", \"Topic11\", \"Topic11\", \"Topic11\", \"Topic11\", \"Topic11\", \"Topic11\", \"Topic12\", \"Topic12\", \"Topic12\", \"Topic12\", \"Topic12\", \"Topic12\", \"Topic12\", \"Topic12\", \"Topic12\", \"Topic12\", \"Topic12\", \"Topic12\", \"Topic12\", \"Topic12\", \"Topic12\", \"Topic12\", \"Topic12\", \"Topic12\", \"Topic12\", \"Topic12\", \"Topic12\", \"Topic12\", \"Topic12\", \"Topic12\", \"Topic12\", \"Topic12\", \"Topic12\", \"Topic12\", \"Topic12\", \"Topic12\", \"Topic12\", \"Topic12\", \"Topic12\", \"Topic12\", \"Topic12\", \"Topic12\", \"Topic12\", \"Topic12\", \"Topic12\", \"Topic12\", \"Topic12\", \"Topic12\", \"Topic12\", \"Topic12\", \"Topic12\", \"Topic12\", \"Topic12\", \"Topic12\", \"Topic12\", \"Topic12\", \"Topic12\", \"Topic12\", \"Topic12\", \"Topic12\", \"Topic12\", \"Topic12\", \"Topic12\", \"Topic12\", \"Topic12\", \"Topic12\", \"Topic12\", \"Topic12\", \"Topic12\", \"Topic12\", \"Topic12\", \"Topic12\", \"Topic12\", \"Topic13\", \"Topic13\", \"Topic13\", \"Topic13\", \"Topic13\", \"Topic13\", \"Topic13\", \"Topic13\", \"Topic13\", \"Topic13\", \"Topic13\", \"Topic13\", \"Topic13\", \"Topic13\", \"Topic13\", \"Topic13\", \"Topic13\", \"Topic13\", \"Topic13\", \"Topic13\", \"Topic13\", \"Topic13\", \"Topic13\", \"Topic13\", \"Topic13\", \"Topic13\", \"Topic13\", \"Topic13\", \"Topic13\", \"Topic13\", \"Topic13\", \"Topic13\", \"Topic13\", \"Topic13\", \"Topic13\", \"Topic13\", \"Topic13\", \"Topic13\", \"Topic13\", \"Topic13\", \"Topic13\", \"Topic13\", \"Topic13\", \"Topic13\", \"Topic13\", \"Topic13\", \"Topic13\", \"Topic13\", \"Topic13\", \"Topic13\", \"Topic13\", \"Topic13\", \"Topic13\", \"Topic13\", \"Topic13\", \"Topic13\", \"Topic13\", \"Topic13\", \"Topic13\", \"Topic13\", \"Topic13\", \"Topic13\", \"Topic13\", \"Topic13\", \"Topic13\", \"Topic13\", \"Topic13\", \"Topic13\", \"Topic13\", \"Topic13\", \"Topic13\", \"Topic13\", \"Topic14\", \"Topic14\", \"Topic14\", \"Topic14\", \"Topic14\", \"Topic14\", \"Topic14\", \"Topic14\", \"Topic14\", \"Topic14\", \"Topic14\", \"Topic14\", \"Topic14\", \"Topic14\", \"Topic14\", \"Topic14\", \"Topic14\", \"Topic14\", \"Topic14\", \"Topic14\", \"Topic14\", \"Topic14\", \"Topic14\", \"Topic14\", \"Topic14\", \"Topic14\", \"Topic14\", \"Topic14\", \"Topic14\", \"Topic14\", \"Topic14\", \"Topic14\", \"Topic14\", \"Topic14\", \"Topic14\", \"Topic14\", \"Topic14\", \"Topic14\", \"Topic14\", \"Topic14\", \"Topic14\", \"Topic14\", \"Topic14\", \"Topic14\", \"Topic14\", \"Topic14\", \"Topic14\", \"Topic14\", \"Topic14\", \"Topic14\", \"Topic14\", \"Topic14\", \"Topic14\", \"Topic14\", \"Topic14\", \"Topic14\", \"Topic14\", \"Topic14\", \"Topic14\", \"Topic14\", \"Topic14\", \"Topic14\", \"Topic14\", \"Topic14\", \"Topic14\", \"Topic14\", \"Topic14\", \"Topic14\", \"Topic14\", \"Topic14\", \"Topic14\", \"Topic14\", \"Topic14\", \"Topic14\", \"Topic14\", \"Topic14\", \"Topic14\", \"Topic14\", \"Topic15\", \"Topic15\", \"Topic15\", \"Topic15\", \"Topic15\", \"Topic15\", \"Topic15\", \"Topic15\", \"Topic15\", \"Topic15\", \"Topic15\", \"Topic15\", \"Topic15\", \"Topic15\", \"Topic15\", \"Topic15\", \"Topic15\", \"Topic15\", \"Topic15\", \"Topic15\", \"Topic15\", \"Topic15\", \"Topic15\", \"Topic15\", \"Topic15\", \"Topic15\", \"Topic15\", \"Topic15\", \"Topic15\", \"Topic15\", \"Topic15\", \"Topic15\", \"Topic15\", \"Topic15\", \"Topic15\", \"Topic15\", \"Topic15\", \"Topic15\", \"Topic15\", \"Topic15\", \"Topic15\", \"Topic15\", \"Topic15\", \"Topic15\", \"Topic15\", \"Topic15\", \"Topic15\", \"Topic15\", \"Topic15\", \"Topic15\", \"Topic15\", \"Topic15\", \"Topic15\", \"Topic15\", \"Topic15\", \"Topic15\", \"Topic15\", \"Topic15\", \"Topic15\", \"Topic15\", \"Topic15\", \"Topic15\", \"Topic15\", \"Topic15\", \"Topic15\", \"Topic15\", \"Topic15\", \"Topic15\", \"Topic15\", \"Topic15\", \"Topic15\", \"Topic15\", \"Topic15\", \"Topic15\", \"Topic15\", \"Topic15\"], \"logprob\": [30.0, 29.0, 28.0, 27.0, 26.0, 25.0, 24.0, 23.0, 22.0, 21.0, 20.0, 19.0, 18.0, 17.0, 16.0, 15.0, 14.0, 13.0, 12.0, 11.0, 10.0, 9.0, 8.0, 7.0, 6.0, 5.0, 4.0, 3.0, 2.0, 1.0, -6.987199783325195, -7.273600101470947, -7.360599994659424, -7.361100196838379, -4.365900039672852, -6.307400226593018, -7.559599876403809, -7.559500217437744, -7.559700012207031, -7.563000202178955, -7.676799774169922, -7.809199810028076, -7.809299945831299, -7.809500217437744, -7.809599876403809, -7.809599876403809, -4.592199802398682, -6.765699863433838, -7.96150016784668, -7.96150016784668, -7.96150016784668, -7.961699962615967, -7.963200092315674, -7.969900131225586, -4.711599826812744, -7.8491997718811035, -8.14169979095459, -8.141599655151367, -8.142399787902832, -8.1427001953125, -5.494200229644775, -6.4721999168396, -5.5335001945495605, -5.785299777984619, -2.7000999450683594, -5.135200023651123, -4.790999889373779, -5.650599956512451, -6.785799980163574, -5.366399765014648, -6.329999923706055, -3.8698999881744385, -2.6547999382019043, -4.192800045013428, -4.559199810028076, -5.905799865722656, -4.469099998474121, -5.992599964141846, -4.760700225830078, -6.026599884033203, -6.243500232696533, -4.5065999031066895, -4.1280999183654785, -6.076600074768066, -4.314300060272217, -4.2621002197265625, -5.126100063323975, -5.4527997970581055, -5.758500099182129, -2.967099905014038, -3.4551000595092773, -5.168700218200684, -5.101200103759766, -3.6066999435424805, -4.604499816894531, -5.040599822998047, -4.748000144958496, -4.231299877166748, -4.108399868011475, -4.639200210571289, -4.8267998695373535, -5.107600212097168, -4.938799858093262, -5.039599895477295, -5.037099838256836, -4.718200206756592, -5.86269998550415, -6.620100021362305, -6.862500190734863, -7.187600135803223, -5.935299873352051, -7.35260009765625, -6.5833001136779785, -6.589700222015381, -6.935100078582764, -7.800899982452393, -7.80210018157959, -7.801499843597412, -4.571100234985352, -7.95419979095459, -7.954699993133545, -5.386899948120117, -5.724899768829346, -5.250999927520752, -8.134099960327148, -8.134099960327148, -8.13379955291748, -8.134200096130371, -8.135100364685059, -8.13700008392334, -8.134900093078613, -8.136899948120117, -4.333899974822998, -7.452899932861328, -6.303400039672852, -4.63539981842041, -5.529699802398682, -6.2042999267578125, -4.959400177001953, -5.993599891662598, -6.120500087738037, -5.319499969482422, -5.302299976348877, -5.298399925231934, -5.250800132751465, -6.06279993057251, -4.3979997634887695, -5.298999786376953, -6.683800220489502, -4.3643999099731445, -2.4711999893188477, -4.210299968719482, -3.9226999282836914, -4.997300148010254, -4.427199840545654, -4.435400009155273, -5.200300216674805, -3.692500114440918, -5.482800006866455, -4.201300144195557, -3.2676000595092773, -3.593400001525879, -3.9911999702453613, -4.07450008392334, -3.804500102996826, -4.876299858093262, -4.406199932098389, -4.5096001625061035, -4.607100009918213, -4.841899871826172, -4.870200157165527, -4.83489990234375, -5.009300231933594, -5.156000137329102, -6.146599769592285, -5.0559000968933105, -6.009500026702881, -5.7982001304626465, -7.263199806213379, -7.554699897766113, -7.556300163269043, -7.69290018081665, -7.840000152587891, -7.840400218963623, -8.020700454711914, -7.256199836730957, -4.931099891662598, -7.011199951171875, -8.064800262451172, -6.889500141143799, -7.1809000968933105, -6.817999839782715, -4.93120002746582, -7.8420000076293945, -5.947800159454346, -7.739299774169922, -7.7434000968933105, -7.382400035858154, -7.688199996948242, -5.373899936676025, -7.61870002746582, -7.072999954223633, -8.240400314331055, -7.841700077056885, -2.5035998821258545, -4.65910005569458, -4.572500228881836, -4.431399822235107, -5.140600204467773, -6.385000228881836, -4.292799949645996, -3.7685999870300293, -5.144499778747559, -6.2220001220703125, -4.471399784088135, -5.518599987030029, -4.013199806213379, -5.3368000984191895, -2.468100070953369, -2.6277999877929688, -5.327400207519531, -5.281199932098389, -4.27239990234375, -4.23390007019043, -2.8080999851226807, -5.161399841308594, -3.5035998821258545, -4.152900218963623, -3.6335999965667725, -3.775099992752075, -3.984999895095825, -4.427199840545654, -4.055099964141846, -4.388500213623047, -4.665500164031982, -4.46150016784668, -4.894599914550781, -4.867800235748291, -4.8607001304626465, -4.874599933624268, -5.03849983215332, -6.986700057983398, -7.140699863433838, -7.322000026702881, -7.426300048828125, -7.543300151824951, -7.543900012969971, -7.442399978637695, -7.676700115203857, -7.063300132751465, -7.8277997970581055, -7.58050012588501, -4.2596001625061035, -7.7129998207092285, -4.015200138092041, -8.008500099182129, -8.008899688720703, -8.009599685668945, -8.013799667358398, -8.022700309753418, -8.057499885559082, -7.088699817657471, -7.099299907684326, -7.6753997802734375, -5.765200138092041, -5.802599906921387, -7.327899932861328, -7.34630012512207, -7.436299800872803, -5.796299934387207, -5.36929988861084, -4.244800090789795, -4.7895002365112305, -5.748300075531006, -3.376699924468994, -5.14709997177124, -3.4238998889923096, -3.900099992752075, -5.673399925231934, -3.0118000507354736, -5.144599914550781, -4.172699928283691, -4.514400005340576, -5.462100028991699, -3.8942999839782715, -5.458899974822998, -6.355400085449219, -4.827000141143799, -4.673099994659424, -5.4375, -2.4791998863220215, -4.98960018157959, -5.065400123596191, -3.343600034713745, -4.94290018081665, -4.700900077819824, -2.854300022125244, -4.336900234222412, -4.474299907684326, -3.6863999366760254, -3.674999952316284, -3.998199939727783, -4.356599807739258, -4.801400184631348, -4.670499801635742, -4.681600093841553, -4.34689998626709, -4.70389986038208, -4.498300075531006, -4.525300025939941, -4.767399787902832, -4.632400035858154, -4.9440999031066895, -6.448699951171875, -6.749899864196777, -7.02370023727417, -7.278900146484375, -7.504899978637695, -7.632500171661377, -7.785699844360352, -5.310699939727783, -7.964600086212158, -7.965700149536133, -7.96560001373291, -7.965099811553955, -4.579800128936768, -7.981599807739258, -6.284999847412109, -7.4141998291015625, -6.319799900054932, -6.6930999755859375, -7.007800102233887, -7.642399787902832, -5.219299793243408, -5.927299976348877, -6.811600208282471, -2.58489990234375, -4.936200141906738, -7.980000019073486, -7.1280999183654785, -7.333000183105469, -8.184399604797363, -6.975900173187256, -3.4719998836517334, -3.6445999145507812, -2.9904000759124756, -4.65749979019165, -4.582900047302246, -4.951900005340576, -3.755500078201294, -4.218800067901611, -5.0208001136779785, -4.85830020904541, -3.710599899291992, -3.5636000633239746, -4.245999813079834, -4.392600059509277, -4.627200126647949, -4.357500076293945, -4.8850998878479, -3.121999979019165, -3.7137999534606934, -3.8757998943328857, -3.828000068664551, -4.814300060272217, -4.1940999031066895, -4.99370002746582, -4.1066999435424805, -4.040900230407715, -4.318600177764893, -4.705100059509277, -4.615200042724609, -4.734399795532227, -4.797299861907959, -4.86359977722168, -5.784800052642822, -6.874499797821045, -5.920300006866455, -6.0777997970581055, -7.060999870300293, -7.355500221252441, -7.359899997711182, -7.487599849700928, -7.489299774169922, -7.493299961090088, -7.4984002113342285, -7.504799842834473, -7.640999794006348, -7.64139986038208, -4.120200157165527, -4.518099784851074, -7.820400238037109, -7.821000099182129, -7.821000099182129, -7.821000099182129, -7.821100234985352, -7.820799827575684, -7.821800231933594, -7.820700168609619, -7.823299884796143, -7.821700096130371, -5.576499938964844, -7.133800029754639, -7.427700042724609, -6.0395002365112305, -5.005499839782715, -4.8024001121521, -6.454800128936768, -4.94350004196167, -6.686600208282471, -4.341000080108643, -6.006499767303467, -6.978400230407715, -3.9523000717163086, -4.566100120544434, -4.845099925994873, -5.433700084686279, -2.6596999168395996, -2.3124001026153564, -4.523499965667725, -4.435800075531006, -4.651100158691406, -4.523200035095215, -4.632800102233887, -5.712399959564209, -4.437300205230713, -4.081900119781494, -4.726200103759766, -5.314799785614014, -5.159200191497803, -5.1417999267578125, -2.8980000019073486, -3.9154999256134033, -4.8694000244140625, -5.266600131988525, -4.243199825286865, -3.9907000064849854, -3.9509999752044678, -4.497399806976318, -4.391300201416016, -4.92080020904541, -4.866399765014648, -4.664999961853027, -4.790500164031982, -6.604899883270264, -6.872399806976318, -6.952899932861328, -6.189499855041504, -7.23769998550415, -7.23769998550415, -7.243599891662598, -6.507599830627441, -5.753799915313721, -7.487500190734863, -7.488399982452393, -7.489099979400635, -7.639500141143799, -7.639999866485596, -7.640200138092041, -7.640500068664551, -7.639900207519531, -7.639699935913086, -7.642199993133545, -7.641300201416016, -7.6468000411987305, -7.657299995422363, -6.19980001449585, -7.8196001052856445, -7.819699764251709, -7.820000171661377, -7.820199966430664, -7.820000171661377, -7.820099830627441, -7.820799827575684, -6.903900146484375, -6.729499816894531, -5.085999965667725, -6.155600070953369, -6.195700168609619, -7.138700008392334, -7.146399974822998, -6.574900150299072, -4.372700214385986, -6.889100074768066, -6.39109992980957, -7.152900218963623, -2.349600076675415, -6.872300148010254, -2.3529999256134033, -5.746200084686279, -5.301499843597412, -5.0971999168396, -5.040999889373779, -4.0269999504089355, -4.896599769592285, -4.90880012512207, -5.991300106048584, -5.587699890136719, -6.140399932861328, -4.0208001136779785, -6.521999835968018, -5.683599948883057, -5.853899955749512, -5.721199989318848, -5.555500030517578, -5.552499771118164, -4.878799915313721, -3.8884999752044678, -5.8892998695373535, -5.66540002822876, -5.53439998626709, -4.432400226593018, -3.966399908065796, -3.835099935531616, -4.82289981842041, -4.507599830627441, -5.415500164031982, -5.255300045013428, -5.606100082397461, -4.728400230407715, -5.106299877166748, -5.207300186157227, -5.180799961090088, -5.016600131988525, -5.131400108337402, -5.017300128936768, -4.887400150299072, -5.33620023727417, -5.38100004196167, -5.140900135040283, -3.9774999618530273, -4.119900226593018, -4.908999919891357, -4.931600093841553, -4.990900039672852, -5.134699821472168, -3.6666998863220215, -5.465199947357178, -5.813000202178955, -5.899799823760986, -5.900000095367432, -5.8719000816345215, -6.399400234222412, -6.685800075531006, -6.686100006103516, -3.615999937057495, -6.9085001945495605, -5.6905999183654785, -5.470099925994873, -6.994500160217285, -7.089200019836426, -7.089200019836426, -7.090199947357178, -5.446300029754639, -7.19379997253418, -7.311100006103516, -7.311200141906738, -7.311100006103516, -7.312099933624268, -7.311699867248535, -4.319499969482422, -4.25629997253418, -3.650599956512451, -3.577500104904175, -6.763999938964844, -5.907199859619141, -6.387400150299072, -5.714099884033203, -5.794000148773193, -5.836699962615967, -5.632199764251709, -4.552599906921387, -5.362500190734863, -6.322999954223633, -5.514900207519531, -5.807499885559082, -5.498199939727783, -5.123700141906738, -4.3607001304626465, -4.10230016708374, -3.731800079345703, -5.249300003051758, -4.990699768066406, -4.362400054931641, -5.350399971008301, -5.256700038909912, -5.137800216674805, -4.585299968719482, -4.962100028991699, -4.748499870300293, -4.494500160217285, -4.963200092315674, -4.7017998695373535, -4.934899806976318, -4.713799953460693, -5.062699794769287, -4.988100051879883, -6.699100017547607, -6.841100215911865, -6.920499801635742, -7.008200168609619, -7.1020002365112305, -7.102399826049805, -7.10230016708374, -7.213900089263916, -7.22189998626709, -3.5485999584198, -7.457399845123291, -7.457499980926514, -7.45989990234375, -7.34250020980835, -7.473599910736084, -7.60860013961792, -7.6097002029418945, -6.783299922943115, -6.521399974822998, -7.789400100708008, -7.7891998291015625, -7.789899826049805, -6.953199863433838, -7.458199977874756, -4.695300102233887, -7.735099792480469, -7.115799903869629, -7.608500003814697, -6.866099834442139, -7.170499801635742, -3.385999917984009, -5.95959997177124, -4.148799896240234, -5.32889986038208, -4.6194000244140625, -4.339900016784668, -5.7683000564575195, -4.87939977645874, -4.415800094604492, -5.611100196838379, -3.2102999687194824, -5.152900218963623, -3.3564999103546143, -5.189499855041504, -3.6735000610351562, -5.505099773406982, -4.827300071716309, -2.570499897003174, -3.946199893951416, -2.909600019454956, -4.775899887084961, -4.559299945831299, -5.873700141906738, -3.5618999004364014, -5.104300022125244, -5.683000087738037, -5.4653000831604, -4.036499977111816, -4.8856000900268555, -4.455999851226807, -4.279399871826172, -4.49970006942749, -4.439000129699707, -5.115099906921387, -4.815800189971924, -5.053299903869629, -4.973999977111816, -4.106100082397461, -5.602399826049805, -6.777599811553955, -7.0971999168396, -5.9741997718811035, -7.202000141143799, -7.203400135040283, -7.027900218963623, -5.752600193023682, -7.318999767303467, -7.118500232696533, -7.451000213623047, -7.452099800109863, -7.454800128936768, -6.239500045776367, -7.6031999588012695, -7.603099822998047, -6.722700119018555, -7.611499786376953, -7.479599952697754, -7.783999919891357, -7.783899784088135, -7.7866997718811035, -7.785699844360352, -7.096799850463867, -7.790599822998047, -7.793000221252441, -6.712500095367432, -6.84499979019165, -5.958199977874756, -5.02269983291626, -5.15339994430542, -3.475800037384033, -4.634099960327148, -5.496200084686279, -6.05019998550415, -3.0420000553131104, -4.914299964904785, -2.730799913406372, -4.9756999015808105, -3.639899969100952, -5.452300071716309, -4.871399879455566, -5.02400016784668, -5.012499809265137, -5.142199993133545, -5.287600040435791, -4.980000019073486, -4.858500003814697, -4.456600189208984, -3.6798999309539795, -4.706900119781494, -3.9560000896453857, -3.5978000164031982, -4.11959981918335, -3.3961000442504883, -4.132800102233887, -3.950500011444092, -3.6693999767303467, -4.906499862670898, -4.575699806213379, -3.946899890899658, -3.806299924850464, -3.8366000652313232, -4.505799770355225, -4.959400177001953, -5.02209997177124, -5.4222002029418945, -5.977700233459473, -5.540200233459473, -5.3420000076293945, -6.322800159454346, -6.670100212097168, -6.821199893951416, -7.002399921417236, -7.002600193023682, -7.003300189971924, -7.106900215148926, -7.107100009918213, -7.107900142669678, -7.107800006866455, -7.230199813842773, -6.869699954986572, -7.356400012969971, -7.358399868011475, -7.508900165557861, -7.509399890899658, -7.509399890899658, -7.51140022277832, -7.51140022277832, -7.379199981689453, -7.169400215148926, -7.53410005569458, -6.913300037384033, -7.689000129699707, -7.6890997886657715, -7.689499855041504, -4.853400230407715, -5.562300205230713, -6.019199848175049, -6.713699817657471, -3.973099946975708, -5.961599826812744, -5.928500175476074, -5.774700164794922, -6.47130012512207, -4.548900127410889, -3.809000015258789, -4.209000110626221, -7.014500141143799, -5.3206000328063965, -5.936699867248535, -3.3965001106262207, -5.745200157165527, -5.392099857330322, -4.30109977722168, -4.310400009155273, -3.838200092315674, -5.717199802398682, -6.503499984741211, -5.241399765014648, -5.752699851989746, -4.752399921417236, -4.838500022888184, -3.9142000675201416, -4.53439998626709, -4.011600017547607, -4.2621002197265625, -3.7279999256134033, -5.172800064086914, -4.228400230407715, -4.577700138092041, -5.280099868774414, -5.3821001052856445, -4.849699974060059, -4.982500076293945, -4.770299911499023, -4.783899784088135, -4.694499969482422, -4.98859977722168, -5.026299953460693, -4.9496002197265625, -5.178699970245361, -5.253799915313721, -4.218599796295166, -5.020899772644043, -5.404300212860107, -5.038000106811523, -6.079899787902832, -6.00540018081665, -5.9756999015808105, -6.543099880218506, -6.02209997177124, -6.767600059509277, -6.852399826049805, -2.9551000595092773, -6.948599815368652, -6.949900150299072, -6.949900150299072, -6.864500045776367, -7.051400184631348, -6.962200164794922, -7.168000221252441, -7.168000221252441, -7.168099880218506, -5.13100004196167, -7.303199768066406, -7.456999778747559, -5.8343000411987305, -7.633299827575684, -7.633399963378906, -7.633600234985352, -7.633600234985352, -7.63539981842041, -2.5520999431610107, -6.216400146484375, -6.089000225067139, -3.8564000129699707, -6.3404998779296875, -5.994999885559082, -4.0640997886657715, -4.484899997711182, -4.861999988555908, -3.8598999977111816, -6.129799842834473, -5.28439998626709, -4.5625, -5.734099864959717, -3.504699945449829, -4.44350004196167, -3.532900094985962, -4.639599800109863, -4.071199893951416, -4.072800159454346, -4.886199951171875, -5.412199974060059, -3.729300022125244, -5.061999797821045, -3.6870999336242676, -4.2342000007629395, -4.7789998054504395, -4.388500213623047, -4.109399795532227, -4.480299949645996, -4.8420000076293945, -4.257900238037109, -4.558000087738037, -4.833700180053711, -4.622499942779541, -4.800899982452393, -4.823699951171875, -5.921800136566162, -6.005099773406982, -6.576900005340576, -6.7459001541137695, -6.610199928283691, -7.1880998611450195, -6.873000144958496, -7.341100215911865, -7.340700149536133, -7.34119987487793, -6.199100017547607, -7.344900131225586, -7.521200180053711, -7.365600109100342, -7.520999908447266, -7.5218000411987305, -7.5233001708984375, -7.521699905395508, -6.757699966430664, -6.437300205230713, -7.2565999031066895, -7.545199871063232, -6.573599815368652, -6.302299976348877, -7.056000232696533, -7.418300151824951, -7.055600166320801, -6.663700103759766, -7.076099872589111, -5.378399848937988, -4.963600158691406, -6.122300148010254, -5.124599933624268, -4.8871002197265625, -6.834000110626221, -6.323200225830078, -5.284999847412109, -4.964200019836426, -3.4437999725341797, -5.722899913787842, -6.009900093078613, -5.077199935913086, -4.58050012588501, -6.17579984664917, -4.566400051116943, -4.019800186157227, -5.225500106811523, -5.550300121307373, -5.391200065612793, -4.947199821472168, -5.785200119018555, -4.728000164031982, -3.847100019454956, -4.2667999267578125, -3.9124999046325684, -4.814499855041504, -4.550300121307373, -3.460599899291992, -4.9475998878479, -4.214000225067139, -4.461699962615967, -4.957099914550781, -4.728499889373779, -4.481299877166748, -4.156899929046631, -4.932000160217285, -4.420100212097168, -4.895400047302246, -4.474100112915039, -4.805500030517578, -4.741000175476074, -4.945099830627441, -6.203499794006348, -6.322199821472168, -6.72599983215332, -6.947299957275391, -6.9475998878479, -6.948800086975098, -6.948500156402588, -6.948200225830078, -6.950799942016602, -6.952400207519531, -7.080699920654297, -7.085000038146973, -7.089000225067139, -7.23199987411499, -7.232100009918213, -7.233099937438965, -5.603799819946289, -6.632500171661377, -7.412600040435791, -7.412499904632568, -7.412600040435791, -7.413300037384033, -7.413700103759766, -7.413899898529053, -5.950300216674805, -6.949100017547607, -7.0833001136779785, -6.728600025177002, -7.110099792480469, -7.2322001457214355, -7.013700008392334, -5.633999824523926, -6.763000011444092, -5.901700019836426, -5.204899787902832, -4.531899929046631, -3.7318999767303467, -5.802199840545654, -2.8173999786376953, -6.841100215911865, -2.8285000324249268, -4.406000137329102, -5.329999923706055, -6.102700233459473, -4.932199954986572, -3.213200092315674, -4.73769998550415, -4.165800094604492, -6.163400173187256, -5.355899810791016, -4.931099891662598, -4.4944000244140625, -5.923900127410889, -6.088900089263916, -5.21750020980835, -5.270199775695801, -5.140900135040283, -4.076000213623047, -3.7890000343322754, -5.077899932861328, -5.339900016784668, -3.9458000659942627, -5.5177001953125, -4.563700199127197, -4.282100200653076, -4.48799991607666, -4.4822001457214355, -4.1315999031066895, -4.285799980163574, -4.708899974822998, -4.420300006866455, -4.631199836730957, -4.651199817657471, -4.953100204467773, -4.932700157165527, -4.85129976272583, -5.0295000076293945, -5.06279993057251, -5.041200160980225, -5.7565999031066895, -4.70550012588501, -5.9664998054504395, -5.7677001953125, -6.233399868011475, -6.399499893188477, -6.399899959564209, -6.400199890136719, -6.494200229644775, -6.5991997718811035, -6.5995001792907715, -6.716000080108643, -6.716000080108643, -6.613699913024902, -6.848100185394287, -6.848199844360352, -6.848899841308594, -5.480400085449219, -7.000699996948242, -7.001200199127197, -7.0019001960754395, -7.004899978637695, -7.008800029754639, -7.180799961090088, -7.1809000968933105, -7.18149995803833, -7.1819000244140625, -7.182499885559082, -7.18179988861084, -5.884200096130371, -3.9403998851776123, -5.8308000564575195, -6.255199909210205, -6.607600212097168, -6.610199928283691, -5.0507001876831055, -4.663300037384033, -3.925800085067749, -6.219699859619141, -4.129499912261963, -5.150199890136719, -5.161799907684326, -4.889599800109863, -5.882999897003174, -6.112400054931641, -5.264999866485596, -5.0167999267578125, -4.51200008392334, -5.446199893951416, -5.71589994430542, -5.4664998054504395, -5.488500118255615, -3.6410999298095703, -4.041800022125244, -4.832200050354004, -5.350100040435791, -4.921299934387207, -4.691699981689453, -4.8917999267578125, -4.868000030517578, -3.660900115966797, -4.046599864959717, -4.462800025939941, -4.83489990234375, -4.637899875640869, -4.393899917602539, -4.4882001876831055, -4.617599964141846, -4.524600028991699, -4.989699840545654, -4.9207000732421875, -4.889200210571289, -4.917900085449219, -4.8597002029418945, -4.943600177764893], \"loglift\": [30.0, 29.0, 28.0, 27.0, 26.0, 25.0, 24.0, 23.0, 22.0, 21.0, 20.0, 19.0, 18.0, 17.0, 16.0, 15.0, 14.0, 13.0, 12.0, 11.0, 10.0, 9.0, 8.0, 7.0, 6.0, 5.0, 4.0, 3.0, 2.0, 1.0, 2.3296000957489014, 2.311199903488159, 2.3046000003814697, 2.30430006980896, 2.302299976348877, 2.2883999347686768, 2.2874999046325684, 2.287400007247925, 2.287400007247925, 2.2841999530792236, 2.2757999897003174, 2.260999917984009, 2.260999917984009, 2.2607998847961426, 2.2607998847961426, 2.260200023651123, 2.248199939727783, 2.2479000091552734, 2.2416999340057373, 2.2416999340057373, 2.2416999340057373, 2.2416999340057373, 2.2404000759124756, 2.2348999977111816, 2.2284998893737793, 2.2200000286102295, 2.2153000831604004, 2.2153000831604004, 2.2151999473571777, 2.214900016784668, 2.210599899291992, 2.213099956512451, 2.194999933242798, 2.1874001026153564, 2.116499900817871, 2.159899950027466, 2.1426000595092773, 2.151900053024292, 2.183300018310547, 2.108299970626831, 2.156899929046631, 2.0241000652313232, 1.9329999685287476, 1.9909000396728516, 2.0004000663757324, 2.079400062561035, 1.90339994430542, 2.0790998935699463, 1.8877999782562256, 2.0757999420166016, 2.0992000102996826, 1.8279000520706177, 1.663100004196167, 2.05049991607666, 1.5575000047683716, 1.5168999433517456, 1.7615000009536743, 1.7898999452590942, 1.8866000175476074, 0.4237000048160553, 0.5946999788284302, 1.48580002784729, 1.388800024986267, 0.09769999980926514, 0.9190000295639038, 1.2438000440597534, 0.920199990272522, 0.33640000224113464, -0.4499000012874603, 0.4440999925136566, -0.059300001710653305, 0.6205999851226807, -0.8525999784469604, -0.06610000133514404, -1.0232000350952148, 2.3849000930786133, 2.3847999572753906, 2.3610000610351562, 2.351900100708008, 2.33270001411438, 2.329699993133545, 2.3208999633789062, 2.3164000511169434, 2.31030011177063, 2.2774999141693115, 2.2771999835968018, 2.2769999504089355, 2.276900053024292, 2.266200065612793, 2.2572999000549316, 2.257200002670288, 2.2560999393463135, 2.2527999877929688, 2.2362000942230225, 2.2309999465942383, 2.2309999465942383, 2.2309000492095947, 2.230799913406372, 2.2307000160217285, 2.230600118637085, 2.2300000190734863, 2.22760009765625, 2.219399929046631, 2.216099977493286, 2.1849000453948975, 2.1572000980377197, 2.0873000621795654, 2.124500036239624, 2.033400058746338, 2.099400043487549, 2.080199956893921, 2.001300096511841, 1.9625999927520752, 1.8907999992370605, 1.867900013923645, 1.9801000356674194, 1.6145000457763672, 1.7731000185012817, 2.0423998832702637, 1.493899941444397, 0.9196000099182129, 1.3658000230789185, 1.2581000328063965, 1.6226999759674072, 1.2907999753952026, 1.2302000522613525, 1.6164000034332275, 0.8381999731063843, 1.7568000555038452, 1.0015000104904175, 0.39089998602867126, 0.4927999973297119, 0.6765000224113464, 0.5088000297546387, 0.2093999981880188, 1.1785000562667847, 0.3197999894618988, 0.3172000050544739, 0.4300999939441681, 0.5651999711990356, 0.05040000006556511, -0.14249999821186066, 0.43470001220703125, -0.4262999892234802, 2.488300085067749, 2.470599889755249, 2.4625000953674316, 2.4500999450683594, 2.4123001098632812, 2.407599925994873, 2.4063000679016113, 2.3863000869750977, 2.3731000423431396, 2.37280011177063, 2.346400022506714, 2.3362998962402344, 2.331700086593628, 2.3122000694274902, 2.3017001152038574, 2.274199962615967, 2.267400026321411, 2.248800039291382, 2.2446999549865723, 2.232300043106079, 2.2225000858306885, 2.218899965286255, 2.214099884033203, 2.205699920654297, 2.171099901199341, 2.1598000526428223, 2.141900062561035, 2.1366000175476074, 2.127500057220459, 2.120800018310547, 2.0641000270843506, 2.081199884414673, 2.0085999965667725, 1.9780999422073364, 1.9785000085830688, 2.0826001167297363, 1.837399959564209, 1.7549999952316284, 1.9016000032424927, 2.043600082397461, 1.778499960899353, 1.9333000183105469, 1.6548999547958374, 1.8738000392913818, 1.2364000082015991, 1.0306999683380127, 1.7446999549865723, 1.7297999858856201, 1.3295999765396118, 1.2381000518798828, 0.5827999711036682, 1.4931000471115112, 0.5102999806404114, 0.8295999765396118, 0.41620001196861267, 0.5085999965667725, 0.5982000231742859, 0.8184000253677368, 0.031099999323487282, 0.4383000135421753, 0.7659000158309937, 0.26460000872612, 0.8844000101089478, 0.5392000079154968, 0.1128000020980835, 0.16259999573230743, 0.5922999978065491, 2.471100091934204, 2.4605000019073486, 2.4458999633789062, 2.436300039291382, 2.424499988555908, 2.4235000610351562, 2.4200000762939453, 2.4084999561309814, 2.3945000171661377, 2.390000104904175, 2.386899948120117, 2.3803999423980713, 2.3710999488830566, 2.363100051879883, 2.363100051879883, 2.36299991607666, 2.3624000549316406, 2.3577001094818115, 2.3506999015808105, 2.315500020980835, 2.299099922180176, 2.2908999919891357, 2.289099931716919, 2.2697999477386475, 2.2648000717163086, 2.260699987411499, 2.250499963760376, 2.24180006980896, 2.2374000549316406, 2.2098000049591064, 2.1958999633789062, 2.1928999423980713, 2.2032999992370605, 2.090100049972534, 2.1638998985290527, 2.02020001411438, 2.021399974822998, 2.168800115585327, 1.9088000059127808, 2.0388998985290527, 1.9047000408172607, 1.881500005722046, 2.0220999717712402, 1.7060999870300293, 1.99590003490448, 2.165600061416626, 1.867300033569336, 1.8219000101089478, 1.9648000001907349, 1.1792000532150269, 1.8042000532150269, 1.6305999755859375, 0.9401999711990356, 1.5470999479293823, 1.4256000518798828, 0.5364999771118164, 1.094499945640564, 1.156499981880188, 0.39980000257492065, 0.33889999985694885, 0.5325000286102295, 0.8695999979972839, 1.3322999477386475, 1.0724999904632568, 1.0467000007629395, 0.3790999948978424, 1.0752999782562256, 0.48429998755455017, 0.1670999974012375, 0.8985999822616577, -0.9279999732971191, 2.557300090789795, 2.52810001373291, 2.514400005340576, 2.4921998977661133, 2.477299928665161, 2.4523000717163086, 2.4419000148773193, 2.4219000339508057, 2.4012999534606934, 2.3963000774383545, 2.3961000442504883, 2.3961000442504883, 2.3959999084472656, 2.3826000690460205, 2.3803999423980713, 2.3440001010894775, 2.3403000831604004, 2.339099884033203, 2.320199966430664, 2.315700054168701, 2.311500072479248, 2.308000087738037, 2.2751998901367188, 2.247299909591675, 2.2418999671936035, 2.232599973678589, 2.2297000885009766, 2.187700033187866, 2.180000066757202, 2.176100015640259, 2.1733999252319336, 2.104099988937378, 2.0734000205993652, 2.046799898147583, 2.09879994392395, 2.0822999477386475, 2.0801000595092773, 1.8518999814987183, 1.847100019454956, 1.886199951171875, 1.8456000089645386, 1.3725999593734741, 1.218999981880188, 1.4219000339508057, 1.4657000303268433, 1.5029000043869019, 1.3358999490737915, 1.5242999792099, 0.5824000239372253, 0.8537999987602234, 0.8539000153541565, 0.755299985408783, 1.2569999694824219, 0.498199999332428, 1.2325999736785889, -0.05689999833703041, -0.6500999927520752, -0.30469998717308044, 0.7669000029563904, -0.9567999839782715, -0.14659999310970306, 0.17630000412464142, -0.09610000252723694, 2.659600019454956, 2.6203999519348145, 2.601799964904785, 2.5906999111175537, 2.588599920272827, 2.5810000896453857, 2.5771000385284424, 2.566800117492676, 2.5652999877929688, 2.5641000270843506, 2.5573999881744385, 2.5499000549316406, 2.5476999282836914, 2.546999931335449, 2.5299999713897705, 2.523900032043457, 2.521899938583374, 2.5218000411987305, 2.5218000411987305, 2.5218000411987305, 2.521699905395508, 2.521699905395508, 2.521699905395508, 2.5215001106262207, 2.521399974822998, 2.521399974822998, 2.5157999992370605, 2.5148000717163086, 2.5106000900268555, 2.483099937438965, 2.422100067138672, 2.3907999992370605, 2.4605000019073486, 2.361599922180176, 2.4547998905181885, 2.2708001136779785, 2.38919997215271, 2.4504001140594482, 2.171099901199341, 2.1765999794006348, 2.1923000812530518, 2.250200033187866, 1.87090003490448, 1.773800015449524, 2.0848000049591064, 1.9946999549865723, 2.0111000537872314, 1.9532999992370605, 1.950700044631958, 2.1849000453948975, 1.8391000032424927, 1.6972999572753906, 1.842900037765503, 1.9617999792099, 1.8904000520706177, 1.8125, 0.4927999973297119, 1.0670000314712524, 1.5693999528884888, 1.7747999429702759, 0.4828000068664551, 0.05900000035762787, -0.29260000586509705, 0.47609999775886536, 0.27630001306533813, 1.2419999837875366, 0.7996000051498413, -0.08169999718666077, -0.09809999912977219, 2.6424999237060547, 2.626699924468994, 2.6201000213623047, 2.6147000789642334, 2.5975000858306885, 2.5975000858306885, 2.594899892807007, 2.5843000411987305, 2.574399948120117, 2.5713999271392822, 2.57069993019104, 2.569499969482422, 2.552500009536743, 2.5524001121520996, 2.5524001121520996, 2.5524001121520996, 2.552299976348877, 2.5522000789642334, 2.5520999431610107, 2.5506999492645264, 2.5478999614715576, 2.538800001144409, 2.5380001068115234, 2.5264999866485596, 2.5264999866485596, 2.526400089263916, 2.526400089263916, 2.5262999534606934, 2.52620005607605, 2.52620005607605, 2.5251998901367188, 2.5206000804901123, 2.485599994659424, 2.487600088119507, 2.4814000129699707, 2.5104000568389893, 2.506700038909912, 2.474400043487549, 2.3273000717163086, 2.4758999347686768, 2.41729998588562, 2.5007998943328857, 1.9342000484466553, 2.434999942779541, 1.6610000133514404, 2.2281999588012695, 2.103800058364868, 2.048799991607666, 2.0280001163482666, 1.6663999557495117, 1.867900013923645, 1.8592000007629395, 2.1763999462127686, 2.013400077819824, 2.1870999336242676, 1.298699975013733, 2.319000005722046, 1.9660999774932861, 2.0302999019622803, 1.9431999921798706, 1.8609999418258667, 1.8066999912261963, 1.3710999488830566, 0.6948000192642212, 2.007200002670288, 1.832200050354004, 1.715999960899353, 0.48820000886917114, -0.2619999945163727, -0.44429999589920044, 0.6930999755859375, 0.16009999811649323, 1.3978999853134155, 1.104099988937378, 1.6468000411987305, 0.03909999877214432, 0.5615000128746033, 0.7717999815940857, 0.6909999847412109, 0.18619999289512634, 0.47600001096725464, 0.09549999982118607, -0.8375999927520752, 0.925599992275238, 1.0016000270843506, -0.44850000739097595, 2.7239999771118164, 2.723400115966797, 2.7177000045776367, 2.717600107192993, 2.7167999744415283, 2.7151999473571777, 2.710599899291992, 2.710200071334839, 2.7028000354766846, 2.7005999088287354, 2.700500011444092, 2.6995999813079834, 2.6830999851226807, 2.6686999797821045, 2.668600082397461, 2.658900022506714, 2.6540000438690186, 2.6521999835968018, 2.6491000652313232, 2.6480000019073486, 2.640399932861328, 2.640399932861328, 2.6398000717163086, 2.6349000930786133, 2.6310999393463135, 2.6196999549865723, 2.6196999549865723, 2.6196000576019287, 2.6196000576019287, 2.6194000244140625, 2.5866000652313232, 2.5594000816345215, 2.4405999183654785, 2.4240000247955322, 2.591200113296509, 2.5302999019622803, 2.5648999214172363, 2.5058999061584473, 2.507699966430664, 2.5107998847961426, 2.3859000205993652, 2.1459999084472656, 2.1874001026153564, 2.512399911880493, 2.14490008354187, 2.2472000122070312, 2.0058999061584473, 1.6441999673843384, 0.9587000012397766, 0.5654000043869019, -0.07329999655485153, 1.742400050163269, 1.3688000440597534, 0.3635999858379364, 1.7888000011444092, 1.5923999547958374, 1.3174999952316284, 0.1071000024676323, 0.8170999884605408, 0.28870001435279846, -0.4083000123500824, 0.6371999979019165, -0.6879000067710876, 0.2678999900817871, -1.0094000101089478, 0.020500000566244125, -0.9383999705314636, 2.6742000579833984, 2.665299892425537, 2.6596999168395996, 2.652100086212158, 2.645400047302246, 2.645400047302246, 2.6452999114990234, 2.629699945449829, 2.6208999156951904, 2.6185998916625977, 2.609499931335449, 2.6087000370025635, 2.605799913406372, 2.6057000160217285, 2.5924999713897705, 2.5903000831604004, 2.5897998809814453, 2.588399887084961, 2.580199956893921, 2.5641000270843506, 2.563999891281128, 2.563999891281128, 2.551100015640259, 2.493499994277954, 2.4735000133514404, 2.4653000831604004, 2.462399959564209, 2.4553000926971436, 2.44569993019104, 2.4110000133514404, 2.2973999977111816, 2.3726999759674072, 2.1672000885009766, 2.2660000324249268, 2.17330002784729, 2.1005001068115234, 2.2785000801086426, 2.1370999813079834, 1.9851000308990479, 2.184799909591675, 1.6787999868392944, 2.0789999961853027, 1.6169999837875366, 2.033400058746338, 1.5720000267028809, 2.0727999210357666, 1.8590999841690063, 1.1339000463485718, 1.5698000192642212, 1.1402000188827515, 1.6958999633789062, 1.5672999620437622, 2.121500015258789, 1.0259000062942505, 1.7484999895095825, 1.9814000129699707, 1.836899995803833, 0.7799999713897705, 1.198199987411499, 0.7283999919891357, 0.4129999876022339, 0.42100000381469727, 0.32850000262260437, 1.2682000398635864, 0.6563000082969666, 0.6897000074386597, 0.1387999951839447, 2.7309999465942383, 2.7190001010894775, 2.6638998985290527, 2.6545000076293945, 2.6496999263763428, 2.6449999809265137, 2.6438000202178955, 2.6373000144958496, 2.6350998878479004, 2.6335999965667725, 2.632999897003174, 2.61899995803833, 2.6182000637054443, 2.616300106048584, 2.6112000942230225, 2.5996999740600586, 2.5996999740600586, 2.5929999351501465, 2.5927999019622803, 2.59089994430542, 2.5732998847961426, 2.5729000568389893, 2.5729000568389893, 2.5724000930786133, 2.5692999362945557, 2.5666000843048096, 2.5655999183654785, 2.549299955368042, 2.5332000255584717, 2.5023000240325928, 2.501199960708618, 2.492300033569336, 2.328399896621704, 2.3810999393463135, 2.4005000591278076, 2.4228999614715576, 2.142400026321411, 2.318700075149536, 2.0367000102996826, 2.297800064086914, 2.088399887084961, 2.340100049972534, 2.2481000423431396, 2.2634999752044678, 2.2126998901367188, 2.2216999530792236, 2.228300094604492, 2.138200044631958, 2.1026999950408936, 1.6698999404907227, 1.3027000427246094, 1.6856000423431396, 1.2896000146865845, 1.0699000358581543, 1.3118000030517578, 0.6536999940872192, 1.093400001525879, 0.9386000037193298, 0.03500000014901161, 1.5885000228881836, 1.1075999736785889, 0.13930000364780426, -0.1477999985218048, -0.4458000063896179, 0.024800000712275505, 1.260200023651123, 1.712499976158142, 2.7952001094818115, 2.784899950027466, 2.7827999591827393, 2.763000011444092, 2.762700080871582, 2.75219988822937, 2.74399995803833, 2.7298998832702637, 2.72979998588562, 2.7291998863220215, 2.7207000255584717, 2.720599889755249, 2.7204999923706055, 2.720400094985962, 2.7035000324249268, 2.696000099182129, 2.694700002670288, 2.69350004196167, 2.675800085067749, 2.6756999492645264, 2.6754000186920166, 2.6749000549316406, 2.6745998859405518, 2.6723999977111816, 2.6594998836517334, 2.652100086212158, 2.651900053024292, 2.6500000953674316, 2.6500000953674316, 2.649899959564209, 2.640500068664551, 2.639899969100952, 2.643899917602539, 2.6465001106262207, 2.603100061416626, 2.6175999641418457, 2.59089994430542, 2.5754001140594482, 2.6171000003814697, 2.354099988937378, 2.164900064468384, 2.220599889755249, 2.6312999725341797, 2.3059000968933105, 2.3835999965667725, 1.3860000371932983, 2.229599952697754, 2.0961999893188477, 1.6780999898910522, 1.6297999620437622, 1.3425999879837036, 2.100800037384033, 2.4865000247955322, 1.8307000398635864, 2.0943000316619873, 1.4163999557495117, 1.4631999731063843, 0.815500020980835, 1.1411000490188599, 0.5716999769210815, 0.40560001134872437, -0.33709999918937683, 1.4283000230789185, -0.1785999983549118, 0.31139999628067017, 1.4348000288009644, 1.5499000549316406, 0.33480000495910645, 0.625, -0.0778999999165535, -0.5001999735832214, -1.0361000299453735, 0.09459999948740005, -0.3003000020980835, -0.9355999827384949, 0.612500011920929, 0.6980000138282776, 2.871000051498413, 2.863800048828125, 2.857599973678589, 2.8471999168395996, 2.834700107574463, 2.832200050354004, 2.825500011444092, 2.8178000450134277, 2.8153998851776123, 2.8010001182556152, 2.7967000007629395, 2.7901999950408936, 2.787100076675415, 2.785900115966797, 2.785900115966797, 2.7839999198913574, 2.779900074005127, 2.773699998855591, 2.7685999870300293, 2.7685999870300293, 2.768399953842163, 2.767699956893921, 2.7518999576568604, 2.7318999767303467, 2.7107999324798584, 2.7091000080108643, 2.7091000080108643, 2.7090001106262207, 2.708899974822998, 2.708699941635132, 2.5606000423431396, 2.656399965286255, 2.64520001411438, 2.447700023651123, 2.6189000606536865, 2.557800054550171, 2.314500093460083, 2.347599983215332, 2.375999927520752, 2.1963000297546387, 2.5736000537872314, 2.3650999069213867, 2.1774001121520996, 2.461899995803833, 1.721500039100647, 1.8398000001907349, 1.1969000101089478, 1.7359000444412231, 1.3954999446868896, 1.3343000411987305, 1.8001999855041504, 2.0413999557495117, 0.5544999837875366, 1.6648000478744507, 0.01730000041425228, 0.54830002784729, 1.1950000524520874, 0.5321000218391418, -0.09539999812841415, 0.40880000591278076, 0.8240000009536743, -0.599399983882904, 0.13439999520778656, 0.6822999715805054, -0.5364000201225281, 0.3797999918460846, -0.23589999973773956, 2.9268999099731445, 2.9235999584198, 2.8921000957489014, 2.8775999546051025, 2.859999895095825, 2.842099905014038, 2.838900089263916, 2.823499917984009, 2.823499917984009, 2.822999954223633, 2.822700023651123, 2.8203999996185303, 2.79830002784729, 2.79830002784729, 2.7981998920440674, 2.798099994659424, 2.797600030899048, 2.797600030899048, 2.7897000312805176, 2.7827999591827393, 2.776099920272827, 2.776099920272827, 2.766700029373169, 2.766400098800659, 2.7527999877929688, 2.749500036239624, 2.7493999004364014, 2.7346999645233154, 2.729300022125244, 2.724900007247925, 2.6043999195098877, 2.6624999046325684, 2.5564000606536865, 2.526099920272827, 2.70740008354187, 2.620300054550171, 2.460700035095215, 2.34660005569458, 2.0281999111175537, 2.4830000400543213, 2.47160005569458, 2.20740008354187, 1.9738999605178833, 2.472899913787842, 1.8344000577926636, 1.4961999654769897, 2.0048999786376953, 2.1352999210357666, 2.045599937438965, 1.7874000072479248, 2.2114999294281006, 1.5609999895095825, 0.8205000162124634, 1.0526000261306763, 0.670799970626831, 1.4050999879837036, 1.0500999689102173, -0.0697999969124794, 1.3142999410629272, 0.5120000243186951, 0.741100013256073, 1.2691999673843384, 0.9397000074386597, 0.49219998717308044, -0.1429000049829483, 1.1454999446868896, 0.27219998836517334, 0.847599983215332, -0.7696999907493591, 0.3790000081062317, -0.6912000179290771, -0.3573000133037567, 3.003700017929077, 3.0025999546051025, 2.9751999378204346, 2.955199956893921, 2.955199956893921, 2.954900026321411, 2.9547998905181885, 2.9546000957489014, 2.9521000385284424, 2.950200080871582, 2.9409000873565674, 2.9368999004364014, 2.9326999187469482, 2.9228999614715576, 2.9228999614715576, 2.922600030899048, 2.9161999225616455, 2.9045000076293945, 2.8977999687194824, 2.8977999687194824, 2.897700071334839, 2.89739990234375, 2.8973000049591064, 2.8970000743865967, 2.892899990081787, 2.8557000160217285, 2.8215999603271484, 2.8166000843048096, 2.8017001152038574, 2.7971999645233154, 2.793800115585327, 2.7616000175476074, 2.782599925994873, 2.6812000274658203, 2.5801000595092773, 2.473900079727173, 2.3229000568389893, 2.591200113296509, 1.9651999473571777, 2.7808001041412354, 1.9012999534606934, 2.214099884033203, 2.4161999225616455, 2.611299991607666, 2.2363998889923096, 1.6758999824523926, 2.1115000247955322, 1.8082000017166138, 2.571899890899658, 2.21370005607605, 2.0009000301361084, 1.7318999767303467, 2.4075000286102295, 2.491300106048584, 1.9931000471115112, 2.013000011444092, 1.8398000001907349, 1.1267999410629272, 0.9034000039100647, 1.7546000480651855, 1.9394999742507935, 0.7802000045776367, 2.040600061416626, 1.0383000373840332, 0.7003999948501587, 0.8313999772071838, 0.7440999746322632, -0.4731000065803528, -0.23600000143051147, 0.37439998984336853, -0.40639999508857727, 0.036400001496076584, -0.06790000200271606, 0.7124000191688538, 0.2517000138759613, -0.7652000188827515, 0.4018999934196472, -1.358299970626831, 3.267400026321411, 3.2464001178741455, 3.2451000213623047, 3.2374000549316406, 3.23580002784729, 3.222599983215332, 3.2111001014709473, 3.2107999324798584, 3.210599899291992, 3.2037999629974365, 3.1947999000549316, 3.1946001052856445, 3.183799982070923, 3.183799982070923, 3.1812000274658203, 3.169800043106079, 3.169800043106079, 3.1695001125335693, 3.1538000106811523, 3.151599884033203, 3.1514999866485596, 3.150899887084961, 3.148099899291992, 3.1445000171661377, 3.1266000270843506, 3.1266000270843506, 3.126499891281128, 3.1263999938964844, 3.1263999938964844, 3.1261000633239746, 3.1231000423431396, 3.096299886703491, 3.050299882888794, 3.073699951171875, 3.0947999954223633, 3.092600107192993, 2.971299886703491, 2.91129994392395, 2.74429988861084, 3.0439000129699707, 2.6809000968933105, 2.824199914932251, 2.7086000442504883, 2.626699924468994, 2.8954999446868896, 2.954200029373169, 2.6410000324249268, 2.547800064086914, 2.323699951171875, 2.694200038909912, 2.7818000316619873, 2.6522998809814453, 2.646199941635132, 1.6045000553131104, 1.7372000217437744, 1.9393999576568604, 2.3433001041412354, 1.895400047302246, 1.6411000490188599, 1.848099946975708, 1.6611000299453735, -0.0024999999441206455, 0.48410001397132874, 0.9441999793052673, 1.50600004196167, 0.9624000191688538, 0.2736999988555908, 0.2379000037908554, 0.35600000619888306, -0.4747999906539917, 1.0877000093460083, 0.510699987411499, -0.19679999351501465, -0.18809999525547028, -1.1553000211715698, -0.1761000007390976]}, \"token.table\": {\"Topic\": [1, 2, 5, 6, 8, 9, 10, 11, 14, 15, 1, 3, 4, 5, 7, 8, 9, 10, 13, 1, 8, 9, 1, 2, 4, 6, 8, 9, 3, 1, 6, 8, 10, 11, 1, 5, 6, 7, 9, 10, 13, 15, 1, 2, 12, 11, 13, 6, 10, 15, 1, 5, 7, 9, 10, 11, 12, 13, 15, 13, 14, 14, 1, 2, 3, 5, 7, 9, 10, 11, 13, 14, 15, 6, 1, 5, 8, 9, 10, 11, 12, 13, 14, 15, 6, 8, 9, 11, 13, 5, 10, 14, 10, 1, 5, 7, 10, 11, 12, 6, 8, 15, 1, 1, 4, 5, 7, 9, 10, 13, 14, 15, 6, 10, 1, 10, 13, 1, 2, 4, 5, 8, 9, 10, 11, 12, 14, 15, 9, 7, 1, 5, 7, 9, 13, 1, 4, 7, 8, 1, 2, 4, 5, 6, 7, 8, 9, 10, 11, 12, 13, 14, 15, 13, 15, 1, 2, 7, 11, 12, 13, 11, 13, 14, 9, 6, 10, 6, 10, 8, 14, 6, 10, 11, 10, 1, 3, 5, 9, 10, 15, 2, 5, 6, 12, 8, 1, 8, 10, 7, 12, 13, 2, 4, 5, 6, 7, 9, 10, 11, 12, 13, 14, 15, 1, 13, 13, 6, 10, 1, 6, 10, 11, 6, 12, 1, 2, 5, 6, 7, 8, 11, 13, 14, 1, 10, 11, 10, 2, 10, 11, 12, 11, 2, 11, 11, 10, 13, 14, 2, 4, 5, 7, 8, 9, 10, 11, 12, 13, 14, 15, 13, 1, 14, 10, 1, 12, 1, 2, 5, 14, 15, 1, 8, 2, 9, 11, 12, 13, 9, 11, 15, 8, 8, 9, 11, 12, 7, 5, 7, 11, 13, 14, 4, 10, 1, 2, 6, 7, 8, 11, 12, 13, 15, 1, 2, 10, 13, 15, 11, 1, 9, 8, 1, 5, 6, 5, 11, 13, 14, 1, 2, 6, 7, 10, 11, 14, 8, 13, 6, 11, 8, 9, 11, 12, 15, 9, 11, 8, 9, 9, 13, 15, 2, 1, 1, 2, 3, 4, 5, 7, 8, 9, 10, 11, 12, 13, 14, 3, 5, 9, 10, 12, 15, 1, 2, 3, 5, 6, 7, 8, 11, 13, 14, 15, 4, 3, 11, 1, 8, 15, 2, 6, 9, 11, 12, 13, 7, 9, 9, 1, 2, 4, 5, 6, 7, 8, 9, 11, 12, 13, 14, 15, 10, 7, 8, 12, 1, 3, 5, 11, 13, 4, 8, 10, 10, 13, 1, 3, 5, 9, 15, 14, 8, 15, 3, 5, 7, 8, 9, 11, 12, 13, 14, 15, 7, 5, 6, 1, 2, 3, 4, 5, 8, 10, 12, 13, 14, 1, 2, 3, 4, 5, 6, 8, 10, 11, 12, 13, 14, 8, 2, 8, 10, 1, 2, 3, 4, 5, 6, 7, 8, 9, 11, 12, 13, 14, 15, 2, 5, 14, 1, 5, 13, 1, 5, 8, 10, 11, 15, 12, 7, 3, 8, 8, 6, 3, 14, 7, 8, 11, 13, 14, 15, 1, 12, 1, 2, 3, 4, 5, 6, 7, 8, 9, 11, 12, 13, 1, 2, 11, 4, 5, 7, 8, 9, 10, 13, 14, 15, 7, 15, 9, 12, 15, 12, 15, 1, 2, 6, 7, 10, 13, 15, 12, 15, 6, 7, 1, 2, 11, 15, 8, 1, 2, 3, 4, 7, 8, 9, 11, 12, 13, 15, 1, 2, 6, 8, 10, 14, 15, 2, 3, 11, 12, 2, 6, 7, 8, 10, 11, 15, 1, 2, 3, 4, 6, 7, 8, 9, 10, 11, 12, 13, 14, 15, 2, 4, 8, 1, 3, 5, 7, 9, 15, 6, 8, 9, 10, 11, 12, 2, 7, 8, 14, 2, 3, 5, 7, 8, 9, 11, 12, 13, 14, 15, 4, 5, 1, 11, 5, 7, 8, 1, 2, 5, 7, 9, 13, 14, 2, 15, 2, 4, 8, 9, 12, 8, 9, 10, 14, 15, 1, 2, 14, 15, 2, 13, 15, 1, 2, 6, 7, 1, 3, 5, 13, 15, 3, 7, 7, 8, 9, 11, 1, 2, 3, 4, 5, 6, 7, 8, 9, 10, 11, 12, 13, 14, 15, 14, 15, 1, 8, 13, 15, 1, 2, 4, 5, 6, 7, 11, 12, 14, 4, 1, 2, 4, 5, 6, 7, 8, 10, 15, 8, 11, 12, 14, 15, 5, 1, 3, 4, 5, 6, 7, 8, 9, 10, 11, 12, 14, 15, 2, 11, 5, 10, 15, 6, 6, 2, 1, 3, 5, 6, 7, 8, 9, 11, 12, 13, 12, 1, 2, 3, 5, 6, 7, 8, 9, 10, 11, 12, 13, 15, 1, 5, 7, 8, 11, 15, 1, 2, 4, 6, 8, 9, 13, 14, 15, 2, 5, 8, 11, 12, 14, 15, 1, 2, 3, 4, 5, 10, 12, 13, 1, 4, 9, 11, 12, 14, 11, 2, 4, 7, 8, 12, 14, 14, 3, 5, 11, 5, 10, 6, 7, 8, 9, 11, 14, 15, 5, 6, 5, 9, 6, 3, 5, 8, 11, 14, 1, 4, 7, 9, 10, 12, 13, 15, 1, 3, 5, 6, 7, 8, 10, 11, 12, 13, 14, 15, 12, 8, 12, 15, 12, 8, 15, 1, 5, 7, 8, 13, 7, 11, 14, 8, 2, 7, 10, 11, 14, 15, 1, 2, 7, 14, 15, 12, 7, 8, 11, 13, 14, 1, 2, 7, 8, 13, 14, 15, 7, 1, 3, 5, 6, 7, 8, 13, 1, 3, 5, 7, 8, 12, 15, 2, 3, 7, 8, 11, 13, 15, 7, 11, 12, 1, 6, 7, 8, 1, 2, 4, 5, 8, 10, 11, 12, 13, 15, 1, 9, 4, 9, 14, 4, 11, 3, 6, 10, 11, 1, 14, 1, 3, 7, 10, 12, 15, 1, 2, 5, 7, 8, 1, 8, 9, 10, 12, 2, 12, 15, 1, 3, 5, 9, 11, 13, 10, 1, 2, 3, 5, 7, 8, 9, 10, 11, 12, 13, 14, 15, 2, 6, 8, 10, 11, 13, 14, 15, 4, 5, 2, 4, 5, 6, 8, 12, 14, 3, 4, 5, 9, 6, 12, 4, 11, 13, 2, 13, 1, 2, 3, 4, 5, 6, 7, 8, 9, 10, 11, 12, 13, 14, 15, 2, 14, 11, 1, 6, 7, 8, 11, 13, 15, 10, 3, 2, 10, 5, 2, 4, 6, 7, 9, 12, 14, 8, 8, 15, 1, 2, 3, 4, 5, 7, 10, 11, 12, 13, 14, 13, 5, 6, 8, 7, 3, 7, 8, 14, 15, 1, 3, 8, 10, 11, 12, 13, 1, 3, 4, 5, 6, 12, 15, 2, 11, 14, 12, 9, 11, 13, 2, 5, 7, 8, 11, 12, 13, 15, 4, 7, 1, 2, 3, 4, 5, 6, 7, 8, 10, 11, 12, 13, 14, 2, 5, 8, 11, 14, 15, 8, 6, 3, 11, 1, 3, 5, 7, 11, 2, 6, 6, 2, 5, 7, 11, 12, 14, 2, 5, 6, 1, 1, 2, 3, 5, 6, 7, 8, 9, 11, 12, 13, 14, 15, 2, 13, 1, 3, 1, 3, 11, 12, 12, 11, 1, 6, 6, 9, 10, 13, 6, 10, 11, 1, 4, 5, 6, 8, 13, 2, 4, 6, 8, 9, 10, 11, 13, 15, 2, 3, 8, 9, 10, 11, 13, 14, 1, 2, 4, 9, 10, 12, 13, 14, 15, 1, 9, 6, 15, 2, 4, 7, 11, 12, 14, 15, 2, 11, 14, 3, 7, 8, 10, 15, 1, 2, 3, 4, 5, 6, 7, 8, 9, 10, 11, 12, 13, 14, 15, 1, 2, 4, 6, 7, 8, 13, 14, 15, 1, 4, 6, 7, 8, 9, 11, 12, 2, 3, 5, 7, 8, 9, 12, 1, 2, 3, 4, 6, 7, 8, 9, 10, 11, 12, 13, 14, 5, 6, 12, 2, 3, 4, 6, 7, 8, 9, 11, 12, 13, 14, 15, 7, 1, 3, 1, 2, 3, 4, 5, 6, 7, 8, 9, 10, 11, 12, 13, 14, 9, 1, 2, 3, 4, 5, 6, 7, 9, 10, 11, 12, 13, 14, 2, 1, 2, 4, 6, 8, 11, 12, 15, 7, 4, 7, 13, 14, 3, 14, 2, 1, 2, 3, 5, 7, 8, 10, 11, 13, 14, 1, 3, 15, 6, 3, 4, 6, 8, 10, 13, 14, 15, 1, 3, 5, 11, 12, 1, 2, 3, 5, 7, 8, 10, 11, 12, 1, 2, 3, 5, 6, 7, 8, 12, 8, 5, 7, 10, 11, 1, 9, 1, 2, 3, 4, 5, 6, 7, 8, 9, 10, 11, 12, 13, 14, 15, 3, 5, 6, 7, 9, 10, 12, 15, 1, 3, 10, 1, 2, 3, 5, 6, 8, 9, 10, 11, 13, 14, 15, 5, 8, 10, 11, 15, 1, 2, 3, 5, 6, 7, 8, 9, 10, 11, 13, 14, 15, 4, 5, 7, 13, 1, 2, 3, 4, 5, 6, 7, 8, 9, 10, 11, 12, 13, 14, 15, 1, 2, 5, 7, 11, 13, 14, 15, 7, 15, 1, 5, 13, 13, 3, 5, 9, 7, 3, 5, 1, 3, 5, 7, 9, 10, 14, 15, 1, 2, 4, 7, 1, 2, 3, 4, 5, 6, 7, 8, 9, 10, 11, 12, 13, 14, 15, 15, 1, 5, 15, 1, 9, 1, 2, 4, 7, 8, 11, 12, 13, 14, 15, 1, 2, 3, 7, 14, 2, 3, 4, 7, 8, 9, 10, 11, 12, 13, 14, 15, 1, 3, 5, 6, 8, 9, 10, 11, 12, 13, 14, 15, 2, 4, 6, 8, 10, 12, 14, 10, 7, 6, 6, 7, 11, 1, 3, 5, 6, 7, 8, 9, 10, 11, 13, 15, 1, 2, 3, 4, 7, 8, 11, 12, 14, 15, 1, 10, 2, 3, 4, 6, 7, 8, 9, 10, 11, 13, 14, 3, 11, 4, 2, 3, 7, 2, 3, 7, 8, 11, 13, 15, 1, 5, 7, 10, 11, 12, 14, 6, 1, 2, 4, 5, 6, 9, 11, 12, 13, 14, 15, 10, 10, 1, 8, 14, 4, 7, 9, 13, 4, 9, 10, 13, 14, 15, 9, 13, 6, 7, 8, 9, 1, 2, 3, 6, 7, 12, 11, 12, 5, 14, 2, 2, 3, 5, 7, 11, 14, 15, 8, 11, 13, 3, 10, 2, 3, 4, 6, 9, 11, 13, 15, 12, 1, 2, 3, 4, 7, 8, 9, 10, 11, 12, 13, 14, 1, 2, 3, 4, 6, 7, 8, 9, 10, 11, 12, 14, 15, 6, 7, 4, 2, 6, 8, 11, 15, 13, 1, 2, 3, 6, 7, 8, 9, 12, 15, 7, 9, 10, 3, 7, 8, 9, 1, 3, 5, 6, 12, 13, 15, 2, 11, 1, 3, 4, 5, 6, 7, 9, 10, 12, 13, 14, 9, 1, 2, 3, 5, 6, 8, 9, 10, 11, 13, 14, 15, 2, 6, 7, 8, 11, 13, 14, 15, 2, 4, 7, 8, 9, 10, 12, 13, 14, 2, 8, 9, 11, 12, 13, 2, 11, 1, 3, 4, 5, 7, 8, 11, 1, 3, 5, 15, 7, 11, 15, 5, 7, 8, 9, 11, 12, 14, 15, 1, 2, 3, 4, 8, 9, 12, 13, 15, 2, 8, 9, 12, 15, 13, 1, 2, 4, 7, 9, 11, 12, 14, 1, 2, 3, 4, 5, 6, 7, 8, 9, 10, 11, 12, 13, 14, 15, 1, 5, 8, 11, 13, 2, 5, 13, 7, 8, 11, 14, 4, 1, 7, 1, 2, 3, 4, 5, 6, 7, 8, 9, 11, 12, 13, 14, 15, 2, 3, 4, 5, 6, 7, 11, 13, 14, 10, 12, 4, 6, 9, 5, 6, 8, 10, 12, 14, 8, 4, 13, 5, 1, 2, 4, 5, 6, 7, 8, 9, 10, 11, 12, 13, 14, 15, 1, 5, 1, 2, 3, 4, 5, 6, 7, 8, 9, 10, 11, 12, 14, 15, 2, 8, 13, 1, 2, 3, 4, 5, 6, 7, 8, 9, 10, 11, 12, 13, 14, 15, 7, 13, 9, 7, 8, 11, 2, 11, 1, 2, 3, 4, 7, 8, 9, 10, 11, 12, 13, 14, 15, 11, 3, 2, 4, 8, 15, 2, 4, 5, 11, 13, 14, 6, 5, 7, 8, 11, 15, 1, 2, 4, 6, 7, 8, 9, 10, 7, 13, 2, 3, 5, 8, 5, 8, 1, 6, 8, 8, 14, 1, 2, 6, 8, 9, 14, 15, 5, 3, 5, 7, 8, 11, 14, 6, 8, 9, 14, 2, 4, 8, 10, 12, 13, 15, 3, 5, 7, 11, 2, 4, 5, 6, 10, 11, 13, 14, 15, 1, 5, 7, 8, 9, 10, 11, 13, 3, 7, 9, 10, 1, 2, 3, 4, 5, 8, 10, 4, 14, 2, 3, 4, 5, 7, 8, 10, 11, 14, 15, 1, 2, 3, 5, 6, 7, 11, 12, 7, 1, 2, 3, 4, 5, 6, 7, 8, 9, 10, 11, 12, 13, 14, 15, 14, 2, 5, 12, 2, 8, 11, 13, 1, 4, 7, 8, 9, 10, 11, 12, 13, 14, 7, 14, 1, 2, 4, 6, 8, 9, 11, 12, 15, 1, 3, 9, 1, 3, 5, 8, 11, 12, 15, 11, 12, 13, 1, 14, 3, 3, 6, 14, 1, 2, 7, 8, 11, 13, 1, 4, 5, 7, 9, 10, 11, 12, 13, 15, 2, 8, 10, 11, 12, 14, 1, 4, 7, 8, 12, 13, 11, 8, 9, 10, 12, 13, 14, 13, 3, 13, 4, 5, 8, 9, 14, 15, 2, 4, 6, 8, 9, 12, 15, 2, 8, 10, 14, 15, 1, 2, 5, 6, 8, 12, 13, 15, 15, 7, 8, 9, 11, 12, 14, 9, 11, 12, 1, 5, 6, 7, 12, 1, 3, 5, 2, 5, 6, 7, 8, 10, 11, 13, 15, 14, 1, 2, 3, 4, 5, 6, 7, 8, 9, 10, 11, 12, 15, 2, 6, 9, 14, 15, 11, 2, 3, 4, 5, 7, 8, 9, 11, 13, 1, 2, 6, 7, 11, 12, 15, 2, 4, 7, 12, 13, 15, 4, 8, 11, 15, 1, 2, 3, 5, 8, 10, 11, 13, 14, 5, 14, 6, 15, 11, 1, 7, 10, 13, 8, 14, 15, 4, 8, 15, 2, 6, 8, 15, 3, 7, 3, 5, 7, 8, 9, 10, 3, 7, 8, 9, 12, 1, 2, 3, 4, 6, 7, 8, 9, 11, 13, 14, 1, 2, 3, 4, 6, 7, 8, 9, 10, 11, 12, 13, 14, 15, 4, 2, 4, 5, 6, 8, 10, 11, 13, 15, 2, 6, 12, 13, 14, 15, 2, 4, 6, 1, 2, 3, 4, 5, 6, 7, 8, 9, 10, 11, 12, 13, 14, 15, 1, 5, 12, 4, 15, 10, 1, 5, 12, 15, 1, 3, 4, 7, 9, 15, 5, 10, 1, 2, 3, 4, 5, 6, 7, 8, 9, 10, 11, 12, 13, 15, 11, 9, 4, 12, 8, 2, 4, 6, 8, 10, 12, 13, 15, 1, 5, 8, 10, 11, 1, 3, 4, 6, 7, 8, 14, 15, 4, 9, 1, 7, 13, 8, 1, 2, 3, 4, 5, 6, 7, 8, 9, 10, 11, 12, 13, 14, 15, 9, 11, 12, 9, 10, 11, 12, 13, 14, 2, 3, 4, 5, 7, 11, 12, 13, 14, 10, 12, 1, 2, 4, 5, 6, 8, 9, 13, 15, 2, 10, 15, 3, 7, 10, 11, 15, 14, 5, 15, 8, 5, 10, 13, 1, 2, 3, 4, 5, 6, 8, 10, 11, 12, 13, 14, 15, 4, 10, 6, 11, 8, 10, 13, 14, 1, 2, 7, 9, 10, 11, 12, 13, 15, 5, 11, 2, 7, 11, 13, 8, 14, 2, 4, 6, 9, 10, 12, 14, 15, 8, 11, 9, 8, 15, 3, 13, 1, 2, 6, 7, 8, 9, 10, 11, 13, 14, 15, 2, 1, 1, 2, 4, 5, 6, 7, 8, 9, 10, 11, 13, 14, 3, 5, 8, 10, 3, 5, 1, 8, 12, 13, 14, 15, 11, 1, 3, 13, 15, 14, 2, 6, 8, 9, 10, 11, 14, 10, 2, 4, 6, 9, 10, 3, 12, 13, 7, 11, 1, 2, 7, 8, 10, 11, 12, 13, 14, 15, 6, 3, 5, 8, 11, 15, 1, 2, 3, 4, 5, 6, 7, 8, 9, 11, 12, 13, 14, 1, 6, 8, 2, 2, 5, 6, 8, 11, 14, 10, 1, 3, 4, 6, 7, 8, 9, 10, 11, 12, 14, 15, 4, 11, 1, 2, 6, 7, 8, 10, 11, 3, 4, 5, 7, 8, 9, 11, 12, 13, 10, 4, 5, 6, 7, 8, 11, 9, 7, 13, 7, 2, 9, 1, 2, 4, 5, 7, 8, 9, 10, 4, 8, 1, 2, 5, 9, 10, 2, 4, 7, 8, 9, 11, 12, 14, 15, 8, 11, 6, 9, 11, 15, 12, 4, 1, 2, 4, 6, 7, 9, 11, 13, 4, 1, 2, 4, 6, 7, 8, 10, 11, 12, 13, 14, 15, 2, 2, 8, 11, 13, 5, 1, 2, 3, 5, 7, 9, 10, 11, 14, 15, 5, 8, 11, 2, 3, 2, 4, 6, 7, 8, 2, 4, 7, 8, 13, 1, 11, 7, 2, 4, 7, 10, 12, 13, 7, 9, 5, 6, 14, 1, 4, 8, 11, 12, 13, 14, 15, 1, 2, 1, 7, 11, 15, 10, 14, 1, 2, 5, 6, 7, 8, 10, 11, 12, 13, 14, 15, 2, 8, 2, 5, 8, 15, 12, 1, 3, 15, 13, 5, 2, 3, 7, 8, 9, 2, 11, 2, 13, 3, 7, 8, 11, 12, 13, 2, 3, 6, 15, 1, 2, 3, 4, 5, 6, 7, 8, 9, 10, 11, 12, 13, 14, 15, 12, 1, 2, 3, 4, 5, 6, 7, 8, 9, 10, 11, 12, 13, 14, 2, 13, 8, 2, 11, 14, 13, 15, 3, 7, 10, 11, 15, 2, 11, 13, 14, 15, 15, 4, 10, 1, 3, 6, 10, 12, 15, 1, 2, 3, 4, 5, 6, 7, 8, 9, 10, 11, 12, 13, 14, 15, 1, 2, 3, 4, 5, 6, 7, 8, 9, 10, 11, 12, 13, 14, 15, 13, 14, 14, 1, 2, 3, 4, 5, 6, 7, 8, 9, 10, 11, 12, 13, 14, 15, 7, 11, 2, 3, 6, 9, 15, 2, 3, 4, 6, 14, 15, 14, 14, 7, 11, 13, 8, 13, 10, 2, 3, 4, 5, 6, 7, 8, 11, 12, 14, 15, 2, 3, 5, 7, 10, 11, 14, 15, 1, 2, 5, 1, 4, 6, 7, 8, 9, 10, 11, 12, 13, 14, 2, 5, 6, 8, 10, 13, 1, 14, 2, 6, 3, 8, 10, 1, 2, 5, 8, 15, 3, 12, 2, 4, 8, 9, 10, 12, 13, 12, 6, 1, 7, 13, 14, 15, 1, 2, 3, 4, 5, 6, 7, 8, 9, 10, 11, 12, 13, 14, 15, 2, 4, 5, 7, 11, 12, 11, 2, 4, 5, 6, 10, 13, 15, 6, 7, 2, 3, 4, 7, 8, 9, 10, 11, 12, 13, 14, 9, 4, 1, 2, 3, 4, 5, 6, 7, 10, 13, 14, 15, 2, 4, 7, 10, 11, 13, 4, 8, 14, 1, 4, 8, 9, 12, 14, 9, 7, 1, 3, 5, 6, 7, 8, 9, 10, 11, 14, 2, 7, 14, 1, 2, 3, 4, 5, 6, 7, 8, 9, 10, 11, 12, 13, 14, 15, 1, 5, 7, 9, 14, 5, 1, 2, 3, 4, 5, 7, 13, 14, 15, 1, 2, 3, 4, 5, 6, 7, 8, 9, 10, 11, 12, 13, 14, 15, 5, 7, 8, 2, 5, 11, 1, 2, 3, 8, 9, 10, 12, 13, 15, 12, 1, 2, 4, 6, 7, 8, 9, 10, 11, 12, 13, 14, 15, 12, 6, 9, 10, 12, 13, 15, 1, 2, 5, 7, 8, 10, 13, 14, 6, 8, 13, 14, 7, 2, 14, 8, 11, 1, 4, 1, 2, 3, 4, 5, 6, 7, 8, 9, 10, 11, 12, 13, 14, 15, 1, 2, 3, 4, 6, 8, 9, 13, 14, 7, 9, 9, 11, 5, 7, 9, 9, 9, 1, 1, 5, 7, 9, 10, 12, 13, 15, 11, 1, 3, 4, 5, 7, 13, 1, 5, 15, 5, 9, 15, 15, 7], \"Freq\": [0.03450879454612732, 0.1281755268573761, 0.004929827991873026, 0.5940442681312561, 0.03943862393498421, 0.014789484441280365, 0.07394742220640182, 0.004929827991873026, 0.09859655797481537, 0.002464913995936513, 0.5511106252670288, 0.01509892102330923, 0.007549460511654615, 0.06039568409323692, 0.022648382931947708, 0.03019784204661846, 0.09059353172779083, 0.17363759875297546, 0.045296765863895416, 0.8871685266494751, 0.044358428567647934, 0.044358428567647934, 0.023471003398299217, 0.11735501885414124, 0.023471003398299217, 0.645452618598938, 0.09388401359319687, 0.09388401359319687, 0.8599067330360413, 0.2646963894367218, 0.03892593830823898, 0.03892593830823898, 0.6383854150772095, 0.015570376068353653, 0.6957096457481384, 0.05683262273669243, 0.01763770915567875, 0.007838982157409191, 0.09210804104804993, 0.047033894807100296, 0.04507414624094963, 0.0352754183113575, 0.7858774662017822, 0.10478366166353226, 0.07858774811029434, 0.10906757414340973, 0.8180068135261536, 0.06000294163823128, 0.8400411605834961, 0.8713341355323792, 0.672835648059845, 0.02618037536740303, 0.054978787899017334, 0.15708225965499878, 0.03665252774953842, 0.005236075259745121, 0.005236075259745121, 0.03665252774953842, 0.0026180376298725605, 0.7821446061134338, 0.13035742938518524, 0.8339462876319885, 0.5723239779472351, 0.009132829494774342, 0.04870842769742012, 0.08523974567651749, 0.0030442767310887575, 0.08523974567651749, 0.006088553462177515, 0.018265658989548683, 0.12785962224006653, 0.006088553462177515, 0.039575595408678055, 0.8935645818710327, 0.6166343688964844, 0.08221791684627533, 0.012648909352719784, 0.044271185994148254, 0.003162227338179946, 0.047433409839868546, 0.003162227338179946, 0.16759805381298065, 0.006324454676359892, 0.015811137855052948, 0.6101215481758118, 0.07263351231813431, 0.11621361970901489, 0.08716021478176117, 0.10168691724538803, 0.12775230407714844, 0.8303899765014648, 0.8511170744895935, 0.9527311325073242, 0.7813859581947327, 0.02216697856783867, 0.02770872227847576, 0.06650093197822571, 0.038792211562395096, 0.05541744455695152, 0.9225455522537231, 0.054267384111881256, 0.8720789551734924, 0.8923737406730652, 0.13599015772342682, 0.3288489282131195, 0.007417644839733839, 0.0024725482799112797, 0.11373721808195114, 0.3412116765975952, 0.05934115871787071, 0.0024725482799112797, 0.009890193119645119, 0.7828719615936279, 0.11183884739875793, 0.9075206518173218, 0.9280598759651184, 0.8980496525764465, 0.171010360121727, 0.0033205896615982056, 0.22580009698867798, 0.024904422461986542, 0.0016602948307991028, 0.013282358646392822, 0.5180119872093201, 0.009961768984794617, 0.016602948307991028, 0.013282358646392822, 0.0016602948307991028, 0.9148724675178528, 0.8668761253356934, 0.7520934343338013, 0.10472187399864197, 0.03808068111538887, 0.028560509905219078, 0.0666411891579628, 0.17242920398712158, 0.7759313583374023, 0.01588551327586174, 0.9817247986793518, 0.015522009693086147, 0.17764078080654144, 0.006898670922964811, 0.02184579148888588, 0.08968272060155869, 0.07933472096920013, 0.11497785151004791, 0.0005748892435804009, 0.18741390109062195, 0.08968272060155869, 0.0017246677307412028, 0.11727740615606308, 0.04886558651924133, 0.04886558651924133, 0.1708703339099884, 0.797394871711731, 0.06773702800273895, 0.5268435478210449, 0.11289504170417786, 0.15805305540561676, 0.0075263362377882, 0.12794771790504456, 0.33878692984580994, 0.6159762740135193, 0.030798813328146935, 0.9380872845649719, 0.09488890320062637, 0.9014446139335632, 0.7628915309906006, 0.2270510494709015, 0.9855257272720337, 0.863585352897644, 0.2525627613067627, 0.6975542902946472, 0.04209379106760025, 0.8501182794570923, 0.10317780822515488, 0.004762053024023771, 0.028572317212820053, 0.646051824092865, 0.19524416327476501, 0.020635562017560005, 0.9439623355865479, 0.8532711863517761, 0.037196241319179535, 0.9299060702323914, 0.9683809280395508, 0.8748900890350342, 0.9974521994590759, 0.9769160747528076, 0.8647571802139282, 0.8930904269218445, 0.8410544991493225, 0.048193659633398056, 0.02313295751810074, 0.0009638732299208641, 0.0009638732299208641, 0.024096829816699028, 0.13397838175296783, 0.5474799871444702, 0.0838569700717926, 0.0009638732299208641, 0.07518211007118225, 0.060724012553691864, 0.8314584493637085, 0.21174517273902893, 0.7411081194877625, 0.9780296683311462, 0.8461300134658813, 0.14822715520858765, 0.3604235053062439, 0.02002352848649025, 0.6073803305625916, 0.00667450949549675, 0.8395817875862122, 0.8377577066421509, 0.0033480217680335045, 0.14061690866947174, 0.06696043908596039, 0.0033480217680335045, 0.07700449973344803, 0.04352428391575813, 0.5490756034851074, 0.10713669657707214, 0.006696043536067009, 0.9186591506004333, 0.9862622618675232, 0.010063900612294674, 0.9186815023422241, 0.3068000078201294, 0.5965555310249329, 0.059655554592609406, 0.03408888727426529, 0.9015703201293945, 0.9105015397071838, 0.039587024599313736, 0.8585548400878906, 0.6670780777931213, 0.2877591848373413, 0.026159925386309624, 0.0021521002054214478, 0.0014347335090860724, 0.00573893403634429, 0.022238370031118393, 0.003586833830922842, 0.3479228913784027, 0.16427698731422424, 0.08177981525659561, 0.08464927971363068, 0.015064702369272709, 0.25036099553108215, 0.020086269825696945, 0.818382203578949, 0.8498544692993164, 0.8333842754364014, 0.851311981678009, 0.8759235739707947, 0.9672595858573914, 0.9611473083496094, 0.779721200466156, 0.12514044344425201, 0.08182259649038315, 0.004813093692064285, 0.806149959564209, 0.12728683650493622, 0.013125835917890072, 0.5775367617607117, 0.13125835359096527, 0.2231392115354538, 0.026251671835780144, 0.17742231488227844, 0.6431558728218079, 0.15524452924728394, 0.9357298612594604, 0.02683965675532818, 0.34891554713249207, 0.4831138253211975, 0.12077845633029938, 0.8408105969429016, 0.01930186338722706, 0.1447639763355255, 0.4825465977191925, 0.3184807598590851, 0.01930186338722706, 0.8626883029937744, 0.8742853403091431, 0.009861457161605358, 0.4536270201206207, 0.049307286739349365, 0.07396093010902405, 0.11340675503015518, 0.004930728580802679, 0.019722914323210716, 0.014792186208069324, 0.24653643369674683, 0.7928211092948914, 0.013213684782385826, 0.10570947825908661, 0.013213684782385826, 0.06606842577457428, 0.9345200061798096, 0.23483341932296753, 0.7045002579689026, 0.9359009861946106, 0.10081062465906143, 0.050405312329530716, 0.8064849972724915, 0.01248474046587944, 0.3495727479457855, 0.5992675423622131, 0.01248474046587944, 0.12611763179302216, 0.04451210796833038, 0.037093423306941986, 0.02967473864555359, 0.5860760807991028, 0.13353632390499115, 0.037093423306941986, 0.983707070350647, 0.8581456542015076, 0.8370580673217773, 0.08370580524206161, 0.00751376710832119, 0.3155782222747803, 0.04508260264992714, 0.6086151003837585, 0.02254130132496357, 0.8467791080474854, 0.9101485013961792, 0.07246249169111252, 0.7970874309539795, 0.12300176173448563, 0.7995114326477051, 0.965621829032898, 0.8569076657295227, 0.8505252003669739, 0.018716637045145035, 0.04913117364048958, 0.03509369492530823, 0.02339579537510872, 0.2690516412258148, 0.10762066394090652, 0.10294150561094284, 0.08890402317047119, 0.09124360233545303, 0.11931855976581573, 0.004679159261286259, 0.044452011585235596, 0.042112432420253754, 0.23104797303676605, 0.02406749688088894, 0.5679929256439209, 0.1347779780626297, 0.01925399713218212, 0.014440498314797878, 0.005464096553623676, 0.10381782799959183, 0.027320481836795807, 0.26227661967277527, 0.019124336540699005, 0.054640963673591614, 0.019124336540699005, 0.016392288729548454, 0.18304722011089325, 0.2650086581707001, 0.04098072275519371, 0.9580327868461609, 0.6839967370033264, 0.11399945616722107, 0.9363126754760742, 0.8986766338348389, 0.8481772541999817, 0.02459160052239895, 0.6086421012878418, 0.04303530231118202, 0.1967328041791916, 0.030739501118659973, 0.09221850335597992, 0.8416393995285034, 0.10099673271179199, 0.9243378043174744, 0.1614498347043991, 0.04809144139289856, 0.07557226717472076, 0.013740411959588528, 0.08931268006563187, 0.06183185428380966, 0.24389231204986572, 0.003435102989897132, 0.06870205700397491, 0.003435102989897132, 0.1854955554008484, 0.03091592714190483, 0.010305308736860752, 0.8754487633705139, 0.014547141268849373, 0.07273570448160172, 0.9019227623939514, 0.06355439871549606, 0.7626527547836304, 0.007061599288135767, 0.028246397152543068, 0.13417038321495056, 0.6776301860809326, 0.16263124346733093, 0.13552603125572205, 0.07565469294786453, 0.8322016000747681, 0.22035768628120422, 0.13560473918914795, 0.6144589185714722, 0.012712943367660046, 0.012712943367660046, 0.8634272813796997, 0.9504590630531311, 0.8478617072105408, 0.013213793747127056, 0.4845057725906372, 0.10130575299263, 0.08368736505508423, 0.017618391662836075, 0.004404597915709019, 0.07928276062011719, 0.1321379393339157, 0.022022990509867668, 0.06606896966695786, 0.8655537962913513, 0.8375828266143799, 0.09306476265192032, 0.1354609727859497, 0.026218252256512642, 0.021848544478416443, 0.40201321244239807, 0.09176388382911682, 0.1529398113489151, 0.004369708709418774, 0.026218252256512642, 0.008739417418837547, 0.13109126687049866, 0.017948558554053307, 0.2307671755552292, 0.06410199403762817, 0.06923015415668488, 0.10256318747997284, 0.2358953356742859, 0.041025273501873016, 0.015384478494524956, 0.038461197167634964, 0.03076895698904991, 0.12307582795619965, 0.03076895698904991, 0.9080849885940552, 0.06836655735969543, 0.7976098656654358, 0.11394426226615906, 0.05177934467792511, 0.1500544250011444, 0.14635589718818665, 0.015850819647312164, 0.1632634401321411, 0.06234655901789665, 0.13526032865047455, 0.008982131257653236, 0.0010567213175818324, 0.10567212849855423, 0.014265737496316433, 0.10091688483953476, 0.04385393485426903, 0.0005283606587909162, 0.6553519368171692, 0.2520584464073181, 0.0840194821357727, 0.14483428001403809, 0.8448666930198669, 0.8184399008750916, 0.299505352973938, 0.09529715776443481, 0.38799557089805603, 0.05445551872253418, 0.10210409760475159, 0.05445551872253418, 0.9134340882301331, 0.8829407691955566, 0.8705244660377502, 0.07913858443498611, 0.9151989817619324, 0.8792555332183838, 0.15104171633720398, 0.7552085518836975, 0.11503618210554123, 0.028759045526385307, 0.08627714216709137, 0.057518091052770615, 0.5751809477806091, 0.11503618210554123, 0.8928941488265991, 0.9326974153518677, 0.0037929723039269447, 0.11378917098045349, 0.0758594498038292, 0.03413674980401993, 0.053101614117622375, 0.02275783382356167, 0.060687556862831116, 0.03413674980401993, 0.015171889215707779, 0.1896486133337021, 0.026550807058811188, 0.37171128392219543, 0.1599353551864624, 0.04569581523537636, 0.7768288254737854, 0.011756041087210178, 0.08229228109121323, 0.023512082174420357, 0.10580436885356903, 0.07053624093532562, 0.03526812046766281, 0.43497350811958313, 0.15282852947711945, 0.05878020450472832, 0.12159834802150726, 0.7903892397880554, 0.2518462538719177, 0.7275558710098267, 0.8095988035202026, 0.8931970000267029, 0.9864041209220886, 0.023427685722708702, 0.23427686095237732, 0.48417216539382935, 0.08590151369571686, 0.023427685722708702, 0.07028305530548096, 0.07028305530548096, 0.42607274651527405, 0.5557470917701721, 0.8041119575500488, 0.16082239151000977, 0.893417477607727, 0.8707929253578186, 0.10570318251848221, 0.020133940503001213, 0.9216446876525879, 0.017532311379909515, 0.030681543052196503, 0.021915389224886894, 0.43538573384284973, 0.018993336707353592, 0.12418720126152039, 0.0029220518190413713, 0.0029220518190413713, 0.10227181017398834, 0.1475636214017868, 0.09788873791694641, 0.027473416179418564, 0.2426818460226059, 0.5998362898826599, 0.013736708089709282, 0.00915780570358038, 0.013736708089709282, 0.08699915558099747, 0.7244434356689453, 0.26343396306037903, 0.858829140663147, 0.9133225083351135, 0.011295468546450138, 0.04518187418580055, 0.011295468546450138, 0.06777281314134598, 0.779387354850769, 0.06777281314134598, 0.022590937092900276, 0.029884835705161095, 0.1344817578792572, 0.009961611591279507, 0.29884836077690125, 0.024904029443860054, 0.032375238835811615, 0.05478886514902115, 0.10210651904344559, 0.024904029443860054, 0.019923223182559013, 0.14942418038845062, 0.009961611591279507, 0.024904029443860054, 0.08218330144882202, 0.6988987326622009, 0.23296624422073364, 0.03328089043498039, 0.09031463414430618, 0.13246145844459534, 0.15654535591602325, 0.006020975299179554, 0.5479087829589844, 0.06623072922229767, 0.7400349974632263, 0.007184806279838085, 0.0718480572104454, 0.05029364302754402, 0.01436961255967617, 0.1077720895409584, 0.8567379117012024, 0.09973382204771042, 0.8228040337562561, 0.04986691102385521, 0.01805666834115982, 0.0070936912670731544, 0.2592421770095825, 0.024505479261279106, 0.0006448810454457998, 0.009673215448856354, 0.23860599100589752, 0.09737703949213028, 0.0006448810454457998, 0.3346932530403137, 0.00902833417057991, 0.8623316884040833, 0.8784032464027405, 0.14342589676380157, 0.8127467036247253, 0.08413626998662949, 0.8413626551628113, 0.08413626998662949, 0.608413815498352, 0.0791771337389946, 0.012501653283834457, 0.020836088806390762, 0.19585923850536346, 0.0041672177612781525, 0.0791771337389946, 0.2338613122701645, 0.7015839219093323, 0.04805649444460869, 0.5959005355834961, 0.03844519332051277, 0.17300337553024292, 0.14416947960853577, 0.07364603877067566, 0.01052086241543293, 0.18937553465366364, 0.02104172483086586, 0.6838560700416565, 0.8933301568031311, 0.8482838273048401, 0.13495424389839172, 0.009639589115977287, 0.8658902645111084, 0.06297384202480316, 0.07871729880571365, 0.017655419185757637, 0.05296625569462776, 0.8474600911140442, 0.07062167674303055, 0.7129350304603577, 0.16452346742153168, 0.09140192717313766, 0.7833738327026367, 0.09792172908782959, 0.9286438822746277, 0.04127306118607521, 0.20152448117733002, 0.5607637763023376, 0.17085771262645721, 0.0657145082950592, 0.16641956567764282, 0.01735474169254303, 0.1221029981970787, 0.020763708278536797, 0.07251802831888199, 0.0718982145190239, 0.029131172224879265, 0.02541229873895645, 0.20298849046230316, 0.12365253269672394, 0.04989488050341606, 0.011466525495052338, 0.026032112538814545, 0.03687882423400879, 0.023242956027388573, 0.9689104557037354, 0.809235155582428, 0.14042502641677856, 0.0585104264318943, 0.6670188307762146, 0.1287229359149933, 0.019421851262450218, 0.058265551924705505, 0.5179160237312317, 0.029132775962352753, 0.07121345400810242, 0.03560672700405121, 0.009710925631225109, 0.20069245994091034, 0.058265551924705505, 0.9211069941520691, 0.6787108778953552, 0.09913753718137741, 0.022877894341945648, 0.0038129822351038456, 0.04194280505180359, 0.015251928940415382, 0.09151157736778259, 0.011438947170972824, 0.03431684151291847, 0.06511315703392029, 0.030052226036787033, 0.5860183835029602, 0.2704700231552124, 0.04006963223218918, 0.9406038522720337, 0.4192134439945221, 0.1956329345703125, 0.0017467226134613156, 0.020960671827197075, 0.013973780907690525, 0.013973780907690525, 0.019213948398828506, 0.050654955208301544, 0.0034934452269226313, 0.02620084024965763, 0.022707395255565643, 0.0017467226134613156, 0.21135343611240387, 0.8660857081413269, 0.05413035675883293, 0.7982460260391235, 0.0886940062046051, 0.0886940062046051, 0.8616719841957092, 0.879360556602478, 0.9572035670280457, 0.038134172558784485, 0.02288050390779972, 0.04576100781559944, 0.04576100781559944, 0.35083436965942383, 0.09152201563119888, 0.04576100781559944, 0.3050733804702759, 0.0533878393471241, 0.007626834325492382, 0.8621339201927185, 0.4844930171966553, 0.008841114118695259, 0.003536445554345846, 0.033596232533454895, 0.001768222777172923, 0.06365601718425751, 0.10786158591508865, 0.053046680986881256, 0.003536445554345846, 0.1096298098564148, 0.053046680986881256, 0.061887796968221664, 0.014145782217383385, 0.7955297827720642, 0.04773178696632385, 0.06364238262176514, 0.055687084794044495, 0.007955297827720642, 0.023865893483161926, 0.006702131126075983, 0.20441500842571259, 0.006702131126075983, 0.4993087947368622, 0.0033510655630379915, 0.09382984042167664, 0.10723409801721573, 0.0033510655630379915, 0.07037238031625748, 0.2711135745048523, 0.016598790884017944, 0.03873051330447197, 0.28217944502830505, 0.011065861210227013, 0.34857460856437683, 0.03873051330447197, 0.23139770328998566, 0.0015634979354217649, 0.4205809533596039, 0.0015634979354217649, 0.16416728496551514, 0.014071481302380562, 0.03283345699310303, 0.13289733231067657, 0.8745033144950867, 0.7208908200263977, 0.030676204711198807, 0.04601430892944336, 0.12270481884479523, 0.061352409422397614, 0.9803562760353088, 0.012395528145134449, 0.8552914261817932, 0.053713954985141754, 0.016527371481060982, 0.016527371481060982, 0.04545027017593384, 0.8634916543960571, 0.11492089927196503, 0.028730224817991257, 0.8044463396072388, 0.6823759078979492, 0.1705939769744873, 0.08603167533874512, 0.5161900520324707, 0.10037028789520264, 0.05735445022583008, 0.15772473812103271, 0.01433861255645752, 0.04301583766937256, 0.8540188670158386, 0.8619738817214966, 0.14535151422023773, 0.7267575860023499, 0.8379082679748535, 0.02706366591155529, 0.08119099587202072, 0.02706366591155529, 0.784846305847168, 0.05412733182311058, 0.05416534096002579, 0.7109200954437256, 0.0033853338100016117, 0.06432133913040161, 0.006770667620003223, 0.0914040133357048, 0.06770667433738708, 0.0033853338100016117, 0.43700331449508667, 0.001916681183502078, 0.07858393341302872, 0.07091720402240753, 0.13416768610477448, 0.08050061017274857, 0.011500087566673756, 0.07091720402240753, 0.011500087566673756, 0.032583579421043396, 0.007666724734008312, 0.0613337978720665, 0.9133186936378479, 0.978460967540741, 0.08833228051662445, 0.7949905395507812, 0.989773690700531, 0.8888249397277832, 0.965866208076477, 0.0464172288775444, 0.7426756620407104, 0.0928344577550888, 0.0464172288775444, 0.0464172288775444, 0.08664444088935852, 0.736477792263031, 0.17328888177871704, 0.8880749940872192, 0.0238272063434124, 0.16083364188671112, 0.0119136031717062, 0.2144448608160019, 0.5539825558662415, 0.029784008860588074, 0.13189001381397247, 0.13189001381397247, 0.014654445461928844, 0.19050779938697815, 0.5275600552558899, 0.9416449069976807, 0.2701832056045532, 0.3759070634841919, 0.03524128720164299, 0.1468386948108673, 0.16445933282375336, 0.0999177098274231, 0.0999177098274231, 0.04995885491371155, 0.16236627101898193, 0.012489713728427887, 0.5245679616928101, 0.03746914118528366, 0.8653529286384583, 0.21585585176944733, 0.05396396294236183, 0.5072612762451172, 0.021585585549473763, 0.10792792588472366, 0.03777477517724037, 0.05396396294236183, 0.06700389832258224, 0.5062516331672668, 0.3449459969997406, 0.0024816258810460567, 0.06948552280664444, 0.0049632517620921135, 0.0024816258810460567, 0.01134178414940834, 0.04536713659763336, 0.4763549566268921, 0.12475962936878204, 0.10207606106996536, 0.03402535244822502, 0.1928103268146515, 0.8683611154556274, 0.8347814083099365, 0.08347813785076141, 0.7312199473381042, 0.03566926717758179, 0.07133853435516357, 0.16051170229911804, 0.06365308165550232, 0.5346858501434326, 0.03182654082775116, 0.03819184750318527, 0.02546123042702675, 0.07638369500637054, 0.07001838833093643, 0.044557154178619385, 0.019095923751592636, 0.09547961503267288, 0.7484046816825867, 0.22678929567337036, 0.75773686170578, 0.20665550231933594, 0.017221292480826378, 0.9329757690429688, 0.8351333141326904, 0.9164478182792664, 0.13066242635250092, 0.7113843560218811, 0.14518047869205475, 0.09786010533571243, 0.7828808426856995, 0.11422517895698547, 0.019037529826164246, 0.5901634097099304, 0.09518764913082123, 0.09518764913082123, 0.05711258947849274, 0.0648186057806015, 0.03240930289030075, 0.31328991055488586, 0.5077457427978516, 0.0648186057806015, 0.7264372706413269, 0.01729612611234188, 0.13836900889873505, 0.08648062497377396, 0.01729612611234188, 0.13419105112552643, 0.805146336555481, 0.03354776278138161, 0.03726610541343689, 0.2775682508945465, 0.1644848883152008, 0.12464869767427444, 0.0012850381899625063, 0.3932216763496399, 0.8742133975028992, 0.059703029692173004, 0.002713774098083377, 0.013568870723247528, 0.03256528824567795, 0.07598567754030228, 0.10583718866109848, 0.06784435361623764, 0.22524325549602509, 0.14654380083084106, 0.046134158968925476, 0.21167437732219696, 0.008141322061419487, 0.002713774098083377, 0.0292191281914711, 0.8515288829803467, 0.016696644946932793, 0.004174161236733198, 0.008348322473466396, 0.033393289893865585, 0.020870806649327278, 0.033393289893865585, 0.8992343544960022, 0.06917187571525574, 0.24894589185714722, 0.1306965947151184, 0.006223646923899651, 0.44810259342193604, 0.1618148237466812, 0.8931910395622253, 0.8114858269691467, 0.723432719707489, 0.2066950500011444, 0.11333925276994705, 0.79337477684021, 0.8144443035125732, 0.16288886964321136, 0.906743586063385, 0.9009910821914673, 0.9103868007659912, 0.8565860390663147, 0.841994047164917, 0.04743614047765732, 0.04743614047765732, 0.014341157861053944, 0.01323799230158329, 0.030888648703694344, 0.01323799230158329, 0.24710918962955475, 0.16988757252693176, 0.0011031660251319408, 0.02647598460316658, 0.044126641005277634, 0.07501529157161713, 0.1478242427110672, 0.10811027139425278, 0.01323799230158329, 0.12251231074333191, 0.7350738644599915, 0.910224974155426, 0.014515811577439308, 0.13064230978488922, 0.5080534219741821, 0.029031623154878616, 0.14515811204910278, 0.1016106829047203, 0.043547432869672775, 0.8521701693534851, 0.9167119264602661, 0.08518414199352264, 0.8518414497375488, 0.8534387350082397, 0.004819029942154884, 0.4819030165672302, 0.279503732919693, 0.019276119768619537, 0.019276119768619537, 0.06746642291545868, 0.1252947896718979, 0.9707443118095398, 0.08837204426527023, 0.7953484058380127, 0.047083403915166855, 0.10005223006010056, 0.05149747058749199, 0.032369840890169144, 0.4884903132915497, 0.10888037085533142, 0.0029427127446979284, 0.11182308197021484, 0.007356781512498856, 0.0014713563723489642, 0.048554759472608566, 0.8190014958381653, 0.047827091068029404, 0.7413199543952942, 0.19130836427211761, 0.864992082118988, 0.016457153484225273, 0.08228576183319092, 0.04937145859003067, 0.11520007252693176, 0.724114716053009, 0.918024480342865, 0.004250113386660814, 0.012750339694321156, 0.012750339694321156, 0.017000453546643257, 0.012750339694321156, 0.017000453546643257, 0.4066537916660309, 0.35634610056877136, 0.050307683646678925, 0.07546152919530869, 0.012576920911669731, 0.03353845700621605, 0.05869229882955551, 0.03876744583249092, 0.8063628673553467, 0.1511930376291275, 0.9212977886199951, 0.6957631707191467, 0.17955179512500763, 0.08977589756250381, 0.11422315984964371, 0.08884023129940033, 0.5140042304992676, 0.019037192687392235, 0.057111579924821854, 0.1332603543996811, 0.03807438537478447, 0.031728655099868774, 0.8036407828330994, 0.11480582505464554, 0.025454604998230934, 0.007048967760056257, 0.13393038511276245, 0.20246201753616333, 0.016055982559919357, 0.0003916092973668128, 0.4667983055114746, 0.004699311684817076, 0.0003916092973668128, 0.03602805733680725, 0.0979023277759552, 0.0007832185947336257, 0.007832186296582222, 0.1440555304288864, 0.011081195436418056, 0.011081195436418056, 0.5983845591545105, 0.15513673424720764, 0.06648717075586319, 0.9864468574523926, 0.8377004861831665, 0.7860931158065796, 0.12093739956617355, 0.16124142706394196, 0.5395386219024658, 0.2914748787879944, 0.8408812880516052, 0.08408812433481216, 0.9107118844985962, 0.03959617018699646, 0.8804623484611511, 0.4576667845249176, 0.004050148651003838, 0.020250743255019188, 0.07695282250642776, 0.004050148651003838, 0.4293157458305359, 0.07309767603874207, 0.6578790545463562, 0.14619535207748413, 0.8744980096817017, 0.01094116736203432, 0.003126048017293215, 0.137546107172966, 0.31729385256767273, 0.0343865267932415, 0.11878982186317444, 0.028134431689977646, 0.035949550569057465, 0.00625209603458643, 0.11722679436206818, 0.068773053586483, 0.07033608108758926, 0.053142815828323364, 0.8543546795845032, 0.08543547242879868, 0.04010741040110588, 0.952551007270813, 0.10793440043926239, 0.7015736103057861, 0.161901593208313, 0.983203113079071, 0.839127779006958, 0.8597986698150635, 0.13438379764556885, 0.8063028454780579, 0.8931177854537964, 0.20411136746406555, 0.7909315228462219, 0.8414440155029297, 0.8385315537452698, 0.10025327652692795, 0.9022794961929321, 0.01667098142206669, 0.7668651342391968, 0.11669687181711197, 0.0833549052476883, 0.01667098142206669, 0.01667098142206669, 0.13096457719802856, 0.08026861399412155, 0.5069596171379089, 0.02957264520227909, 0.012673990800976753, 0.10139192640781403, 0.04647130146622658, 0.08449327200651169, 0.004224663600325584, 0.687910258769989, 0.005879574920982122, 0.07643447071313858, 0.011759149841964245, 0.005879574920982122, 0.04703659936785698, 0.03527744859457016, 0.12935064733028412, 0.03144528716802597, 0.15722644329071045, 0.047167930752038956, 0.007861321792006493, 0.11791982501745224, 0.22797833383083344, 0.047167930752038956, 0.3537594974040985, 0.007861321792006493, 0.9188106656074524, 0.9242811799049377, 0.8375372290611267, 0.8608649373054504, 0.04660801216959953, 0.08389441668987274, 0.07457281649112701, 0.05592961236834526, 0.42879369854927063, 0.08389441668987274, 0.19575364887714386, 0.14346826076507568, 0.07173413038253784, 0.7412527203559875, 0.1077919751405716, 0.02449817582964897, 0.04899635165929794, 0.2694799304008484, 0.5438594818115234, 0.06436595320701599, 0.13288454711437225, 0.053984347730875015, 0.03114481456577778, 0.018686888739466667, 0.03322113677859306, 0.07890019565820694, 0.05606066808104515, 0.13703718781471252, 0.11627397686243057, 0.12042661756277084, 0.029068494215607643, 0.06644227355718613, 0.0020763210486620665, 0.05606066808104515, 0.028199346736073494, 0.14703945815563202, 0.596214771270752, 0.15308217704296112, 0.004028478171676397, 0.004028478171676397, 0.010071195662021637, 0.050355978310108185, 0.00604271749034524, 0.07466324418783188, 0.5786401033401489, 0.08399614691734314, 0.05599743127822876, 0.009332905523478985, 0.0466645248234272, 0.0466645248234272, 0.10266195237636566, 0.07337833195924759, 0.036689165979623795, 0.6114861369132996, 0.0794931948184967, 0.09783777594566345, 0.024459443986415863, 0.07337833195924759, 0.057723887264728546, 0.032762207090854645, 0.08736588060855865, 0.19345302879810333, 0.15133018791675568, 0.059283990412950516, 0.10920735448598862, 0.07800525426864624, 0.031202100217342377, 0.0046803150326013565, 0.12792861461639404, 0.018721260130405426, 0.0499233603477478, 0.660139799118042, 0.24005083739757538, 0.9044004678726196, 0.09426584839820862, 0.004713292699307203, 0.06598609685897827, 0.1036924347281456, 0.09897914528846741, 0.032993048429489136, 0.07541268318891525, 0.004713292699307203, 0.08483926951885223, 0.12254560738801956, 0.0518462173640728, 0.2592310905456543, 0.9079258441925049, 0.15462875366210938, 0.7731437683105469, 0.008535079658031464, 0.029872776940464973, 0.004267539829015732, 0.02133769728243351, 0.01280261855572462, 0.12162487953901291, 0.14509634673595428, 0.06401309370994568, 0.01280261855572462, 0.002133769914507866, 0.3200654685497284, 0.038407858461141586, 0.11735733598470688, 0.09815341234207153, 0.9534673690795898, 0.043213337659835815, 0.03818853199481964, 0.004019845277070999, 0.18893273174762726, 0.03215876221656799, 0.016079381108283997, 0.016079381108283997, 0.010049613192677498, 0.19194760918617249, 0.0010049613192677498, 0.314552903175354, 0.045223258435726166, 0.09848620742559433, 0.8567133545875549, 0.0319625623524189, 0.10958592593669891, 0.05935904383659363, 0.004566080402582884, 0.018264321610331535, 0.04109472036361694, 0.4977027475833893, 0.2374361753463745, 0.8833130598068237, 0.15842290222644806, 0.7921144962310791, 0.10815933346748352, 0.757115364074707, 0.10831697285175323, 0.8665357828140259, 0.9447245001792908, 0.12565504014492035, 0.048865847289562225, 0.002326945075765252, 0.4863315522670746, 0.07213529944419861, 0.07911613583564758, 0.04421195760369301, 0.06980835646390915, 0.046538904309272766, 0.023269452154636383, 0.9361467361450195, 0.8585870265960693, 0.8315465450286865, 0.9792459607124329, 0.07975734770298004, 0.011393907479941845, 0.0056969537399709225, 0.02278781495988369, 0.5241197347640991, 0.02278781495988369, 0.1709086149930954, 0.15381774306297302, 0.0890747606754303, 0.2863117456436157, 0.03817489743232727, 0.015906207263469696, 0.5694422125816345, 0.013704527169466019, 0.018272703513503075, 0.644112765789032, 0.004568175878375769, 0.09136351943016052, 0.19186338782310486, 0.018272703513503075, 0.013704527169466019, 0.004568175878375769, 0.020895009860396385, 0.1240219995379448, 0.1246960312128067, 0.7212148904800415, 0.0006740326061844826, 0.005392260849475861, 0.0006740326061844826, 0.0020220978185534477, 0.907648503780365, 0.07225725799798965, 0.7587012052536011, 0.1445145159959793, 0.03612862899899483, 0.09688863903284073, 0.8719977140426636, 0.08586443960666656, 0.02185640297830105, 0.08976736664772034, 0.02419816143810749, 0.09132853895425797, 0.10928201675415039, 0.024978745728731155, 0.026539918035268784, 0.32706546783447266, 0.004683515056967735, 0.028881674632430077, 0.014050545170903206, 0.08430326730012894, 0.013269959017634392, 0.05307983607053757, 0.18237552046775818, 0.049179915338754654, 0.002049163216724992, 0.03381119295954704, 0.3124973773956299, 0.23360459506511688, 0.001024581608362496, 0.1854492723941803, 0.23097331821918488, 0.6299272179603577, 0.12598544359207153, 0.1011071503162384, 0.03370238468050957, 0.07353246957063675, 0.0490216501057148, 0.027574677020311356, 0.06740476936101913, 0.18076732754707336, 0.09497944265604019, 0.042893942445516586, 0.11642641574144363, 0.042893942445516586, 0.16851191222667694, 0.16447468101978302, 0.05980897694826126, 0.6504226326942444, 0.06728509813547134, 0.05233285576105118, 0.07418656349182129, 0.054403480142354965, 0.044511936604976654, 0.0074186562560498714, 0.03956616669893265, 0.01731019839644432, 0.01731019839644432, 0.31158357858657837, 0.14342735707759857, 0.12364427000284195, 0.0816052183508873, 0.044511936604976654, 0.03956616669893265, 0.18144041299819946, 0.7862418293952942, 0.14068864285945892, 0.8441318273544312, 0.03921005502343178, 0.1478411853313446, 0.08291962742805481, 0.11795155704021454, 0.0012855755630880594, 0.39981400966644287, 0.0012855755630880594, 0.04338817670941353, 0.00449951458722353, 0.0739205926656723, 0.014141331426799297, 0.0327821783721447, 0.00899902917444706, 0.021854784339666367, 0.010284604504704475, 0.006668942514806986, 0.5868669748306274, 0.08669625222682953, 0.013337885029613972, 0.026675770059227943, 0.20006828010082245, 0.05335154011845589, 0.026675770059227943, 0.8648070693016052, 0.8099866509437561, 0.12533611059188843, 0.2238144874572754, 0.6445857286453247, 0.8186184167861938, 0.2389780580997467, 0.2315099984407425, 0.515296459197998, 0.9312989711761475, 0.6553751230239868, 0.1872500330209732, 0.3184952437877655, 0.24321454763412476, 0.1621430218219757, 0.055012814700603485, 0.11581645160913467, 0.06659445911645889, 0.01737246662378311, 0.01737246662378311, 0.01056851726025343, 0.2113703489303589, 0.7186591625213623, 0.05284258723258972, 0.058672528713941574, 0.1334799975156784, 0.2254701405763626, 0.25711140036582947, 0.029336264356970787, 0.05070982873439789, 0.00041908948333002627, 0.06076797470450401, 0.001676357933320105, 0.05531981214880943, 0.021164018660783768, 0.030803076922893524, 0.008591334335505962, 0.029126718640327454, 0.037298962473869324, 0.8608891367912292, 0.15242955088615417, 0.6605280637741089, 0.15242955088615417, 0.9188292622566223, 0.8903149962425232, 0.0991467759013176, 0.0180266872048378, 0.1171734631061554, 0.126186802983284, 0.1802668571472168, 0.0090133436024189, 0.2974403202533722, 0.0856267586350441, 0.031546700745821, 0.0360533744096756, 0.06492255628108978, 0.09089158475399017, 0.051938049495220184, 0.16879865527153015, 0.6232565641403198, 0.010747037827968597, 0.005373518913984299, 0.00716469157487154, 0.055526360869407654, 0.00358234578743577, 0.09134981781244278, 0.6591516137123108, 0.05731753259897232, 0.041196975857019424, 0.050152841955423355, 0.01432938314974308, 0.00358234578743577, 0.02326923795044422, 0.040721166878938675, 0.06399040669202805, 0.04653847590088844, 0.15125004947185516, 0.15997600555419922, 0.040721166878938675, 0.03781251236796379, 0.06689906120300293, 0.24723565578460693, 0.11343753337860107, 0.0029086547438055277, 0.028594212606549263, 0.489675909280777, 0.01787138357758522, 0.003574276575818658, 0.31453636288642883, 0.09650547057390213, 0.0500398725271225, 0.9188658595085144, 0.9370951056480408, 0.8382094502449036, 0.12607736885547638, 0.8195029497146606, 0.8770398497581482, 0.03974218666553497, 0.2026851624250412, 0.09935546666383743, 0.14704608917236328, 0.14307187497615814, 0.01589687541127205, 0.003974218852818012, 0.07948437333106995, 0.25037577748298645, 0.01589687541127205, 0.007948437705636024, 0.18713349103927612, 0.006343508139252663, 0.11418314278125763, 0.08880911022424698, 0.06343507766723633, 0.057091571390628815, 0.022202277556061745, 0.3203471601009369, 0.0729503408074379, 0.06660683453083038, 0.06008822098374367, 0.9013233184814453, 0.018783576786518097, 0.07043840736150742, 0.004695894196629524, 0.004695894196629524, 0.43202224373817444, 0.33810436725616455, 0.009391788393259048, 0.004695894196629524, 0.07043840736150742, 0.023479469120502472, 0.028175363317131996, 0.684523344039917, 0.11408722400665283, 0.8640307188034058, 0.17186342179775238, 0.6874536871910095, 0.8651481866836548, 0.06863778829574585, 0.029416194185614586, 0.15688636898994446, 0.49026989936828613, 0.1372755765914917, 0.05883238837122917, 0.049026988446712494, 0.013330965302884579, 0.11997868865728378, 0.07998578995466232, 0.5465695858001709, 0.03999289497733116, 0.09331675618886948, 0.09998223930597305, 0.8379583954811096, 0.017649361863732338, 0.45447108149528503, 0.02426787279546261, 0.02647404372692108, 0.08604063838720322, 0.08383446931838989, 0.07059744745492935, 0.04632957652211189, 0.0661851093173027, 0.1125146821141243, 0.008824680931866169, 0.8934943079948425, 0.8498331904411316, 0.0815015435218811, 0.0815015435218811, 0.7335139513015747, 0.6874123215675354, 0.013748246245086193, 0.24746844172477722, 0.027496492490172386, 0.6870771646499634, 0.048499565571546555, 0.12124891579151154, 0.05658282712101936, 0.01616652123630047, 0.06466608494520187, 0.12290550023317337, 0.8603385090827942, 0.2986331880092621, 0.6719246506690979, 0.06346192210912704, 0.8884668946266174, 0.9423651099205017, 0.6406118869781494, 0.14664609730243683, 0.12349144369363785, 0.07718215137720108, 0.9207407832145691, 0.8475168347358704, 0.07704698294401169, 0.1962488442659378, 0.7849953770637512, 0.9002673625946045, 0.294585257768631, 0.0023014473263174295, 0.10816802084445953, 0.08745499700307846, 0.01611013151705265, 0.47870105504989624, 0.011507236398756504, 0.09373597800731659, 0.8436238169670105, 0.03124532476067543, 0.9550116062164307, 0.025811124593019485, 0.19095826148986816, 0.06030260771512985, 0.05527739226818085, 0.1256304383277893, 0.050252173095941544, 0.005025217309594154, 0.1206052154302597, 0.38191652297973633, 0.8377092480659485, 0.19443157315254211, 0.12667511403560638, 0.017675597220659256, 0.02062153071165085, 0.08837798237800598, 0.08543205261230469, 0.02356746233999729, 0.09132391959428787, 0.25924208760261536, 0.017675597220659256, 0.04713492467999458, 0.03240526095032692, 0.06129499897360802, 0.04516473785042763, 0.10323368012905121, 0.01613026298582554, 0.0935555249452591, 0.12581604719161987, 0.06452105194330215, 0.01613026298582554, 0.34518763422966003, 0.04516473785042763, 0.0032260525040328503, 0.01613026298582554, 0.067747101187706, 0.9331610202789307, 0.8411643505096436, 0.862461268901825, 0.17708304524421692, 0.2812495529651642, 0.010416650213301182, 0.04166660085320473, 0.4791659116744995, 0.9780490398406982, 0.08959587663412094, 0.06622304022312164, 0.5999028086662292, 0.027268309146165848, 0.011686418205499649, 0.042850200086832047, 0.01947736367583275, 0.027268309146165848, 0.11296871304512024, 0.8270295262336731, 0.030630722641944885, 0.12252289056777954, 0.023018430918455124, 0.4718778431415558, 0.023018430918455124, 0.4718778431415558, 0.12848255038261414, 0.6335698366165161, 0.179979607462883, 0.03173051029443741, 0.0005201722960919142, 0.023927925154566765, 0.0005201722960919142, 0.8569093942642212, 0.9017323851585388, 0.036783404648303986, 0.00448578130453825, 0.0035886249970644712, 0.0026914686895906925, 0.01345734391361475, 0.07446397095918655, 0.07446397095918655, 0.027811843901872635, 0.7284908890724182, 0.017045969143509865, 0.01525165606290102, 0.9156182408332825, 0.22056452929973602, 0.08630786091089249, 0.0031965873204171658, 0.015982937067747116, 0.07032492011785507, 0.06712833791971207, 0.23015429079532623, 0.0031965873204171658, 0.1022907942533493, 0.15343619883060455, 0.03835904970765114, 0.012786349281668663, 0.18736256659030914, 0.004258240107446909, 0.02554944157600403, 0.11497248709201813, 0.04258240386843681, 0.021291201934218407, 0.021291201934218407, 0.5791206955909729, 0.021812856197357178, 0.5104207992553711, 0.026175426319241524, 0.03053799830377102, 0.08725142478942871, 0.021812856197357178, 0.1963157057762146, 0.05671342462301254, 0.04798828065395355, 0.007872208021581173, 0.14957195520401, 0.12595532834529877, 0.03148883208632469, 0.21254962682724, 0.47233250737190247, 0.9012023210525513, 0.9103620052337646, 0.07272897660732269, 0.4755356013774872, 0.011189073324203491, 0.13147160410881042, 0.2657404839992523, 0.005594536662101746, 0.033567219972610474, 0.007702664937824011, 0.8318878412246704, 0.16175596415996552, 0.8319647312164307, 0.8737633228302002, 0.0672125592827797, 0.8092414140701294, 0.0771106705069542, 0.007010060828179121, 0.03505030274391174, 0.04907042533159256, 0.30143260955810547, 0.07010060548782349, 0.44163382053375244, 0.007010060828179121, 0.004708529449999332, 0.028251176699995995, 0.014125588349997997, 0.5320638418197632, 0.0776907354593277, 0.007062794174998999, 0.06356514245271683, 0.16244426369667053, 0.1106504425406456, 0.055734455585479736, 0.010133537463843822, 0.0016889229882508516, 0.9153962135314941, 0.015200306661427021, 0.8198518753051758, 0.06199212372303009, 0.0797041580080986, 0.5667850971221924, 0.017712034285068512, 0.026568053290247917, 0.0797041580080986, 0.15055230259895325, 0.008856017142534256, 0.03830274939537048, 0.07837332040071487, 0.030052926391363144, 0.09369441866874695, 0.1261044442653656, 0.06128440052270889, 0.043016932904720306, 0.07248058915138245, 0.09781932830810547, 0.02474946901202202, 0.055391669273376465, 0.06423076242208481, 0.06776640564203262, 0.11549752205610275, 0.030642200261354446, 0.04563087597489357, 0.8327634930610657, 0.005703859496861696, 0.017111578956246376, 0.09696561098098755, 0.2612931430339813, 0.031355176120996475, 0.700265645980835, 0.04925642907619476, 0.8422849774360657, 0.004925643093883991, 0.09851285815238953, 0.9331434369087219, 0.17850343883037567, 0.7735149264335632, 0.0813315212726593, 0.09789905697107315, 0.14609551429748535, 0.25152525305747986, 0.03765348345041275, 0.0662701278924942, 0.04669031873345375, 0.0481964573264122, 0.04066576063632965, 0.036147341132164, 0.02108594961464405, 0.04669031873345375, 0.05873943120241165, 0.0195798110216856, 0.05343708395957947, 0.048983991146087646, 0.048983991146087646, 0.18702979385852814, 0.19148288667201996, 0.044530902057886124, 0.24937304854393005, 0.05789017304778099, 0.11132725328207016, 0.16806980967521667, 0.7563140988349915, 0.7153362035751343, 0.07948180288076401, 0.15896360576152802, 0.022423334419727325, 0.0896933376789093, 0.13454000651836395, 0.13454000651836395, 0.06727000325918198, 0.5157366991043091, 0.8879668116569519, 0.08944756537675858, 0.849751889705658, 0.9689966440200806, 0.007796755060553551, 0.30875149369239807, 0.056136637926101685, 0.03274637088179588, 0.10291717201471329, 0.07173014432191849, 0.0389837771654129, 0.09200171381235123, 0.031187020242214203, 0.017152860760688782, 0.06549274176359177, 0.014034159481525421, 0.09512041509151459, 0.06549274176359177, 0.8305649757385254, 0.12777923047542572, 0.05414332076907158, 0.07023998349905014, 0.30437326431274414, 0.07901997864246368, 0.1287733018398285, 0.057069987058639526, 0.04389999061822891, 0.013169996440410614, 0.033656660467386246, 0.021949995309114456, 0.0029266660567373037, 0.04536332190036774, 0.13169996440410614, 0.011706664226949215, 0.01813618652522564, 0.9249455332756042, 0.03627237305045128, 0.10136618465185165, 0.001097036642022431, 0.2771114408969879, 0.031155841425061226, 0.13712957501411438, 0.0017552586505189538, 0.0519995354115963, 0.023915398865938187, 0.20163533091545105, 0.06648042052984238, 0.0013164440169930458, 0.05726531147956848, 0.023915398865938187, 0.012067402713000774, 0.011847996152937412, 0.9115657210350037, 0.04797714576125145, 0.8473154306411743, 0.8076934218406677, 0.08391620218753815, 0.09440572559833527, 0.13794876635074615, 0.8276925683021545, 0.12156271189451218, 0.030390677973628044, 0.1002892330288887, 0.07597669214010239, 0.10940643399953842, 0.10332830250263214, 0.0030390676110982895, 0.027351608499884605, 0.06382042169570923, 0.1002892330288887, 0.033429745584726334, 0.033429745584726334, 0.19146126508712769, 0.9240646362304688, 0.8833219408988953, 0.8673959374427795, 0.011264882981777191, 0.045059531927108765, 0.07885418087244034, 0.20721609890460968, 0.15195846557617188, 0.013814406469464302, 0.4835042357444763, 0.04144321754574776, 0.09670084714889526, 0.8819527626037598, 0.018431441858410835, 0.05529432371258736, 0.06758195161819458, 0.03071906790137291, 0.8232710361480713, 0.36986541748046875, 0.017781991511583328, 0.36986541748046875, 0.035563983023166656, 0.09246635437011719, 0.09957915544509888, 0.003556398442015052, 0.010669195093214512, 0.8940922617912292, 0.0894092246890068, 0.046781353652477264, 0.7485016584396362, 0.046781353652477264, 0.09356270730495453, 0.7952077984809875, 0.11360111087560654, 0.8146263360977173, 0.10966123640537262, 0.06266356259584427, 0.8879797458648682, 0.8638662695884705, 0.8932746648788452, 0.25124889612197876, 0.01046870369464159, 0.09421832859516144, 0.15703055262565613, 0.42921683192253113, 0.04187481477856636, 0.9117567539215088, 0.07849250733852386, 0.07849250733852386, 0.17268352210521698, 0.04709550365805626, 0.5494475364685059, 0.06279400736093521, 0.2563343048095703, 0.16020894050598145, 0.5447103977203369, 0.016020894050598145, 0.882192075252533, 0.23162983357906342, 0.01816704496741295, 0.35425737500190735, 0.0363340899348259, 0.3088397681713104, 0.04087585210800171, 0.29949823021888733, 0.23398301005363464, 0.43520838022232056, 0.023398300632834435, 0.13787023723125458, 0.15797631442546844, 0.04308445006608963, 0.4279722273349762, 0.04882904514670372, 0.04882904514670372, 0.08329660445451736, 0.03733985871076584, 0.008616889826953411, 0.5345353484153748, 0.04233943670988083, 0.03175457566976547, 0.08997129648923874, 0.14289559423923492, 0.06350915133953094, 0.06880158185958862, 0.026462147012352943, 0.041121527552604675, 0.5208726525306702, 0.20560763776302338, 0.2193148136138916, 0.0016433603595942259, 0.32867205142974854, 0.0016433603595942259, 0.050944168120622635, 0.6096866726875305, 0.004930080845952034, 0.0016433603595942259, 0.15097109973430634, 0.7548554539680481, 0.1352759450674057, 0.0021818699315190315, 0.006545609794557095, 0.01309121958911419, 0.06981983780860901, 0.7374720573425293, 0.0021818699315190315, 0.03272804990410805, 0.8633220791816711, 0.831132173538208, 0.08774147927761078, 0.0043870736844837666, 0.11845099180936813, 0.04387073963880539, 0.030709516257047653, 0.6931576728820801, 0.008774147368967533, 0.013161221519112587, 0.8648138046264648, 0.046093422919511795, 0.31785258650779724, 0.043212585151195526, 0.02784811146557331, 0.0038411186542361975, 0.039371468126773834, 0.046093422919511795, 0.052815381437540054, 0.009602797217667103, 0.01344391517341137, 0.22854655981063843, 0.08258405327796936, 0.028808390721678734, 0.025927551090717316, 0.03457006812095642, 0.8111559152603149, 0.15097281336784363, 0.7850586175918579, 0.030194561928510666, 0.13028623163700104, 0.156343474984169, 0.0781717374920845, 0.5993166565895081, 0.03357105329632759, 0.01611410640180111, 0.13428421318531036, 0.020142633467912674, 0.3115393817424774, 0.07654200494289398, 0.06445642560720444, 0.11145590245723724, 0.23096884787082672, 0.0013428422389551997, 0.837512731552124, 0.08375127613544464, 0.0349881611764431, 0.1399526447057724, 0.5960482954978943, 0.06497801095247269, 0.039986468851566315, 0.022492390125989914, 0.039986468851566315, 0.00624788599088788, 0.056230973452329636, 0.17344549298286438, 0.5803753137588501, 0.24015529453754425, 0.04535384103655815, 0.03401537984609604, 0.19275382161140442, 0.022676920518279076, 0.07936922460794449, 0.6009383797645569, 0.022676920518279076, 0.0770665779709816, 0.8091990351676941, 0.0770665779709816, 0.3287510275840759, 0.6246269345283508, 0.8580414652824402, 0.9719651937484741, 0.11223290115594864, 0.8604522347450256, 0.1369347870349884, 0.22822465002536774, 0.37276691198349, 0.03803744167089462, 0.1521497666835785, 0.0684673935174942, 0.6353116035461426, 0.0021230129059404135, 0.06634414941072464, 0.014330336824059486, 0.18098683655261993, 0.007430545054376125, 0.0031845192424952984, 0.0445832684636116, 0.036091215908527374, 0.010084310546517372, 0.13437844812870026, 0.06450165808200836, 0.09137734770774841, 0.6288911700248718, 0.03762596473097801, 0.03762596473097801, 0.27275601029396057, 0.07793029397726059, 0.4188753068447113, 0.10715415328741074, 0.09741286188364029, 0.009741286747157574, 0.9533504247665405, 0.06660914421081543, 0.49586808681488037, 0.11841626465320587, 0.14802032709121704, 0.07401016354560852, 0.0962132140994072, 0.8410512804985046, 0.7687532305717468, 0.12812553346157074, 0.04917830601334572, 0.08196383714675903, 0.7048889994621277, 0.04917830601334572, 0.08196383714675903, 0.016392767429351807, 0.03166637569665909, 0.08444367349147797, 0.05277729406952858, 0.03166637569665909, 0.5172175168991089, 0.242775559425354, 0.03166637569665909, 0.10592975467443466, 0.026482438668608665, 0.10592975467443466, 0.13241219520568848, 0.609096109867096, 0.0355413556098938, 0.1777067929506302, 0.1303183138370514, 0.1303183138370514, 0.0355413556098938, 0.0355413556098938, 0.0592355951666832, 0.3909549415111542, 0.8477534055709839, 0.10387791693210602, 0.012984739616513252, 0.4155116677284241, 0.10387791693210602, 0.34193146228790283, 0.025969479233026505, 0.6410790085792542, 0.01687050051987171, 0.337410032749176, 0.17529454827308655, 0.7152017951011658, 0.02804712764918804, 0.07011782377958298, 0.00701178191229701, 0.062340643256902695, 0.5807523131370544, 0.35107624530792236, 0.1481204479932785, 0.016013020649552345, 0.5444427132606506, 0.024019531905651093, 0.07606185227632523, 0.03202604129910469, 0.02802278660237789, 0.10008138418197632, 0.024019531905651093, 0.9691205024719238, 0.11319369822740555, 0.15895284712314606, 0.13848164677619934, 0.10958113521337509, 0.06984291970729828, 0.01685863547027111, 0.027696330100297928, 0.015654446557164192, 0.020471200346946716, 0.0048167528584599495, 0.015654446557164192, 0.2131413221359253, 0.09633506089448929, 0.1285691112279892, 0.7232012152671814, 0.0401778444647789, 0.0241067074239254, 0.0803556889295578, 0.8348162174224854, 0.13420362770557404, 0.04993623122572899, 0.06866232305765152, 0.10923551023006439, 0.20286594331264496, 0.25592318177223206, 0.006242028903216124, 0.09363043308258057, 0.07178333401679993, 0.03393089398741722, 0.1696544587612152, 0.16117173433303833, 0.40717071294784546, 0.05089633911848068, 0.11875811964273453, 0.0424136146903038, 0.04452923685312271, 0.8396942019462585, 0.05407121777534485, 0.006361319683492184, 0.028625937178730965, 0.019083958119153976, 0.14026273787021637, 0.07013136893510818, 0.07013136893510818, 0.6662479639053345, 0.04159422963857651, 0.1389247179031372, 0.0948348417878151, 0.5931336879730225, 0.08734788000583649, 0.0008318845648318529, 0.03826669231057167, 0.0024956536944955587, 0.0016637691296637058, 0.9875497817993164, 0.8643333911895752, 0.030646439641714096, 0.9500396251678467, 0.8599357008934021, 0.822165846824646, 0.0736267939209938, 0.0368133969604969, 0.04908452928066254, 0.9079336524009705, 0.017460262402892113, 0.05238078907132149, 0.12939660251140594, 0.8680355548858643, 0.8865364193916321, 0.7280391454696655, 0.118060402572155, 0.13773714005947113, 0.8088932633399963, 0.8832228183746338, 0.8832130432128906, 0.9013588428497314, 0.049076106399297714, 0.09114133566617966, 0.014021744020283222, 0.7711959481239319, 0.07010871917009354, 0.05100996792316437, 0.18703654408454895, 0.6121196150779724, 0.05100996792316437, 0.08501661568880081, 0.043927647173404694, 0.09123434126377106, 0.097992442548275, 0.14529913663864136, 0.3243887722492218, 0.05744384601712227, 0.13854104280471802, 0.010137149132788181, 0.047306694090366364, 0.03716954588890076, 0.0033790497109293938, 0.0035088565200567245, 0.20902758836746216, 0.0370936244726181, 0.13484033942222595, 0.44061213731765747, 0.012030364945530891, 0.007017713040113449, 0.0015037956181913614, 0.06566574424505234, 0.009022774174809456, 0.00952403899282217, 0.0005012652254663408, 0.008521508425474167, 0.060653090476989746, 0.8635910749435425, 0.1075006052851677, 0.011315853334963322, 0.15276400744915009, 0.41302862763404846, 0.1301323026418686, 0.03394755721092224, 0.056579265743494034, 0.022631706669926643, 0.06789511442184448, 0.01569167710840702, 0.07845838367938995, 0.07845838367938995, 0.07845838367938995, 0.1098417416214943, 0.6276670694351196, 0.06660035997629166, 0.732603907585144, 0.183150976896286, 0.0015752906911075115, 0.014177616685628891, 0.1843090057373047, 0.12838619947433472, 0.022841714322566986, 0.19691133499145508, 0.0007876453455537558, 0.026779942214488983, 0.003150581382215023, 0.23629359900951385, 0.02914287894964218, 0.01811584271490574, 0.011027035303413868, 0.09451743960380554, 0.03229346126317978, 0.10034719109535217, 0.7726733684539795, 0.12041663378477097, 0.7883499264717102, 0.15766997635364532, 0.8940122723579407, 0.7296494841575623, 0.1110336184501648, 0.03172389045357704, 0.1110336184501648, 0.609610915184021, 0.12417999655008316, 0.045156363397836685, 0.045156363397836685, 0.045156363397836685, 0.12417999655008316, 0.8539517521858215, 0.9277498722076416, 0.08639223128557205, 0.04637230187654495, 0.03176185116171837, 0.0006352370255626738, 0.06987607479095459, 0.012704740278422832, 0.06987607479095459, 0.020327584818005562, 0.090203657746315, 0.49230867624282837, 0.029856139793992043, 0.003176185069605708, 0.014610451646149158, 0.031126612797379494, 0.8763426542282104, 0.9240289330482483, 0.014351684600114822, 0.9759145975112915, 0.96933513879776, 0.1467573344707489, 0.23236578702926636, 0.37038758397102356, 0.14850445091724396, 0.027953779324889183, 0.012229778803884983, 0.001747111207805574, 0.06114889308810234, 0.36661937832832336, 0.03437056764960289, 0.5613859295845032, 0.02291371114552021, 0.011456855572760105, 0.19579511880874634, 0.1331406831741333, 0.09398165345191956, 0.1331406831741333, 0.06265443563461304, 0.03915902227163315, 0.32893580198287964, 0.00783180445432663, 0.7757142186164856, 0.1939285546541214, 0.09374143928289413, 0.04687071964144707, 0.8436729311943054, 0.9684329628944397, 0.9187633991241455, 0.058722835034132004, 0.002446784870699048, 0.03058481030166149, 0.17983868718147278, 0.002446784870699048, 0.031196506693959236, 0.003058481030166149, 0.02018597535789013, 0.0018350885948166251, 0.1351848542690277, 0.18595564365386963, 0.002446784870699048, 0.3138001561164856, 0.031196506693959236, 0.7606915235519409, 0.12678192555904388, 0.9272031784057617, 0.0021227614488452673, 0.0021227614488452673, 0.52007657289505, 0.18680301308631897, 0.0021227614488452673, 0.28657281398773193, 0.20246265828609467, 0.005784647539258003, 0.20246265828609467, 0.05784647539258003, 0.0028923237696290016, 0.09544668346643448, 0.35286349058151245, 0.02603091299533844, 0.05206182599067688, 0.22770126163959503, 0.748161256313324, 0.15581940114498138, 0.07332677394151688, 0.07332677394151688, 0.00916584674268961, 0.01833169348537922, 0.10082431882619858, 0.09165847301483154, 0.4032972753047943, 0.06416092813014984, 0.36839723587036133, 0.09209930896759033, 0.5341759920120239, 0.05000389367341995, 0.13001012802124023, 0.7800607681274414, 0.03000233694911003, 0.8317450284957886, 0.8116730451583862, 0.09106234461069107, 0.8802693486213684, 0.9076887369155884, 0.854253888130188, 0.8668984174728394, 0.07538247108459473, 0.04195034131407738, 0.07896534353494644, 0.17273668944835663, 0.23566220700740814, 0.008636835031211376, 0.027144337072968483, 0.01974133588373661, 0.2381298691034317, 0.011104501783847809, 0.01850750297307968, 0.013572168536484241, 0.07032851129770279, 0.06169167533516884, 0.8627851605415344, 0.9362244606018066, 0.9217521548271179, 0.8347970843315125, 0.8883082866668701, 0.9076114892959595, 0.7520632147789001, 0.1504126340150833, 0.19124798476696014, 0.03585899621248245, 0.014941249042749405, 0.5677674412727356, 0.07769449800252914, 0.08068274706602097, 0.0059764995239675045, 0.014941249042749405, 0.011952999047935009, 0.1254640817642212, 0.8155165314674377, 0.03955858200788498, 0.23735149204730988, 0.09889645129442215, 0.6131579875946045, 0.07486280798912048, 0.8234908580780029, 0.1338350772857666, 0.7099078297615051, 0.005818916484713554, 0.029094582423567772, 0.011637832969427109, 0.017456749454140663, 0.005818916484713554, 0.08146482706069946, 0.0770132765173912, 0.8471460938453674, 0.8896231651306152, 0.1942741721868515, 0.777096688747406, 0.24812960624694824, 0.7030338644981384, 0.017429020255804062, 0.029048368334770203, 0.11038380116224289, 0.034858040511608124, 0.08714510500431061, 0.07552576065063477, 0.13362249732017517, 0.11619347333908081, 0.052287060767412186, 0.29629334807395935, 0.04066771641373634, 0.8817626237869263, 0.8745032548904419, 0.028750190511345863, 0.03833358734846115, 0.1852789968252182, 0.04791698232293129, 0.16291774809360504, 0.1852789968252182, 0.04791698232293129, 0.012777862139046192, 0.11819522082805634, 0.0926394984126091, 0.03833358734846115, 0.05111144855618477, 0.7444577813148499, 0.1717979460954666, 0.019088659435510635, 0.03817731887102127, 0.14670461416244507, 0.7335230708122253, 0.153969869017601, 0.5850855112075806, 0.051323287189006805, 0.030793972313404083, 0.153969869017601, 0.020529314875602722, 0.890553891658783, 0.9055401682853699, 0.058421943336725235, 0.8201380968093872, 0.886555552482605, 0.8509371876716614, 0.0654408186674118, 0.42729005217552185, 0.034645140171051025, 0.18862353265285492, 0.2540643513202667, 0.02694621868431568, 0.0038494598120450974, 0.850847601890564, 0.19841784238815308, 0.02976267598569393, 0.10912981629371643, 0.06944624334573746, 0.5952535271644592, 0.7091166973114014, 0.07879074662923813, 0.07879074662923813, 0.022235939279198647, 0.9561454057693481, 0.12285955250263214, 0.08354450017213821, 0.2752054035663605, 0.10811641067266464, 0.1277739405632019, 0.04422944039106369, 0.014743146486580372, 0.029486292973160744, 0.06880135089159012, 0.13268831372261047, 0.8380158543586731, 0.45831382274627686, 0.031827349215745926, 0.019096409901976585, 0.37556272745132446, 0.11457845568656921, 0.00814380869269371, 0.09476432204246521, 0.0007403462659567595, 0.5330492854118347, 0.001480692531913519, 0.0022210387978702784, 0.1103115901350975, 0.006663116160780191, 0.09920639544725418, 0.035536620765924454, 0.09550466388463974, 0.006663116160780191, 0.005922770127654076, 0.8388605713844299, 0.083886057138443, 0.071902334690094, 0.9005905389785767, 0.10350460559129715, 0.051752302795648575, 0.22771012783050537, 0.10350460559129715, 0.13455598056316376, 0.3622661232948303, 0.8930757641792297, 0.020447969436645508, 0.030671952292323112, 0.0664559006690979, 0.020447969436645508, 0.12779980897903442, 0.030671952292323112, 0.37317541241645813, 0.12779980897903442, 0.08179187774658203, 0.05111991986632347, 0.0664559006690979, 0.005111992359161377, 0.9215314984321594, 0.858478844165802, 0.006173104513436556, 0.07407725602388382, 0.40125179290771484, 0.07407725602388382, 0.07407725602388382, 0.36421316862106323, 0.006173104513436556, 0.09299420565366745, 0.10101094841957092, 0.29180940985679626, 0.35754668712615967, 0.05772054195404053, 0.012826787307858467, 0.009620090015232563, 0.0064133936539292336, 0.06894398480653763, 0.8932792544364929, 0.15987999737262726, 0.03552888706326485, 0.062175553292036057, 0.5506977438926697, 0.044411107897758484, 0.1421155482530594, 0.9439035058021545, 0.9354599714279175, 0.03597922995686531, 0.8410045504570007, 0.8574252128601074, 0.8896358609199524, 0.027850551530718803, 0.20423737168312073, 0.004641758743673563, 0.6266373991966248, 0.027850551530718803, 0.013925275765359402, 0.08355165272951126, 0.009283517487347126, 0.7739282250404358, 0.12898804247379303, 0.03220844641327858, 0.06441689282655716, 0.12883378565311432, 0.6226966381072998, 0.1395699381828308, 0.0051130689680576324, 0.639133632183075, 0.03323495015501976, 0.011504405178129673, 0.0012782672420144081, 0.04218281805515289, 0.2275315672159195, 0.025565344840288162, 0.01406093966215849, 0.8739724159240723, 0.062426600605249405, 0.9109855890274048, 0.06282658874988556, 0.13223789632320404, 0.8375067114830017, 0.9642945528030396, 0.8873655796051025, 0.012050923891365528, 0.18879780173301697, 0.024101847782731056, 0.6587838530540466, 0.024101847782731056, 0.004016974475234747, 0.008033948950469494, 0.08033949136734009, 0.905788004398346, 0.034570854157209396, 0.025351960211992264, 0.19820623099803925, 0.002304723486304283, 0.02304723672568798, 0.11523617804050446, 0.006914170924574137, 0.013828341849148273, 0.504734456539154, 0.05070392042398453, 0.004609446972608566, 0.018437787890434265, 0.9897870421409607, 0.017851972952485085, 0.14281578361988068, 0.03570394590497017, 0.7854867577552795, 0.9321838021278381, 0.2300042361021042, 0.0013529660645872355, 0.46542033553123474, 0.13529661297798157, 0.052765678614377975, 0.05547161027789116, 0.006764830555766821, 0.006764830555766821, 0.03382415324449539, 0.01217669527977705, 0.12516605854034424, 0.8344404101371765, 0.8596219420433044, 0.2291514128446579, 0.6874542236328125, 0.03341300040483475, 0.20047800242900848, 0.0023866428527981043, 0.011933214031159878, 0.7494058609008789, 0.008604266680777073, 0.005736177321523428, 0.037285152822732925, 0.9321288466453552, 0.014340443536639214, 0.03576130047440529, 0.9476743936538696, 0.9109187722206116, 0.23481270670890808, 0.6048206090927124, 0.0355776846408844, 0.02134661003947258, 0.06403983384370804, 0.02846214734017849, 0.840939462184906, 0.8708333969116211, 0.08650797605514526, 0.201851949095726, 0.6920638084411621, 0.2758920192718506, 0.007456541061401367, 0.0671088695526123, 0.0671088695526123, 0.014913082122802734, 0.3802835941314697, 0.10439157485961914, 0.0671088695526123, 0.22366832196712494, 0.760472297668457, 0.01569182798266411, 0.6276731491088867, 0.29814472794532776, 0.047075483947992325, 0.7234584093093872, 0.2583779990673065, 0.002052313880994916, 0.1867605596780777, 0.04515090584754944, 0.12724345922470093, 0.07183098793029785, 0.004104627761989832, 0.11903420090675354, 0.3037424385547638, 0.002052313880994916, 0.1169818863272667, 0.016418511047959328, 0.8794480562210083, 0.66930091381073, 0.3264882564544678, 0.7420333623886108, 0.07066984474658966, 0.17667460441589355, 0.8089223504066467, 0.8377607464790344, 0.35354137420654297, 0.0707082748413086, 0.5656661987304688, 0.8917919993400574, 0.8970271944999695, 0.1284782737493515, 0.6423913240432739, 0.1284782737493515, 0.02569565363228321, 0.05139130726456642, 0.9783605337142944, 0.013132356107234955, 0.9233046770095825, 0.06295259296894073, 0.09626851230859756, 0.19253702461719513, 0.08022376149892807, 0.04813425615429878, 0.09626851230859756, 0.46529778838157654, 0.22827300429344177, 0.10917405039072037, 0.1488737016916275, 0.5160955190658569, 0.14046362042427063, 0.2265697419643402, 0.14415159821510315, 0.13517218828201294, 0.039926301687955856, 0.11112019419670105, 0.043293580412864685, 0.00048103980952873826, 0.010582875460386276, 0.04120907559990883, 0.0426521971821785, 0.007536290213465691, 0.04826432466506958, 0.005932824220508337, 0.0030465854797512293, 0.8798282146453857, 0.08770079165697098, 0.007738305255770683, 0.04385039582848549, 0.07738304883241653, 0.036112088710069656, 0.04900926724076271, 0.14702779054641724, 0.03869152441620827, 0.07996248453855515, 0.02579434961080551, 0.24504633247852325, 0.06706531345844269, 0.0464298315346241, 0.04900926724076271, 0.8564280867576599, 0.8407831788063049, 0.9974479079246521, 0.8132217526435852, 0.10493183881044388, 0.07869888097047806, 0.7830162644386292, 0.09787703305482864, 0.00970455165952444, 0.07763641327619553, 0.00970455165952444, 0.8345913887023926, 0.058227308094501495, 0.0335838720202446, 0.1007516160607338, 0.0671677440404892, 0.604509711265564, 0.1679193526506424, 0.9661134481430054, 0.11371374130249023, 0.7959961891174316, 0.8505043983459473, 0.11842115223407745, 0.26052653789520264, 0.6157900094985962, 0.8330065608024597, 0.11106754094362259, 0.06615342944860458, 0.13388194143772125, 0.09135474264621735, 0.009450490586459637, 0.13703210651874542, 0.015750817954540253, 0.05985310673713684, 0.10238031297922134, 0.051977697759866714, 0.025201307609677315, 0.18743471801280975, 0.004725245293229818, 0.058278024196624756, 0.02047606185078621, 0.03622687980532646, 0.03553507477045059, 0.06396313011646271, 0.07580816000699997, 0.06159412860870361, 0.011845024302601814, 0.011845024302601814, 0.10897422581911087, 0.07107014954090118, 0.21557945013046265, 0.08291517198085785, 0.07107014954090118, 0.0071070147678256035, 0.10186721384525299, 0.05211810767650604, 0.028428059071302414, 0.9093472957611084, 0.8333126306533813, 0.8508604764938354, 0.14285580813884735, 0.023518944159150124, 0.061846110969781876, 0.0287453755736351, 0.30226197838783264, 0.042682528495788574, 0.034842878580093384, 0.0670725405216217, 0.050522174686193466, 0.02264787256717682, 0.0653304010629654, 0.03048751875758171, 0.03919823840260506, 0.06794361770153046, 0.01916358433663845, 0.8415461778640747, 0.9011990427970886, 0.09306079894304276, 0.5583648085594177, 0.08375471830368042, 0.03722431883215904, 0.22334590554237366, 0.07069526612758636, 0.6968533396720886, 0.010099323466420174, 0.03029797039926052, 0.18178781867027283, 0.010099323466420174, 0.811699628829956, 0.8822291493415833, 0.6030974984169006, 0.3573910892009735, 0.022336943075060844, 0.09824983030557632, 0.7859986424446106, 0.8502641320228577, 0.10725077241659164, 0.0036983026657253504, 0.0850609615445137, 0.059172842651605606, 0.0036983026657253504, 0.19970834255218506, 0.007396605331450701, 0.014793210662901402, 0.1701219230890274, 0.15163040161132812, 0.1960100382566452, 0.06579596549272537, 0.526367723941803, 0.007310662884265184, 0.007310662884265184, 0.04386397823691368, 0.007310662884265184, 0.34360116720199585, 0.007310662884265184, 0.06222977116703987, 0.12445954233407974, 0.808987021446228, 0.03143000975251198, 0.010476670227944851, 0.03492223471403122, 0.03143000975251198, 0.11175114661455154, 0.35271456837654114, 0.0069844466634094715, 0.06984446942806244, 0.12222781777381897, 0.18508784472942352, 0.03841445595026016, 0.601102888584137, 0.2433035522699356, 0.028623946011066437, 0.014311973005533218, 0.007155986502766609, 0.10018381476402283, 0.8746846318244934, 0.8112460374832153, 0.9218644499778748, 0.879491925239563, 0.037120405584573746, 0.8166489005088806, 0.14848162233829498, 0.09855955094099045, 0.07884763926267624, 0.7490525841712952, 0.05913573130965233, 0.8714050054550171, 0.7536751627922058, 0.13703185319900513, 0.8589326739311218, 0.057531826198101044, 0.043994925916194916, 0.5313233733177185, 0.1590585857629776, 0.19966928660869598, 0.003384225070476532, 0.8376304507255554, 0.8375223875045776, 0.18129171431064606, 0.03625834360718727, 0.10877503454685211, 0.1269042044878006, 0.5257459878921509, 0.0328892357647419, 0.1112254187464714, 0.1339488923549652, 0.11092641949653625, 0.05650968849658966, 0.0005979861016385257, 0.3552037477493286, 0.0328892357647419, 0.0026909373700618744, 0.011959722265601158, 0.02332145720720291, 0.05112781003117561, 0.044848956167697906, 0.03109527751803398, 0.00029899305081926286, 0.08858968317508698, 0.005905978847295046, 0.029529893770813942, 0.06201277673244476, 0.16241441667079926, 0.649657666683197, 0.9662937521934509, 0.05965030938386917, 0.35088416934013367, 0.0035088418517261744, 0.47720247507095337, 0.05263262614607811, 0.017544209957122803, 0.031579576432704926, 0.8379656672477722, 0.8407471776008606, 0.04879765212535858, 0.0032531768083572388, 0.02277223765850067, 0.035784944891929626, 0.03253176808357239, 0.4717106223106384, 0.0065063536167144775, 0.0032531768083572388, 0.0032531768083572388, 0.32206448912620544, 0.042291298508644104, 0.8712785840034485, 0.9683363437652588, 0.0245802104473114, 0.4027372896671295, 0.12479183822870255, 0.022689424455165863, 0.3327782452106476, 0.015126283280551434, 0.03781570866703987, 0.0018907854100689292, 0.030252566561102867, 0.005672356113791466, 0.0018907854100689292, 0.2245635986328125, 0.13473816215991974, 0.43116211891174316, 0.008982543833553791, 0.12575562298297882, 0.06287781149148941, 0.8059547543525696, 0.9862068891525269, 0.8632465600967407, 0.14042335748672485, 0.04012095928192139, 0.8024192452430725, 0.1370820254087448, 0.6658269762992859, 0.19583146274089813, 0.90351802110672, 0.8409367799758911, 0.03204845264554024, 0.00801211316138506, 0.04006056487560272, 0.07210901379585266, 0.12819381058216095, 0.11216958612203598, 0.40861776471138, 0.05608479306101799, 0.08813324570655823, 0.05608479306101799, 0.11238809674978256, 0.8429107069969177, 0.8111820816993713, 0.04417702928185463, 0.2454279363155365, 0.0490855872631073, 0.005890270229429007, 0.03632333502173424, 0.030433064326643944, 0.08148207515478134, 0.08540891855955124, 0.06381126493215561, 0.0029451351147145033, 0.03926846757531166, 0.040250182151794434, 0.10798829048871994, 0.14431162178516388, 0.02159765735268593, 0.8683728575706482, 0.05553547292947769, 0.025243397802114487, 0.01009735930711031, 0.030292076990008354, 0.9529546499252319, 0.0014258997980505228, 0.3536231517791748, 0.0014258997980505228, 0.0028517995961010456, 0.628821849822998, 0.007129499223083258, 0.0014258997980505228, 0.0028517995961010456, 0.8866671323776245, 0.07926313579082489, 0.10474057495594025, 0.0651090070605278, 0.008492479100823402, 0.016984958201646805, 0.09907891601324081, 0.16984957456588745, 0.04246239364147186, 0.01132330484688282, 0.02264660969376564, 0.1273871809244156, 0.028308263048529625, 0.1924961805343628, 0.028308263048529625, 0.00566165242344141, 0.0870753601193428, 0.0870753601193428, 0.8054470419883728, 0.8296847343444824, 0.0189425740391016, 0.14396356046199799, 0.008081494830548763, 0.12122242152690887, 0.016162989661097527, 0.04848896712064743, 0.024244483560323715, 0.1454669088125229, 0.05657046288251877, 0.5414601564407349, 0.04040747508406639, 0.9910734295845032, 0.00168496067635715, 0.04043905809521675, 0.23083961009979248, 0.06402850896120071, 0.023589449003338814, 0.07245331257581711, 0.12974196672439575, 0.08256307244300842, 0.038754094392061234, 0.06402850896120071, 0.12131717056035995, 0.07413826882839203, 0.05560370162129402, 0.9133226275444031, 0.0025751201901584864, 0.8909915685653687, 0.010300480760633945, 0.061802882701158524, 0.012875600717961788, 0.015450720675289631, 0.005093282554298639, 0.005093282554298639, 0.040746260434389114, 0.03055969439446926, 0.320876806974411, 0.005093282554298639, 0.20882458984851837, 0.38708946108818054, 0.19086869060993195, 0.09543434530496597, 0.07157576084136963, 0.6203232407569885, 0.9527204632759094, 0.10891054570674896, 0.7623738050460815, 0.9299216866493225, 0.04536203294992447, 0.8500052690505981, 0.943120002746582, 0.0597241073846817, 0.12432365119457245, 0.10482190549373627, 0.11518220603466034, 0.0030471484642475843, 0.10969734191894531, 0.02925262413918972, 0.09385216981172562, 0.023767758160829544, 0.04205064848065376, 0.044488366693258286, 0.013407452963292599, 0.08653901517391205, 0.10238418728113174, 0.04753551632165909, 0.05466976761817932, 0.058574751019477844, 0.046859800815582275, 0.06247973442077637, 0.4764079749584198, 0.031239867210388184, 0.21477408707141876, 0.046859800815582275, 0.003904983401298523, 0.8671058416366577, 0.8891779184341431, 0.7801908850669861, 0.15603817999362946, 0.09194431453943253, 0.7815266847610474, 0.04597215726971626, 0.8469608426094055, 0.931664228439331, 0.8931751847267151, 0.7632160186767578, 0.06004321947693825, 0.005337174981832504, 0.1414351463317871, 0.015344378538429737, 0.004002881236374378, 0.010007203556597233, 0.000667146872729063, 0.8767303824424744, 0.2814241349697113, 0.45506882667541504, 0.023950990289449692, 0.12574270367622375, 0.023950990289449692, 0.08981621265411377, 0.8534061908721924, 0.11713418364524841, 0.02788909152150154, 0.17930078506469727, 0.7769700884819031, 0.05976692959666252, 0.9665432572364807, 0.9079258441925049], \"Term\": [\"$\", \"$\", \"$\", \"$\", \"$\", \"$\", \"$\", \"$\", \"$\", \"$\", \"1\", \"1\", \"1\", \"1\", \"1\", \"1\", \"1\", \"1\", \"1\", \"1/2\", \"1/2\", \"1/2\", \"100\", \"100\", \"100\", \"100\", \"100\", \"100\", \"13\", \"16\", \"16\", \"16\", \"16\", \"16\", \"2\", \"2\", \"2\", \"2\", \"2\", \"2\", \"2\", \"2\", \"20\", \"20\", \"20\", \"2016\", \"2016\", \"2017\", \"2017\", \"25\", \"3\", \"3\", \"3\", \"3\", \"3\", \"3\", \"3\", \"3\", \"3\", \"3.0\", \"3.0\", \"35\", \"4\", \"4\", \"4\", \"4\", \"4\", \"4\", \"4\", \"4\", \"4\", \"4\", \"4\", \"49.99\", \"5\", \"5\", \"5\", \"5\", \"5\", \"5\", \"5\", \"5\", \"5\", \"5\", \"50\", \"50\", \"50\", \"50\", \"50\", \"59\", \"59\", \"59.99\", \"5th\", \"6\", \"6\", \"6\", \"6\", \"6\", \"6\", \"60\", \"60\", \"6th\", \"6yr\", \"7\", \"7\", \"7\", \"7\", \"7\", \"7\", \"7\", \"7\", \"7\", \"720p\", \"720p\", \"75\", \"7th\", \"7yr\", \"8\", \"8\", \"8\", \"8\", \"8\", \"8\", \"8\", \"8\", \"8\", \"8\", \"8\", \"8.9\", \"8th\", \"9\", \"9\", \"9\", \"9\", \"9\", \"AMAZON\", \"AMAZON\", \"Alexa\", \"Alexa\", \"Amazon\", \"Amazon\", \"Amazon\", \"Amazon\", \"Amazon\", \"Amazon\", \"Amazon\", \"Amazon\", \"Amazon\", \"Amazon\", \"Amazon\", \"Amazon\", \"Amazon\", \"Amazon\", \"AmazonBasics\", \"AmazonBasics\", \"Android\", \"Android\", \"Android\", \"Android\", \"Android\", \"Android\", \"App\", \"App\", \"App\", \"B&N\", \"Best\", \"Best\", \"Black\", \"Black\", \"Bluetooth\", \"Books\", \"Buy\", \"Buy\", \"Buy\", \"CHRISTMAS\", \"Christmas\", \"Christmas\", \"Christmas\", \"Christmas\", \"Christmas\", \"Christmas\", \"Chromecast\", \"Cloud\", \"Day\", \"Day\", \"Dot\", \"Drive\", \"Echo\", \"Edition\", \"FIre\", \"Father\", \"February\", \"Fire\", \"Fire\", \"Fire\", \"Fire\", \"Fire\", \"Fire\", \"Fire\", \"Fire\", \"Fire\", \"Fire\", \"Fire\", \"Florida\", \"FreeTime\", \"FreeTime\", \"Freetime\", \"Friday\", \"Friday\", \"GB\", \"GB\", \"GB\", \"GB\", \"Gb\", \"Goodreads\", \"Google\", \"Google\", \"Google\", \"Google\", \"Google\", \"Google\", \"Google\", \"Google\", \"Google\", \"Granddaughter\", \"HD\", \"HD\", \"HD7\", \"HD8\", \"HD8\", \"HD8\", \"HD8\", \"Hd8\", \"Hulu\", \"Hulu\", \"Instagram\", \"Kids\", \"Kids\", \"Kids\", \"Kindle\", \"Kindle\", \"Kindle\", \"Kindle\", \"Kindle\", \"Kindle\", \"Kindle\", \"Kindle\", \"Kindle\", \"Kindle\", \"Kindle\", \"Kindle\", \"LTE\", \"Luv\", \"Manga\", \"March\", \"Members\", \"Mother\", \"Nabi\", \"Netflix\", \"Netflix\", \"Netflix\", \"Netflix\", \"Nexus\", \"Nexus\", \"Nook\", \"Nook\", \"Nook\", \"Nook\", \"Nook\", \"Oasis\", \"Oasis\", \"Oasis\", \"Pandora\", \"Paperwhite\", \"Paperwhite\", \"Paperwhite\", \"Paperwhite\", \"Perfect\", \"Play\", \"Play\", \"Play\", \"Play\", \"Play\", \"Plus\", \"Present\", \"Prime\", \"Prime\", \"Prime\", \"Prime\", \"Prime\", \"Prime\", \"Prime\", \"Prime\", \"Prime\", \"SD\", \"SD\", \"SD\", \"SD\", \"SD\", \"Silk\", \"Son\", \"Son\", \"Spotify\", \"Squad\", \"Squad\", \"Squad\", \"Store\", \"Store\", \"Store\", \"Store\", \"Tablet\", \"Tablet\", \"Tablet\", \"Tablet\", \"Tablet\", \"Tablet\", \"Tablet\", \"Tap\", \"Underground\", \"User\", \"User\", \"Voyage\", \"Voyage\", \"Voyage\", \"Voyage\", \"Voyage\", \"Voyager\", \"Webroot\", \"White\", \"White\", \"WiFi\", \"WiFi\", \"Xmas\", \"York\", \"abc\", \"able\", \"able\", \"able\", \"able\", \"able\", \"able\", \"able\", \"able\", \"able\", \"able\", \"able\", \"able\", \"able\", \"absolutely\", \"absolutely\", \"absolutely\", \"absolutely\", \"absolutely\", \"absolutely\", \"access\", \"access\", \"access\", \"access\", \"access\", \"access\", \"access\", \"access\", \"access\", \"access\", \"access\", \"accessory\", \"accident\", \"accident\", \"accidental\", \"activation\", \"active\", \"ad\", \"ad\", \"ad\", \"ad\", \"ad\", \"ad\", \"adapter\", \"adapter\", \"adaptive\", \"add\", \"add\", \"add\", \"add\", \"add\", \"add\", \"add\", \"add\", \"add\", \"add\", \"add\", \"add\", \"add\", \"address\", \"adjust\", \"adjust\", \"adjust\", \"adult\", \"adult\", \"adult\", \"adult\", \"adult\", \"advertise\", \"advertise\", \"advertise\", \"afraid\", \"afraid\", \"age\", \"age\", \"age\", \"age\", \"age\", \"airline\", \"alarm\", \"alleviate\", \"allow\", \"allow\", \"allow\", \"allow\", \"allow\", \"allow\", \"allow\", \"allow\", \"allow\", \"allow\", \"alphabet\", \"alright\", \"alright\", \"amazing\", \"amazing\", \"amazing\", \"amazing\", \"amazing\", \"amazing\", \"amazing\", \"amazing\", \"amazing\", \"amazing\", \"amazon\", \"amazon\", \"amazon\", \"amazon\", \"amazon\", \"amazon\", \"amazon\", \"amazon\", \"amazon\", \"amazon\", \"amazon\", \"amazon\", \"ample\", \"answer\", \"answer\", \"answer\", \"app\", \"app\", \"app\", \"app\", \"app\", \"app\", \"app\", \"app\", \"app\", \"app\", \"app\", \"app\", \"app\", \"app\", \"apple\", \"apple\", \"apple\", \"appropriate\", \"appropriate\", \"appstore\", \"ask\", \"ask\", \"ask\", \"ask\", \"ask\", \"ask\", \"asleep\", \"assist\", \"assistance\", \"assistance\", \"assistant\", \"atleast\", \"attention\", \"attention\", \"audible\", \"audible\", \"audible\", \"audible\", \"audible\", \"audible\", \"autistic\", \"auto\", \"available\", \"available\", \"available\", \"available\", \"available\", \"available\", \"available\", \"available\", \"available\", \"available\", \"available\", \"available\", \"avid\", \"avid\", \"avid\", \"away\", \"away\", \"away\", \"away\", \"away\", \"away\", \"away\", \"away\", \"away\", \"b\", \"b\", \"backlight\", \"backlight\", \"backlighting\", \"backlit\", \"backpack\", \"bad\", \"bad\", \"bad\", \"bad\", \"bad\", \"bad\", \"bad\", \"bag\", \"bag\", \"bang\", \"bang\", \"bar\", \"basic\", \"basic\", \"basic\", \"bass\", \"battery\", \"battery\", \"battery\", \"battery\", \"battery\", \"battery\", \"battery\", \"battery\", \"battery\", \"battery\", \"battery\", \"beat\", \"beat\", \"beat\", \"beat\", \"beat\", \"beat\", \"beat\", \"beginner\", \"beginner\", \"beginning\", \"bell\", \"best\", \"best\", \"best\", \"best\", \"best\", \"best\", \"best\", \"big\", \"big\", \"big\", \"big\", \"big\", \"big\", \"big\", \"big\", \"big\", \"big\", \"big\", \"big\", \"big\", \"big\", \"bill\", \"bill\", \"bill\", \"birthday\", \"birthday\", \"birthday\", \"birthday\", \"birthday\", \"birthday\", \"black\", \"black\", \"black\", \"black\", \"black\", \"black\", \"bloatware\", \"bluetooth\", \"bluetooth\", \"bluetooth\", \"book\", \"book\", \"book\", \"book\", \"book\", \"book\", \"book\", \"book\", \"book\", \"book\", \"book\", \"boost\", \"bored\", \"borrow\", \"borrow\", \"boyfriend\", \"boyfriend\", \"boyfriend\", \"break\", \"break\", \"break\", \"break\", \"break\", \"break\", \"break\", \"breeze\", \"breeze\", \"bright\", \"bright\", \"bright\", \"bright\", \"bright\", \"bring\", \"bring\", \"bring\", \"bring\", \"bring\", \"broke\", \"browse\", \"browse\", \"browse\", \"browsing\", \"browsing\", \"browsing\", \"buck\", \"buck\", \"buck\", \"buck\", \"bumper\", \"bumper\", \"bumper\", \"bundle\", \"bundle\", \"busy\", \"busy\", \"button\", \"button\", \"button\", \"button\", \"buy\", \"buy\", \"buy\", \"buy\", \"buy\", \"buy\", \"buy\", \"buy\", \"buy\", \"buy\", \"buy\", \"buy\", \"buy\", \"buy\", \"buy\", \"buying\", \"c\", \"cable\", \"cable\", \"cable\", \"cable\", \"camera\", \"camera\", \"camera\", \"camera\", \"camera\", \"camera\", \"camera\", \"camera\", \"camera\", \"candy\", \"card\", \"card\", \"card\", \"card\", \"card\", \"card\", \"card\", \"card\", \"card\", \"carry\", \"carry\", \"carry\", \"carry\", \"carry\", \"cartoon\", \"case\", \"case\", \"case\", \"case\", \"case\", \"case\", \"case\", \"case\", \"case\", \"case\", \"case\", \"case\", \"case\", \"casual\", \"casual\", \"cause\", \"cause\", \"cause\", \"caveat\", \"certificate\", \"chair\", \"change\", \"change\", \"change\", \"change\", \"change\", \"change\", \"change\", \"change\", \"change\", \"change\", \"character\", \"charge\", \"charge\", \"charge\", \"charge\", \"charge\", \"charge\", \"charge\", \"charge\", \"charge\", \"charge\", \"charge\", \"charge\", \"charge\", \"charger\", \"charger\", \"charger\", \"charger\", \"charger\", \"charger\", \"cheap\", \"cheap\", \"cheap\", \"cheap\", \"cheap\", \"cheap\", \"cheap\", \"cheap\", \"cheap\", \"check\", \"check\", \"check\", \"check\", \"check\", \"check\", \"check\", \"child\", \"child\", \"child\", \"child\", \"child\", \"child\", \"child\", \"child\", \"circadian\", \"clarity\", \"clarity\", \"clarity\", \"clarity\", \"clarity\", \"class\", \"clear\", \"clear\", \"clear\", \"clear\", \"clear\", \"clear\", \"clearly\", \"click\", \"click\", \"click\", \"clog\", \"clog\", \"close\", \"close\", \"close\", \"close\", \"close\", \"close\", \"close\", \"clutter\", \"coat\", \"code\", \"code\", \"collection\", \"college\", \"college\", \"college\", \"college\", \"college\", \"color\", \"color\", \"color\", \"color\", \"color\", \"color\", \"color\", \"color\", \"come\", \"come\", \"come\", \"come\", \"come\", \"come\", \"come\", \"come\", \"come\", \"come\", \"come\", \"come\", \"comfortably\", \"command\", \"comment\", \"comment\", \"compact\", \"comparable\", \"compartment\", \"compatible\", \"compatible\", \"compatible\", \"compatible\", \"compatible\", \"complete\", \"complete\", \"complete\", \"component\", \"computer\", \"computer\", \"computer\", \"computer\", \"computer\", \"computer\", \"con\", \"con\", \"con\", \"con\", \"con\", \"condition\", \"connect\", \"connect\", \"connect\", \"connect\", \"connect\", \"connection\", \"connection\", \"connection\", \"connection\", \"connection\", \"connection\", \"connection\", \"consume\", \"content\", \"content\", \"content\", \"content\", \"content\", \"content\", \"content\", \"control\", \"control\", \"control\", \"control\", \"control\", \"control\", \"control\", \"convenient\", \"convenient\", \"convenient\", \"convenient\", \"convenient\", \"convenient\", \"convenient\", \"convince\", \"copy\", \"copy\", \"cord\", \"cord\", \"cord\", \"cord\", \"cost\", \"cost\", \"cost\", \"cost\", \"cost\", \"cost\", \"cost\", \"cost\", \"cost\", \"cost\", \"crack\", \"crack\", \"crisp\", \"crisp\", \"crisp\", \"crush\", \"cumbersome\", \"curfew\", \"customer\", \"customer\", \"customer\", \"cut\", \"cut\", \"dad\", \"dad\", \"dad\", \"dad\", \"dad\", \"dad\", \"daily\", \"daily\", \"daily\", \"daily\", \"daily\", \"damage\", \"damage\", \"damage\", \"damage\", \"damage\", \"dark\", \"dark\", \"dark\", \"daughter\", \"daughter\", \"daughter\", \"daughter\", \"daughter\", \"daughter\", \"dauther\", \"day\", \"day\", \"day\", \"day\", \"day\", \"day\", \"day\", \"day\", \"day\", \"day\", \"day\", \"day\", \"day\", \"deal\", \"deal\", \"deal\", \"deal\", \"deal\", \"deal\", \"deal\", \"deal\", \"debate\", \"debate\", \"decent\", \"decent\", \"decent\", \"decent\", \"decent\", \"dedicated\", \"deduct\", \"def\", \"def\", \"definite\", \"definite\", \"deliver\", \"deliver\", \"delivery\", \"department\", \"depend\", \"descent\", \"desktop\", \"device\", \"device\", \"device\", \"device\", \"device\", \"device\", \"device\", \"device\", \"device\", \"device\", \"device\", \"device\", \"device\", \"device\", \"device\", \"devise\", \"devise\", \"dictionary\", \"difficult\", \"difficult\", \"difficult\", \"difficult\", \"difficult\", \"difficult\", \"difficult\", \"dinner\", \"disability\", \"disable\", \"disable\", \"disney\", \"display\", \"display\", \"display\", \"display\", \"display\", \"display\", \"display\", \"dot\", \"doubt\", \"doubt\", \"download\", \"download\", \"download\", \"download\", \"download\", \"download\", \"download\", \"download\", \"download\", \"download\", \"download\", \"downloading\", \"downside\", \"downside\", \"downside\", \"draw\", \"drive\", \"drive\", \"drive\", \"drive\", \"drive\", \"drop\", \"drop\", \"drop\", \"drop\", \"drop\", \"drop\", \"drop\", \"durable\", \"durable\", \"durable\", \"durable\", \"durable\", \"durable\", \"durable\", \"e\", \"e\", \"e\", \"eBooks\", \"early\", \"early\", \"early\", \"ease\", \"ease\", \"ease\", \"ease\", \"ease\", \"ease\", \"ease\", \"ease\", \"east\", \"east\", \"easy\", \"easy\", \"easy\", \"easy\", \"easy\", \"easy\", \"easy\", \"easy\", \"easy\", \"easy\", \"easy\", \"easy\", \"easy\", \"ebook\", \"ebook\", \"ebook\", \"ebook\", \"ebook\", \"ebook\", \"echo\", \"educate\", \"education\", \"education\", \"educational\", \"educational\", \"educational\", \"effective\", \"effective\", \"efficient\", \"efficient\", \"effortlessly\", \"email\", \"email\", \"email\", \"email\", \"email\", \"email\", \"encourage\", \"encourage\", \"encourage\", \"engaged\", \"enjoy\", \"enjoy\", \"enjoy\", \"enjoy\", \"enjoy\", \"enjoy\", \"enjoy\", \"enjoy\", \"enjoy\", \"enjoy\", \"enjoy\", \"enjoy\", \"enjoy\", \"ensure\", \"ensure\", \"entertain\", \"entertain\", \"entertaining\", \"entertaining\", \"entertaining\", \"ereader\", \"essential\", \"evening\", \"event\", \"event\", \"exception\", \"exchange\", \"exchange\", \"exclusively\", \"excuse\", \"exist\", \"exist\", \"expandable\", \"expandable\", \"expandable\", \"expandable\", \"expandable\", \"expandable\", \"expect\", \"expect\", \"expect\", \"expect\", \"expect\", \"expect\", \"expect\", \"expect\", \"expect\", \"expensive\", \"expensive\", \"expensive\", \"expensive\", \"expensive\", \"expensive\", \"expensive\", \"expensive\", \"experience\", \"experience\", \"experience\", \"experience\", \"experience\", \"experience\", \"experience\", \"experience\", \"experience\", \"expose\", \"extended\", \"extent\", \"extreme\", \"eye\", \"eye\", \"eye\", \"eye\", \"eye\", \"eye\", \"eye\", \"face\", \"face\", \"face\", \"family\", \"family\", \"family\", \"family\", \"family\", \"far\", \"far\", \"far\", \"far\", \"far\", \"far\", \"far\", \"far\", \"far\", \"far\", \"far\", \"far\", \"far\", \"far\", \"far\", \"fast\", \"fast\", \"fast\", \"fast\", \"fast\", \"fast\", \"fast\", \"fast\", \"fast\", \"faster\", \"faster\", \"faster\", \"faster\", \"faster\", \"faster\", \"faster\", \"faster\", \"favorite\", \"favorite\", \"favorite\", \"favorite\", \"favorite\", \"favorite\", \"favorite\", \"feature\", \"feature\", \"feature\", \"feature\", \"feature\", \"feature\", \"feature\", \"feature\", \"feature\", \"feature\", \"feature\", \"feature\", \"feature\", \"fee\", \"fee\", \"feedback\", \"feel\", \"feel\", \"feel\", \"feel\", \"feel\", \"feel\", \"feel\", \"feel\", \"feel\", \"feel\", \"feel\", \"feel\", \"fianc\\u221a\", \"fight\", \"fight\", \"find\", \"find\", \"find\", \"find\", \"find\", \"find\", \"find\", \"find\", \"find\", \"find\", \"find\", \"find\", \"find\", \"find\", \"fingertip\", \"fire\", \"fire\", \"fire\", \"fire\", \"fire\", \"fire\", \"fire\", \"fire\", \"fire\", \"fire\", \"fire\", \"fire\", \"fire\", \"firestick\", \"fit\", \"fit\", \"fit\", \"fit\", \"fit\", \"fit\", \"fit\", \"fit\", \"fly\", \"font\", \"font\", \"force\", \"force\", \"format\", \"format\", \"fraction\", \"free\", \"free\", \"free\", \"free\", \"free\", \"free\", \"free\", \"free\", \"free\", \"free\", \"freetime\", \"freezing\", \"frequent\", \"friday\", \"friend\", \"friend\", \"friend\", \"friend\", \"friend\", \"friend\", \"friend\", \"friend\", \"friendly\", \"friendly\", \"friendly\", \"friendly\", \"friendly\", \"fun\", \"fun\", \"fun\", \"fun\", \"fun\", \"fun\", \"fun\", \"fun\", \"fun\", \"game\", \"game\", \"game\", \"game\", \"game\", \"game\", \"game\", \"game\", \"garage\", \"geek\", \"geek\", \"geek\", \"geek\", \"gen\", \"gen\", \"get\", \"get\", \"get\", \"get\", \"get\", \"get\", \"get\", \"get\", \"get\", \"get\", \"get\", \"get\", \"get\", \"get\", \"get\", \"gift\", \"gift\", \"gift\", \"gift\", \"gift\", \"gift\", \"gift\", \"gift\", \"girl\", \"girl\", \"girl\", \"give\", \"give\", \"give\", \"give\", \"give\", \"give\", \"give\", \"give\", \"give\", \"give\", \"give\", \"give\", \"glad\", \"glad\", \"glad\", \"glad\", \"glad\", \"go\", \"go\", \"go\", \"go\", \"go\", \"go\", \"go\", \"go\", \"go\", \"go\", \"go\", \"go\", \"go\", \"goal\", \"goal\", \"god\", \"god\", \"good\", \"good\", \"good\", \"good\", \"good\", \"good\", \"good\", \"good\", \"good\", \"good\", \"good\", \"good\", \"good\", \"good\", \"good\", \"google\", \"google\", \"google\", \"google\", \"google\", \"google\", \"google\", \"google\", \"gorgeous\", \"graduate\", \"grand\", \"grand\", \"grand\", \"grandfather\", \"grandkid\", \"grandkid\", \"grandkid\", \"grandmother\", \"grandparent\", \"grandparent\", \"grandson\", \"grandson\", \"grandson\", \"grandson\", \"grandson\", \"grandson\", \"grandson\", \"grandson\", \"graphic\", \"graphic\", \"graphic\", \"graphic\", \"great\", \"great\", \"great\", \"great\", \"great\", \"great\", \"great\", \"great\", \"great\", \"great\", \"great\", \"great\", \"great\", \"great\", \"great\", \"gripe\", \"group\", \"group\", \"group\", \"guard\", \"ha\", \"hand\", \"hand\", \"hand\", \"hand\", \"hand\", \"hand\", \"hand\", \"hand\", \"hand\", \"hand\", \"handy\", \"handy\", \"handy\", \"handy\", \"handy\", \"happy\", \"happy\", \"happy\", \"happy\", \"happy\", \"happy\", \"happy\", \"happy\", \"happy\", \"happy\", \"happy\", \"happy\", \"have\", \"have\", \"have\", \"have\", \"have\", \"have\", \"have\", \"have\", \"have\", \"have\", \"have\", \"have\", \"hd\", \"hd\", \"hd\", \"hd\", \"hd\", \"hd\", \"hd\", \"hdx\", \"head\", \"headline\", \"headphone\", \"headphone\", \"heart\", \"help\", \"help\", \"help\", \"help\", \"help\", \"help\", \"help\", \"help\", \"help\", \"help\", \"help\", \"hold\", \"hold\", \"hold\", \"hold\", \"hold\", \"hold\", \"hold\", \"hold\", \"hold\", \"hold\", \"holiday\", \"holiday\", \"home\", \"home\", \"home\", \"home\", \"home\", \"home\", \"home\", \"home\", \"home\", \"home\", \"home\", \"hooked\", \"hooked\", \"horsepower\", \"hospital\", \"hospital\", \"hotel\", \"house\", \"house\", \"house\", \"house\", \"house\", \"house\", \"house\", \"husband\", \"husband\", \"husband\", \"husband\", \"husband\", \"husband\", \"husband\", \"hype\", \"iPad\", \"iPad\", \"iPad\", \"iPad\", \"iPad\", \"iPad\", \"iPad\", \"iPad\", \"iPad\", \"iPad\", \"iPad\", \"ignore\", \"im\", \"imagine\", \"imagine\", \"imagine\", \"improvement\", \"improvement\", \"improvement\", \"improvement\", \"inch\", \"inch\", \"inch\", \"inch\", \"inch\", \"inch\", \"inconvenient\", \"inconvenient\", \"increase\", \"increase\", \"incredible\", \"incredible\", \"indestructible\", \"inexpensive\", \"inexpensive\", \"inexpensive\", \"inexpensive\", \"ink\", \"instantly\", \"instantly\", \"integrate\", \"integrate\", \"intermediate\", \"internet\", \"internet\", \"internet\", \"internet\", \"internet\", \"internet\", \"internet\", \"intuitive\", \"intuitive\", \"intuitive\", \"investment\", \"investment\", \"ipad\", \"ipad\", \"ipad\", \"ipad\", \"ipad\", \"ipad\", \"ipad\", \"ipad\", \"ipod\", \"issue\", \"issue\", \"issue\", \"issue\", \"issue\", \"issue\", \"issue\", \"issue\", \"issue\", \"issue\", \"issue\", \"issue\", \"item\", \"item\", \"item\", \"item\", \"item\", \"item\", \"item\", \"item\", \"item\", \"item\", \"item\", \"item\", \"item\", \"it\\u201a\\u00e4\\u00f4s\", \"jack\", \"jacket\", \"job\", \"job\", \"job\", \"job\", \"job\", \"junk\", \"keep\", \"keep\", \"keep\", \"keep\", \"keep\", \"keep\", \"keep\", \"keep\", \"keep\", \"key\", \"key\", \"key\", \"keyboard\", \"keyboard\", \"keyboard\", \"keyboard\", \"kid\", \"kid\", \"kid\", \"kid\", \"kid\", \"kid\", \"kid\", \"kill\", \"kinda\", \"kindle\", \"kindle\", \"kindle\", \"kindle\", \"kindle\", \"kindle\", \"kindle\", \"kindle\", \"kindle\", \"kindle\", \"kindle\", \"kitchen\", \"know\", \"know\", \"know\", \"know\", \"know\", \"know\", \"know\", \"know\", \"know\", \"know\", \"know\", \"know\", \"laptop\", \"laptop\", \"laptop\", \"laptop\", \"laptop\", \"laptop\", \"laptop\", \"laptop\", \"large\", \"large\", \"large\", \"large\", \"large\", \"large\", \"large\", \"large\", \"large\", \"last\", \"last\", \"last\", \"last\", \"last\", \"last\", \"layout\", \"lead\", \"learn\", \"learn\", \"learn\", \"learn\", \"learn\", \"learn\", \"learn\", \"learning\", \"learning\", \"learning\", \"led\", \"left\", \"left\", \"leg\", \"library\", \"library\", \"library\", \"library\", \"library\", \"library\", \"library\", \"library\", \"life\", \"life\", \"life\", \"life\", \"life\", \"life\", \"life\", \"life\", \"life\", \"light\", \"light\", \"light\", \"light\", \"light\", \"lighten\", \"lightweight\", \"lightweight\", \"lightweight\", \"lightweight\", \"lightweight\", \"lightweight\", \"lightweight\", \"lightweight\", \"like\", \"like\", \"like\", \"like\", \"like\", \"like\", \"like\", \"like\", \"like\", \"like\", \"like\", \"like\", \"like\", \"like\", \"like\", \"limit\", \"limit\", \"limit\", \"limit\", \"limit\", \"limited\", \"limited\", \"limited\", \"listen\", \"listen\", \"listen\", \"listen\", \"lite\", \"literally\", \"literally\", \"little\", \"little\", \"little\", \"little\", \"little\", \"little\", \"little\", \"little\", \"little\", \"little\", \"little\", \"little\", \"little\", \"little\", \"load\", \"load\", \"load\", \"load\", \"load\", \"load\", \"load\", \"load\", \"load\", \"loaded\", \"loaded\", \"loading\", \"loading\", \"loading\", \"local\", \"local\", \"local\", \"local\", \"local\", \"local\", \"location\", \"log\", \"log\", \"logic\", \"look\", \"look\", \"look\", \"look\", \"look\", \"look\", \"look\", \"look\", \"look\", \"look\", \"look\", \"look\", \"look\", \"look\", \"loose\", \"loose\", \"lot\", \"lot\", \"lot\", \"lot\", \"lot\", \"lot\", \"lot\", \"lot\", \"lot\", \"lot\", \"lot\", \"lot\", \"lot\", \"lot\", \"loud\", \"loud\", \"loud\", \"love\", \"love\", \"love\", \"love\", \"love\", \"love\", \"love\", \"love\", \"love\", \"love\", \"love\", \"love\", \"love\", \"love\", \"love\", \"machine\", \"machine\", \"mad\", \"magazine\", \"magazine\", \"magazine\", \"mail\", \"mail\", \"make\", \"make\", \"make\", \"make\", \"make\", \"make\", \"make\", \"make\", \"make\", \"make\", \"make\", \"make\", \"make\", \"manual\", \"math\", \"medium\", \"medium\", \"medium\", \"medium\", \"meet\", \"meet\", \"meet\", \"meet\", \"meet\", \"meet\", \"meeting\", \"member\", \"member\", \"member\", \"member\", \"member\", \"memory\", \"memory\", \"memory\", \"memory\", \"memory\", \"memory\", \"memory\", \"memory\", \"menu\", \"menu\", \"mess\", \"mess\", \"mess\", \"mess\", \"method\", \"method\", \"micro\", \"micro\", \"micro\", \"microphone\", \"mid\", \"min\", \"mini\", \"mini\", \"mini\", \"mini\", \"mini\", \"mini\", \"minimum\", \"minute\", \"minute\", \"minute\", \"minute\", \"minute\", \"minute\", \"miss\", \"miss\", \"miss\", \"miss\", \"mobility\", \"model\", \"model\", \"model\", \"model\", \"model\", \"model\", \"mom\", \"mom\", \"mom\", \"mom\", \"money\", \"money\", \"money\", \"money\", \"money\", \"money\", \"money\", \"money\", \"money\", \"month\", \"month\", \"month\", \"month\", \"month\", \"month\", \"month\", \"month\", \"mother\", \"mother\", \"mother\", \"mother\", \"movie\", \"movie\", \"movie\", \"movie\", \"movie\", \"movie\", \"movie\", \"multi\", \"multi\", \"music\", \"music\", \"music\", \"music\", \"music\", \"music\", \"music\", \"music\", \"native\", \"natural\", \"navigate\", \"navigate\", \"navigate\", \"navigate\", \"navigate\", \"navigate\", \"navigate\", \"navigate\", \"necessarily\", \"need\", \"need\", \"need\", \"need\", \"need\", \"need\", \"need\", \"need\", \"need\", \"need\", \"need\", \"need\", \"need\", \"need\", \"need\", \"nervous\", \"netflix\", \"netflix\", \"netflix\", \"network\", \"network\", \"network\", \"network\", \"new\", \"new\", \"new\", \"new\", \"new\", \"new\", \"new\", \"new\", \"new\", \"new\", \"newspaper\", \"newspaper\", \"nice\", \"nice\", \"nice\", \"nice\", \"nice\", \"nice\", \"nice\", \"nice\", \"nice\", \"niece\", \"niece\", \"niece\", \"night\", \"night\", \"night\", \"night\", \"night\", \"night\", \"night\", \"nook\", \"nook\", \"nook\", \"numerous\", \"numerous\", \"nursing\", \"occupy\", \"oh\", \"oh\", \"ok\", \"ok\", \"ok\", \"ok\", \"ok\", \"ok\", \"old\", \"old\", \"old\", \"old\", \"old\", \"old\", \"old\", \"old\", \"old\", \"old\", \"online\", \"online\", \"online\", \"online\", \"online\", \"online\", \"operate\", \"operate\", \"operate\", \"operate\", \"operate\", \"operate\", \"operation\", \"original\", \"original\", \"original\", \"original\", \"original\", \"original\", \"outdated\", \"outer\", \"outer\", \"outside\", \"outside\", \"outside\", \"outside\", \"outside\", \"outside\", \"own\", \"own\", \"own\", \"own\", \"own\", \"own\", \"own\", \"pack\", \"pack\", \"pack\", \"pack\", \"pack\", \"pad\", \"pad\", \"pad\", \"pad\", \"pad\", \"pad\", \"pad\", \"pad\", \"padding\", \"page\", \"page\", \"page\", \"page\", \"page\", \"page\", \"paperwhite\", \"paperwhite\", \"paperwhite\", \"parent\", \"parent\", \"parent\", \"parent\", \"parent\", \"parental\", \"parental\", \"parental\", \"pay\", \"pay\", \"pay\", \"pay\", \"pay\", \"pay\", \"pay\", \"pay\", \"pay\", \"pen\", \"perfect\", \"perfect\", \"perfect\", \"perfect\", \"perfect\", \"perfect\", \"perfect\", \"perfect\", \"perfect\", \"perfect\", \"perfect\", \"perfect\", \"perfect\", \"performance\", \"performance\", \"performance\", \"performance\", \"performance\", \"philosophy\", \"phone\", \"phone\", \"phone\", \"phone\", \"phone\", \"phone\", \"phone\", \"phone\", \"phone\", \"photo\", \"photo\", \"photo\", \"photo\", \"photo\", \"photo\", \"photo\", \"picture\", \"picture\", \"picture\", \"picture\", \"picture\", \"picture\", \"plastic\", \"plastic\", \"plastic\", \"plastic\", \"play\", \"play\", \"play\", \"play\", \"play\", \"play\", \"play\", \"play\", \"play\", \"playing\", \"pleasant\", \"pocket\", \"pocket\", \"podcast\", \"port\", \"port\", \"port\", \"port\", \"portability\", \"portability\", \"portability\", \"portable\", \"portable\", \"portion\", \"powerful\", \"powerful\", \"powerful\", \"praise\", \"preloaded\", \"preschool\", \"preschooler\", \"present\", \"present\", \"present\", \"present\", \"present\", \"press\", \"press\", \"press\", \"press\", \"press\", \"pretty\", \"pretty\", \"pretty\", \"pretty\", \"pretty\", \"pretty\", \"pretty\", \"pretty\", \"pretty\", \"pretty\", \"pretty\", \"price\", \"price\", \"price\", \"price\", \"price\", \"price\", \"price\", \"price\", \"price\", \"price\", \"price\", \"price\", \"price\", \"price\", \"pricy\", \"prime\", \"prime\", \"prime\", \"prime\", \"prime\", \"prime\", \"prime\", \"prime\", \"prime\", \"pro\", \"pro\", \"pro\", \"pro\", \"pro\", \"pro\", \"processor\", \"processor\", \"processor\", \"product\", \"product\", \"product\", \"product\", \"product\", \"product\", \"product\", \"product\", \"product\", \"product\", \"product\", \"product\", \"product\", \"product\", \"product\", \"profile\", \"profile\", \"profile\", \"promise\", \"promise\", \"prompt\", \"protection\", \"protection\", \"protection\", \"protection\", \"protective\", \"protective\", \"protective\", \"protective\", \"protective\", \"protective\", \"prove\", \"punch\", \"purchase\", \"purchase\", \"purchase\", \"purchase\", \"purchase\", \"purchase\", \"purchase\", \"purchase\", \"purchase\", \"purchase\", \"purchase\", \"purchase\", \"purchase\", \"purchase\", \"purchasing\", \"purple\", \"purse\", \"purse\", \"push\", \"quality\", \"quality\", \"quality\", \"quality\", \"quality\", \"quality\", \"quality\", \"quality\", \"question\", \"question\", \"question\", \"question\", \"question\", \"quickly\", \"quickly\", \"quickly\", \"quickly\", \"quickly\", \"quickly\", \"quickly\", \"quickly\", \"quirk\", \"quirk\", \"quit\", \"quit\", \"quit\", \"radio\", \"raffle\", \"read\", \"read\", \"read\", \"read\", \"read\", \"read\", \"read\", \"read\", \"read\", \"read\", \"read\", \"read\", \"read\", \"read\", \"readability\", \"readability\", \"readable\", \"reader\", \"reader\", \"reader\", \"reader\", \"reader\", \"reader\", \"reading\", \"reading\", \"reading\", \"reading\", \"reading\", \"reading\", \"reading\", \"reading\", \"reading\", \"rear\", \"rear\", \"reason\", \"reason\", \"reason\", \"reason\", \"reason\", \"reason\", \"reason\", \"reason\", \"reason\", \"reasonable\", \"reasonable\", \"reasonable\", \"receive\", \"receive\", \"receive\", \"receive\", \"receiver\", \"reception\", \"recharge\", \"recharge\", \"rechargeable\", \"recipe\", \"recipient\", \"recipient\", \"recommend\", \"recommend\", \"recommend\", \"recommend\", \"recommend\", \"recommend\", \"recommend\", \"recommend\", \"recommend\", \"recommend\", \"recommend\", \"recommend\", \"recommend\", \"refresh\", \"refund\", \"refuse\", \"regard\", \"related\", \"rep\", \"repair\", \"repair\", \"replace\", \"replace\", \"replace\", \"replace\", \"replace\", \"replace\", \"replace\", \"replace\", \"replace\", \"requirement\", \"requirement\", \"research\", \"research\", \"research\", \"research\", \"resist\", \"resist\", \"resolution\", \"resolution\", \"resolution\", \"resolution\", \"resolution\", \"resolution\", \"resolution\", \"resolution\", \"resolve\", \"resolve\", \"responsibility\", \"rest\", \"rest\", \"restriction\", \"restriction\", \"review\", \"review\", \"review\", \"review\", \"review\", \"review\", \"review\", \"review\", \"review\", \"review\", \"review\", \"reward\", \"rhythm\", \"right\", \"right\", \"right\", \"right\", \"right\", \"right\", \"right\", \"right\", \"right\", \"right\", \"right\", \"right\", \"road\", \"road\", \"road\", \"road\", \"roll\", \"roll\", \"room\", \"room\", \"room\", \"room\", \"room\", \"room\", \"rotate\", \"rubber\", \"rubber\", \"ruin\", \"s2\", \"sad\", \"sale\", \"sale\", \"sale\", \"sale\", \"sale\", \"sale\", \"sale\", \"salesperson\", \"satisfied\", \"satisfied\", \"satisfied\", \"satisfied\", \"satisfied\", \"saver\", \"saver\", \"saver\", \"savvy\", \"savvy\", \"say\", \"say\", \"say\", \"say\", \"say\", \"say\", \"say\", \"say\", \"say\", \"say\", \"scene\", \"school\", \"school\", \"school\", \"school\", \"school\", \"screen\", \"screen\", \"screen\", \"screen\", \"screen\", \"screen\", \"screen\", \"screen\", \"screen\", \"screen\", \"screen\", \"screen\", \"screen\", \"sd\", \"sd\", \"sd\", \"seamlessly\", \"search\", \"search\", \"search\", \"search\", \"search\", \"search\", \"season\", \"second\", \"second\", \"second\", \"second\", \"second\", \"second\", \"second\", \"second\", \"second\", \"second\", \"second\", \"second\", \"secondary\", \"semester\", \"service\", \"service\", \"service\", \"service\", \"service\", \"service\", \"service\", \"set\", \"set\", \"set\", \"set\", \"set\", \"set\", \"set\", \"set\", \"set\", \"settle\", \"setup\", \"setup\", \"setup\", \"setup\", \"setup\", \"setup\", \"seven\", \"shape\", \"shape\", \"shatter\", \"shell\", \"shortly\", \"show\", \"show\", \"show\", \"show\", \"show\", \"show\", \"show\", \"show\", \"silk\", \"silk\", \"sister\", \"sister\", \"sister\", \"sister\", \"sister\", \"size\", \"size\", \"size\", \"size\", \"size\", \"size\", \"size\", \"size\", \"size\", \"skill\", \"skill\", \"sleeve\", \"sleeve\", \"slide\", \"slide\", \"slim\", \"slippery\", \"slow\", \"slow\", \"slow\", \"slow\", \"slow\", \"slow\", \"slow\", \"slow\", \"sluggish\", \"small\", \"small\", \"small\", \"small\", \"small\", \"small\", \"small\", \"small\", \"small\", \"small\", \"small\", \"small\", \"social\", \"software\", \"software\", \"software\", \"software\", \"solitaire\", \"son\", \"son\", \"son\", \"son\", \"son\", \"son\", \"son\", \"son\", \"son\", \"son\", \"song\", \"song\", \"sooo\", \"sorry\", \"sorry\", \"sound\", \"sound\", \"sound\", \"sound\", \"sound\", \"speaker\", \"speaker\", \"speaker\", \"speaker\", \"speaker\", \"special\", \"special\", \"spectacular\", \"speed\", \"speed\", \"speed\", \"speed\", \"speed\", \"speed\", \"spin\", \"spouse\", \"standard\", \"standard\", \"standard\", \"star\", \"star\", \"star\", \"star\", \"star\", \"star\", \"star\", \"star\", \"starter\", \"starter\", \"step\", \"step\", \"step\", \"step\", \"stock\", \"stock\", \"store\", \"store\", \"store\", \"store\", \"store\", \"store\", \"store\", \"store\", \"store\", \"store\", \"store\", \"strap\", \"stream\", \"stream\", \"streaming\", \"streaming\", \"streaming\", \"strip\", \"stumble\", \"sturdy\", \"sturdy\", \"sturdy\", \"suck\", \"suggestion\", \"suppose\", \"suppose\", \"suppose\", \"suppose\", \"suppose\", \"surf\", \"surf\", \"surfing\", \"surfing\", \"switch\", \"switch\", \"switch\", \"switch\", \"switch\", \"switch\", \"tab\", \"tab\", \"tab\", \"tab\", \"tablet\", \"tablet\", \"tablet\", \"tablet\", \"tablet\", \"tablet\", \"tablet\", \"tablet\", \"tablet\", \"tablet\", \"tablet\", \"tablet\", \"tablet\", \"tablet\", \"tablet\", \"tad\", \"take\", \"take\", \"take\", \"take\", \"take\", \"take\", \"take\", \"take\", \"take\", \"take\", \"take\", \"take\", \"take\", \"take\", \"taking\", \"tank\", \"tap\", \"task\", \"task\", \"task\", \"tear\", \"tear\", \"tech\", \"tech\", \"tech\", \"tech\", \"tech\", \"teen\", \"teen\", \"teen\", \"teen\", \"teen\", \"teenage\", \"teenager\", \"teenager\", \"tendency\", \"thank\", \"thank\", \"thank\", \"thin\", \"thin\", \"thing\", \"thing\", \"thing\", \"thing\", \"thing\", \"thing\", \"thing\", \"thing\", \"thing\", \"thing\", \"thing\", \"thing\", \"thing\", \"thing\", \"thing\", \"think\", \"think\", \"think\", \"think\", \"think\", \"think\", \"think\", \"think\", \"think\", \"think\", \"think\", \"think\", \"think\", \"think\", \"think\", \"tho\", \"throughly\", \"tick\", \"time\", \"time\", \"time\", \"time\", \"time\", \"time\", \"time\", \"time\", \"time\", \"time\", \"time\", \"time\", \"time\", \"time\", \"time\", \"tinny\", \"title\", \"toddler\", \"toddler\", \"toddler\", \"toddler\", \"toddler\", \"tool\", \"tool\", \"tool\", \"tool\", \"tool\", \"tool\", \"track\", \"train\", \"transfer\", \"transfer\", \"transfer\", \"transition\", \"transition\", \"translation\", \"travel\", \"travel\", \"travel\", \"travel\", \"travel\", \"travel\", \"travel\", \"travel\", \"travel\", \"travel\", \"travel\", \"trip\", \"trip\", \"trip\", \"trip\", \"trip\", \"trip\", \"trip\", \"trip\", \"tube\", \"tube\", \"tube\", \"turn\", \"turn\", \"turn\", \"turn\", \"turn\", \"turn\", \"turn\", \"turn\", \"turn\", \"turn\", \"turn\", \"tv\", \"tv\", \"tv\", \"tv\", \"tv\", \"tv\", \"tween\", \"unaware\", \"underground\", \"universal\", \"unlike\", \"unlike\", \"unlike\", \"unlimited\", \"unlimited\", \"unlimited\", \"unlimited\", \"unsure\", \"unwanted\", \"unwanted\", \"upcoming\", \"upgrade\", \"upgrade\", \"upgrade\", \"upgrade\", \"upgrade\", \"upgrade\", \"usability\", \"usable\", \"usb\", \"usb\", \"usb\", \"usb\", \"usb\", \"use\", \"use\", \"use\", \"use\", \"use\", \"use\", \"use\", \"use\", \"use\", \"use\", \"use\", \"use\", \"use\", \"use\", \"use\", \"user\", \"user\", \"user\", \"user\", \"user\", \"user\", \"vacation\", \"value\", \"value\", \"value\", \"value\", \"value\", \"value\", \"value\", \"vary\", \"verizon\", \"version\", \"version\", \"version\", \"version\", \"version\", \"version\", \"version\", \"version\", \"version\", \"version\", \"version\", \"versus\", \"vibrant\", \"video\", \"video\", \"video\", \"video\", \"video\", \"video\", \"video\", \"video\", \"video\", \"video\", \"video\", \"view\", \"view\", \"view\", \"view\", \"view\", \"view\", \"vivid\", \"voice\", \"void\", \"volume\", \"volume\", \"volume\", \"voyage\", \"voyage\", \"voyage\", \"voyager\", \"w\", \"wait\", \"wait\", \"wait\", \"wait\", \"wait\", \"wait\", \"wait\", \"wait\", \"wait\", \"wait\", \"wallpaper\", \"wallpaper\", \"wanna\", \"want\", \"want\", \"want\", \"want\", \"want\", \"want\", \"want\", \"want\", \"want\", \"want\", \"want\", \"want\", \"want\", \"want\", \"want\", \"warranty\", \"warranty\", \"warranty\", \"warranty\", \"warranty\", \"waste\", \"watch\", \"watch\", \"watch\", \"watch\", \"watch\", \"watch\", \"watch\", \"watch\", \"water\", \"way\", \"way\", \"way\", \"way\", \"way\", \"way\", \"way\", \"way\", \"way\", \"way\", \"way\", \"way\", \"way\", \"way\", \"way\", \"weather\", \"weather\", \"weather\", \"web\", \"web\", \"web\", \"week\", \"week\", \"week\", \"week\", \"week\", \"week\", \"week\", \"week\", \"week\", \"weight\", \"well\", \"well\", \"well\", \"well\", \"well\", \"well\", \"well\", \"well\", \"well\", \"well\", \"well\", \"well\", \"well\", \"whistle\", \"wife\", \"wife\", \"wife\", \"wife\", \"wife\", \"wife\", \"wifi\", \"wifi\", \"wifi\", \"wifi\", \"wifi\", \"wifi\", \"wifi\", \"wifi\", \"win\", \"win\", \"win\", \"win\", \"window\", \"winner\", \"winner\", \"wireless\", \"wireless\", \"wizard\", \"wonderfully\", \"work\", \"work\", \"work\", \"work\", \"work\", \"work\", \"work\", \"work\", \"work\", \"work\", \"work\", \"work\", \"work\", \"work\", \"work\", \"worth\", \"worth\", \"worth\", \"worth\", \"worth\", \"worth\", \"worth\", \"worth\", \"worth\", \"worthless\", \"worthy\", \"wrap\", \"wrap\", \"write\", \"write\", \"write\", \"writing\", \"xmas\", \"y\", \"year\", \"year\", \"year\", \"year\", \"year\", \"year\", \"year\", \"year\", \"yellow\", \"young\", \"young\", \"young\", \"young\", \"young\", \"young\", \"yr\", \"yr\", \"yr\", \"yrs\", \"yrs\", \"yrs\", \"zipper\", \"\\u00a9\"]}, \"R\": 30, \"lambda.step\": 0.01, \"plot.opts\": {\"xlab\": \"PC1\", \"ylab\": \"PC2\"}, \"topic.order\": [4, 7, 9, 8, 12, 15, 10, 5, 6, 2, 3, 14, 1, 13, 11]};\n",
       "\n",
       "function LDAvis_load_lib(url, callback){\n",
       "  var s = document.createElement('script');\n",
       "  s.src = url;\n",
       "  s.async = true;\n",
       "  s.onreadystatechange = s.onload = callback;\n",
       "  s.onerror = function(){console.warn(\"failed to load library \" + url);};\n",
       "  document.getElementsByTagName(\"head\")[0].appendChild(s);\n",
       "}\n",
       "\n",
       "if(typeof(LDAvis) !== \"undefined\"){\n",
       "   // already loaded: just create the visualization\n",
       "   !function(LDAvis){\n",
       "       new LDAvis(\"#\" + \"ldavis_el19611404700520512482610039811\", ldavis_el19611404700520512482610039811_data);\n",
       "   }(LDAvis);\n",
       "}else if(typeof define === \"function\" && define.amd){\n",
       "   // require.js is available: use it to load d3/LDAvis\n",
       "   require.config({paths: {d3: \"https://cdnjs.cloudflare.com/ajax/libs/d3/3.5.5/d3.min\"}});\n",
       "   require([\"d3\"], function(d3){\n",
       "      window.d3 = d3;\n",
       "      LDAvis_load_lib(\"https://cdn.rawgit.com/bmabey/pyLDAvis/files/ldavis.v1.0.0.js\", function(){\n",
       "        new LDAvis(\"#\" + \"ldavis_el19611404700520512482610039811\", ldavis_el19611404700520512482610039811_data);\n",
       "      });\n",
       "    });\n",
       "}else{\n",
       "    // require.js not available: dynamically load d3 & LDAvis\n",
       "    LDAvis_load_lib(\"https://cdnjs.cloudflare.com/ajax/libs/d3/3.5.5/d3.min.js\", function(){\n",
       "         LDAvis_load_lib(\"https://cdn.rawgit.com/bmabey/pyLDAvis/files/ldavis.v1.0.0.js\", function(){\n",
       "                 new LDAvis(\"#\" + \"ldavis_el19611404700520512482610039811\", ldavis_el19611404700520512482610039811_data);\n",
       "            })\n",
       "         });\n",
       "}\n",
       "</script>"
      ],
      "text/plain": [
       "PreparedData(topic_coordinates=              x         y  topics  cluster      Freq\n",
       "topic                                               \n",
       "3      0.163645 -0.086856       1        1  9.190386\n",
       "6     -0.154817  0.032046       2        1  9.032588\n",
       "8      0.103939 -0.037666       3        1  8.045197\n",
       "7     -0.155879 -0.035902       4        1  7.904174\n",
       "11     0.174430  0.109331       5        1  7.663262\n",
       "14    -0.192938 -0.154276       6        1  6.784016\n",
       "9      0.037705  0.143444       7        1  6.747732\n",
       "4     -0.080634  0.049878       8        1  6.533489\n",
       "5      0.203857 -0.111750       9        1  6.489156\n",
       "1      0.020770 -0.193065      10        1  6.424367\n",
       "2     -0.036645  0.119136      11        1  5.972446\n",
       "13     0.007250  0.116215      12        1  5.625712\n",
       "0      0.027665  0.019733      13        1  5.169107\n",
       "12    -0.065117  0.115971      14        1  4.687584\n",
       "10    -0.053230 -0.086240      15        1  3.730773, topic_info=          Term         Freq        Total Category  logprob  loglift\n",
       "68        easy  2553.000000  2553.000000  Default  30.0000  30.0000\n",
       "924        kid  1922.000000  1922.000000  Default  29.0000  29.0000\n",
       "806       game  1483.000000  1483.000000  Default  28.0000  28.0000\n",
       "108       year  1498.000000  1498.000000  Default  27.0000  27.0000\n",
       "5         love  4557.000000  4557.000000  Default  26.0000  26.0000\n",
       "..         ...          ...          ...      ...      ...      ...\n",
       "168  recommend    50.390079   810.482117  Topic15  -4.9207   0.5107\n",
       "20        like    52.002705  1697.006104  Topic15  -4.8892  -0.1968\n",
       "619       read    50.531158  1634.798462  Topic15  -4.9179  -0.1881\n",
       "5         love    53.557049  4557.732910  Topic15  -4.8597  -1.1553\n",
       "183   purchase    49.249859  1574.215576  Topic15  -4.9436  -0.1761\n",
       "\n",
       "[1101 rows x 6 columns], token_table=      Topic      Freq    Term\n",
       "term                         \n",
       "951       1  0.034509       $\n",
       "951       2  0.128176       $\n",
       "951       5  0.004930       $\n",
       "951       6  0.594044       $\n",
       "951       8  0.039439       $\n",
       "...     ...       ...     ...\n",
       "1686      5  0.179301     yrs\n",
       "1686      9  0.776970     yrs\n",
       "1686     15  0.059767     yrs\n",
       "432      15  0.966543  zipper\n",
       "2094      7  0.907926       ©\n",
       "\n",
       "[3300 rows x 3 columns], R=30, lambda_step=0.01, plot_opts={'xlab': 'PC1', 'ylab': 'PC2'}, topic_order=[4, 7, 9, 8, 12, 15, 10, 5, 6, 2, 3, 14, 1, 13, 11])"
      ]
     },
     "execution_count": 28,
     "metadata": {},
     "output_type": "execute_result"
    }
   ],
   "source": [
    "pyLDAvis.gensim.prepare(lda, corpus, id2word)"
   ]
  },
  {
   "cell_type": "code",
   "execution_count": 29,
   "metadata": {},
   "outputs": [],
   "source": [
    "# store our data in aa dataframe\n",
    "distro = [lda[d] for d in corpus]"
   ]
  },
  {
   "cell_type": "code",
   "execution_count": 30,
   "metadata": {},
   "outputs": [],
   "source": [
    "def update(doc):\n",
    "        d_dist = {k:0 for k in range(0, len(lda.get_topics()))}\n",
    "        for t in doc:\n",
    "            d_dist[t[0]] = t[1]\n",
    "        return d_dist\n",
    "    \n",
    "new_distro = [update(d) for d in distro]"
   ]
  },
  {
   "cell_type": "code",
   "execution_count": 31,
   "metadata": {},
   "outputs": [],
   "source": [
    "doc_topics = pd.DataFrame.from_records(new_distro)\n",
    "doc_topics.columns = topics"
   ]
  },
  {
   "cell_type": "code",
   "execution_count": 32,
   "metadata": {},
   "outputs": [
    {
     "data": {
      "text/html": [
       "<div>\n",
       "<style scoped>\n",
       "    .dataframe tbody tr th:only-of-type {\n",
       "        vertical-align: middle;\n",
       "    }\n",
       "\n",
       "    .dataframe tbody tr th {\n",
       "        vertical-align: top;\n",
       "    }\n",
       "\n",
       "    .dataframe thead th {\n",
       "        text-align: right;\n",
       "    }\n",
       "</style>\n",
       "<table border=\"1\" class=\"dataframe\">\n",
       "  <thead>\n",
       "    <tr style=\"text-align: right;\">\n",
       "      <th></th>\n",
       "      <th>daughter tablet Amazon app new</th>\n",
       "      <th>purchase Fire buy happy Amazon</th>\n",
       "      <th>book tablet reader need read</th>\n",
       "      <th>old year tablet buy love</th>\n",
       "      <th>music speaker sound Alexa great</th>\n",
       "      <th>love buy Kindle get Christmas</th>\n",
       "      <th>tablet great good price use</th>\n",
       "      <th>great tablet screen easy size</th>\n",
       "      <th>love kid great tablet use</th>\n",
       "      <th>easy use tablet app love</th>\n",
       "      <th>gift great laptop member case</th>\n",
       "      <th>game play love watch book</th>\n",
       "      <th>book read Kindle internet like</th>\n",
       "      <th>kindle light fire read love</th>\n",
       "      <th>good price tablet product great</th>\n",
       "    </tr>\n",
       "  </thead>\n",
       "  <tbody>\n",
       "    <tr>\n",
       "      <th>0</th>\n",
       "      <td>0.000000</td>\n",
       "      <td>0.144406</td>\n",
       "      <td>0.000000</td>\n",
       "      <td>0.000000</td>\n",
       "      <td>0.000000</td>\n",
       "      <td>0.000000</td>\n",
       "      <td>0.000000</td>\n",
       "      <td>0.000000</td>\n",
       "      <td>0.747253</td>\n",
       "      <td>0.000000</td>\n",
       "      <td>0.000000</td>\n",
       "      <td>0.000000</td>\n",
       "      <td>0.000000</td>\n",
       "      <td>0.000000</td>\n",
       "      <td>0.000000</td>\n",
       "    </tr>\n",
       "    <tr>\n",
       "      <th>1</th>\n",
       "      <td>0.000000</td>\n",
       "      <td>0.000000</td>\n",
       "      <td>0.139253</td>\n",
       "      <td>0.000000</td>\n",
       "      <td>0.105030</td>\n",
       "      <td>0.334247</td>\n",
       "      <td>0.000000</td>\n",
       "      <td>0.000000</td>\n",
       "      <td>0.000000</td>\n",
       "      <td>0.000000</td>\n",
       "      <td>0.130106</td>\n",
       "      <td>0.000000</td>\n",
       "      <td>0.164091</td>\n",
       "      <td>0.115268</td>\n",
       "      <td>0.000000</td>\n",
       "    </tr>\n",
       "    <tr>\n",
       "      <th>2</th>\n",
       "      <td>0.022223</td>\n",
       "      <td>0.022223</td>\n",
       "      <td>0.022223</td>\n",
       "      <td>0.022223</td>\n",
       "      <td>0.022223</td>\n",
       "      <td>0.022223</td>\n",
       "      <td>0.022223</td>\n",
       "      <td>0.022223</td>\n",
       "      <td>0.022223</td>\n",
       "      <td>0.022223</td>\n",
       "      <td>0.022223</td>\n",
       "      <td>0.022223</td>\n",
       "      <td>0.022223</td>\n",
       "      <td>0.022223</td>\n",
       "      <td>0.688879</td>\n",
       "    </tr>\n",
       "    <tr>\n",
       "      <th>3</th>\n",
       "      <td>0.000000</td>\n",
       "      <td>0.000000</td>\n",
       "      <td>0.000000</td>\n",
       "      <td>0.094640</td>\n",
       "      <td>0.000000</td>\n",
       "      <td>0.199823</td>\n",
       "      <td>0.000000</td>\n",
       "      <td>0.000000</td>\n",
       "      <td>0.000000</td>\n",
       "      <td>0.000000</td>\n",
       "      <td>0.688225</td>\n",
       "      <td>0.000000</td>\n",
       "      <td>0.000000</td>\n",
       "      <td>0.010456</td>\n",
       "      <td>0.000000</td>\n",
       "    </tr>\n",
       "    <tr>\n",
       "      <th>4</th>\n",
       "      <td>0.000000</td>\n",
       "      <td>0.000000</td>\n",
       "      <td>0.000000</td>\n",
       "      <td>0.000000</td>\n",
       "      <td>0.199595</td>\n",
       "      <td>0.374867</td>\n",
       "      <td>0.000000</td>\n",
       "      <td>0.000000</td>\n",
       "      <td>0.000000</td>\n",
       "      <td>0.179360</td>\n",
       "      <td>0.185052</td>\n",
       "      <td>0.000000</td>\n",
       "      <td>0.000000</td>\n",
       "      <td>0.000000</td>\n",
       "      <td>0.000000</td>\n",
       "    </tr>\n",
       "  </tbody>\n",
       "</table>\n",
       "</div>"
      ],
      "text/plain": [
       "   daughter tablet Amazon app new  purchase Fire buy happy Amazon  \\\n",
       "0                        0.000000                        0.144406   \n",
       "1                        0.000000                        0.000000   \n",
       "2                        0.022223                        0.022223   \n",
       "3                        0.000000                        0.000000   \n",
       "4                        0.000000                        0.000000   \n",
       "\n",
       "   book tablet reader need read  old year tablet buy love  \\\n",
       "0                      0.000000                  0.000000   \n",
       "1                      0.139253                  0.000000   \n",
       "2                      0.022223                  0.022223   \n",
       "3                      0.000000                  0.094640   \n",
       "4                      0.000000                  0.000000   \n",
       "\n",
       "   music speaker sound Alexa great  love buy Kindle get Christmas  \\\n",
       "0                         0.000000                       0.000000   \n",
       "1                         0.105030                       0.334247   \n",
       "2                         0.022223                       0.022223   \n",
       "3                         0.000000                       0.199823   \n",
       "4                         0.199595                       0.374867   \n",
       "\n",
       "   tablet great good price use  great tablet screen easy size  \\\n",
       "0                     0.000000                       0.000000   \n",
       "1                     0.000000                       0.000000   \n",
       "2                     0.022223                       0.022223   \n",
       "3                     0.000000                       0.000000   \n",
       "4                     0.000000                       0.000000   \n",
       "\n",
       "   love kid great tablet use  easy use tablet app love  \\\n",
       "0                   0.747253                  0.000000   \n",
       "1                   0.000000                  0.000000   \n",
       "2                   0.022223                  0.022223   \n",
       "3                   0.000000                  0.000000   \n",
       "4                   0.000000                  0.179360   \n",
       "\n",
       "   gift great laptop member case  game play love watch book  \\\n",
       "0                       0.000000                   0.000000   \n",
       "1                       0.130106                   0.000000   \n",
       "2                       0.022223                   0.022223   \n",
       "3                       0.688225                   0.000000   \n",
       "4                       0.185052                   0.000000   \n",
       "\n",
       "   book read Kindle internet like  kindle light fire read love  \\\n",
       "0                        0.000000                     0.000000   \n",
       "1                        0.164091                     0.115268   \n",
       "2                        0.022223                     0.022223   \n",
       "3                        0.000000                     0.010456   \n",
       "4                        0.000000                     0.000000   \n",
       "\n",
       "   good price tablet product great  \n",
       "0                         0.000000  \n",
       "1                         0.000000  \n",
       "2                         0.688879  \n",
       "3                         0.000000  \n",
       "4                         0.000000  "
      ]
     },
     "execution_count": 32,
     "metadata": {},
     "output_type": "execute_result"
    }
   ],
   "source": [
    "doc_topics.head()"
   ]
  },
  {
   "cell_type": "code",
   "execution_count": 33,
   "metadata": {},
   "outputs": [],
   "source": [
    "doc_topics['primary_topic'] = doc_topics.idxmax(axis=1)"
   ]
  },
  {
   "cell_type": "code",
   "execution_count": 34,
   "metadata": {},
   "outputs": [
    {
     "data": {
      "text/plain": [
       "love kid great tablet use          1768\n",
       "great tablet screen easy size      1364\n",
       "tablet great good price use        1266\n",
       "old year tablet buy love           1237\n",
       "love buy Kindle get Christmas      1096\n",
       "game play love watch book          1078\n",
       "good price tablet product great    1068\n",
       "purchase Fire buy happy Amazon      938\n",
       "easy use tablet app love            769\n",
       "kindle light fire read love         686\n",
       "music speaker sound Alexa great     638\n",
       "book tablet reader need read        608\n",
       "daughter tablet Amazon app new      579\n",
       "book read Kindle internet like      535\n",
       "gift great laptop member case       365\n",
       "Name: primary_topic, dtype: int64"
      ]
     },
     "execution_count": 34,
     "metadata": {},
     "output_type": "execute_result"
    }
   ],
   "source": [
    "doc_topics['primary_topic'].value_counts()"
   ]
  },
  {
   "cell_type": "markdown",
   "metadata": {},
   "source": [
    "## Selecting the Number of Topics"
   ]
  },
  {
   "cell_type": "code",
   "execution_count": 37,
   "metadata": {},
   "outputs": [],
   "source": [
    "from gensim.models.coherencemodel import CoherenceModel\n",
    "\n",
    "def compute_coherence_values(dictionary, corpus, limit, start=2, step=3, passes=5):\n",
    "    \"\"\"\n",
    "    Compute u_mass coherence for various number of topics\n",
    "\n",
    "    Parameters:\n",
    "    ----------\n",
    "    dictionary : Gensim dictionary\n",
    "    corpus : Gensim corpus\n",
    "    limit : Max num of topics\n",
    "    passes: the number of times the entire lda model & coherence values are calculated\n",
    "\n",
    "    Returns:\n",
    "    -------\n",
    "    coherence_values : Coherence values corresponding to the LDA model with respective number of topics\n",
    "    \"\"\"\n",
    "    \n",
    "    coherence_values = []\n",
    "    \n",
    "    for iter_ in range(passes):\n",
    "        for num_topics in range(start, limit, step):\n",
    "            model = LdaMulticore(corpus=corpus, num_topics=num_topics, id2word=dictionary, workers=12)\n",
    "            coherencemodel = CoherenceModel(model=model,dictionary=dictionary,corpus=corpus, coherence='u_mass')\n",
    "            coherence_values.append({'pass': iter_, \n",
    "                                     'num_topics': num_topics, \n",
    "                                     'coherence_score': coherencemodel.get_coherence()\n",
    "                                    })\n",
    "\n",
    "    return coherence_values"
   ]
  },
  {
   "cell_type": "code",
   "execution_count": 39,
   "metadata": {},
   "outputs": [],
   "source": [
    "coherence_values = compute_coherence_values(dictionary=id2word, \n",
    "                                                        corpus=corpus,\n",
    "                                                        start=3, \n",
    "                                                        limit=40, \n",
    "                                                        step=2,\n",
    "                                                        passes=1)"
   ]
  },
  {
   "cell_type": "code",
   "execution_count": 40,
   "metadata": {},
   "outputs": [],
   "source": [
    "topic_coherence = pd.DataFrame.from_records(coherence_values)"
   ]
  },
  {
   "cell_type": "code",
   "execution_count": 41,
   "metadata": {},
   "outputs": [
    {
     "data": {
      "text/html": [
       "<div>\n",
       "<style scoped>\n",
       "    .dataframe tbody tr th:only-of-type {\n",
       "        vertical-align: middle;\n",
       "    }\n",
       "\n",
       "    .dataframe tbody tr th {\n",
       "        vertical-align: top;\n",
       "    }\n",
       "\n",
       "    .dataframe thead th {\n",
       "        text-align: right;\n",
       "    }\n",
       "</style>\n",
       "<table border=\"1\" class=\"dataframe\">\n",
       "  <thead>\n",
       "    <tr style=\"text-align: right;\">\n",
       "      <th></th>\n",
       "      <th>pass</th>\n",
       "      <th>num_topics</th>\n",
       "      <th>coherence_score</th>\n",
       "    </tr>\n",
       "  </thead>\n",
       "  <tbody>\n",
       "    <tr>\n",
       "      <th>0</th>\n",
       "      <td>0</td>\n",
       "      <td>3</td>\n",
       "      <td>-2.206471</td>\n",
       "    </tr>\n",
       "    <tr>\n",
       "      <th>1</th>\n",
       "      <td>0</td>\n",
       "      <td>5</td>\n",
       "      <td>-2.171154</td>\n",
       "    </tr>\n",
       "    <tr>\n",
       "      <th>2</th>\n",
       "      <td>0</td>\n",
       "      <td>7</td>\n",
       "      <td>-2.158806</td>\n",
       "    </tr>\n",
       "    <tr>\n",
       "      <th>3</th>\n",
       "      <td>0</td>\n",
       "      <td>9</td>\n",
       "      <td>-2.194262</td>\n",
       "    </tr>\n",
       "    <tr>\n",
       "      <th>4</th>\n",
       "      <td>0</td>\n",
       "      <td>11</td>\n",
       "      <td>-2.232795</td>\n",
       "    </tr>\n",
       "  </tbody>\n",
       "</table>\n",
       "</div>"
      ],
      "text/plain": [
       "   pass  num_topics  coherence_score\n",
       "0     0           3        -2.206471\n",
       "1     0           5        -2.171154\n",
       "2     0           7        -2.158806\n",
       "3     0           9        -2.194262\n",
       "4     0          11        -2.232795"
      ]
     },
     "execution_count": 41,
     "metadata": {},
     "output_type": "execute_result"
    }
   ],
   "source": [
    "topic_coherence.head()"
   ]
  },
  {
   "cell_type": "code",
   "execution_count": 42,
   "metadata": {},
   "outputs": [
    {
     "data": {
      "image/png": "[encoded data removed]",
      "text/plain": [
       "<Figure size 432x288 with 1 Axes>"
      ]
     },
     "metadata": {
      "needs_background": "light"
     },
     "output_type": "display_data"
    }
   ],
   "source": [
    "import seaborn as sns\n",
    " \n",
    "ax = sns.lineplot(x=\"num_topics\", y=\"coherence_score\", data=topic_coherence)"
   ]
  },
  {
   "cell_type": "code",
   "execution_count": null,
   "metadata": {},
   "outputs": [],
   "source": []
  },
  {
   "cell_type": "code",
   "execution_count": null,
   "metadata": {},
   "outputs": [],
   "source": []
  },
  {
   "cell_type": "code",
   "execution_count": null,
   "metadata": {},
   "outputs": [],
   "source": []
  },
  {
   "cell_type": "code",
   "execution_count": null,
   "metadata": {},
   "outputs": [],
   "source": []
  },
  {
   "cell_type": "markdown",
   "metadata": {},
   "source": [
    "## Stretch Goals\n",
    "\n",
    "* Incorporate Named Entity Recognition in your analysis\n",
    "* Incorporate some custom pre-processing from our previous lessons (like spacy lemmatization)\n",
    "* Analyze a dataset of interest to you with topic modeling"
   ]
  }
 ],
 "metadata": {
  "kernelspec": {
   "display_name": "U4-S1-NLP (Python3)",
   "language": "python",
   "name": "u4-s1-nlp"
  },
  "language_info": {
   "codemirror_mode": {
    "name": "ipython",
    "version": 3
   },
   "file_extension": ".py",
   "mimetype": "text/x-python",
   "name": "python",
   "nbconvert_exporter": "python",
   "pygments_lexer": "ipython3",
   "version": "3.7.0"
  }
 },
 "nbformat": 4,
 "nbformat_minor": 4
}
